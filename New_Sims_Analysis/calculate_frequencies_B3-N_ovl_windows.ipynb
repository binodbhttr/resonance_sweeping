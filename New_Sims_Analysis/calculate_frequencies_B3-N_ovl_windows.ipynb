{
 "cells": [
  {
   "cell_type": "code",
   "execution_count": 11,
   "source": [
    "#!cp ../rmcclure/procedure.py ."
   ],
   "outputs": [],
   "metadata": {}
  },
  {
   "cell_type": "code",
   "execution_count": 16,
   "source": [
    "import numpy as np \n",
    "import pickle\n",
    "from superfreq import SuperFreq\n",
    "from matplotlib import pyplot as plt\n",
    "from galpy.util import bovy_coords as coords\n",
    "import gala.dynamics as gd\n",
    "import astropy.units as u\n",
    "import gala.coordinates as gc\n",
    "import os\n",
    "import sys\n",
    "from procedure import *\n",
    "import pandas as pd"
   ],
   "outputs": [],
   "metadata": {}
  },
  {
   "cell_type": "code",
   "execution_count": 17,
   "source": [
    "!pwd"
   ],
   "outputs": [
    {
     "output_type": "stream",
     "name": "stdout",
     "text": [
      "/mnt/home/bbhattarai\n"
     ]
    }
   ],
   "metadata": {}
  },
  {
   "cell_type": "code",
   "execution_count": 18,
   "source": [
    "times=np.genfromtxt(path+'times.txt',dtype='str')\n",
    "print(\"Total snapshots present is\",len(times))\n",
    "snapshot_start=0\n",
    "snapshot_end=len(times)"
   ],
   "outputs": [
    {
     "output_type": "stream",
     "name": "stdout",
     "text": [
      "Total snapshots present is 1188\n"
     ]
    }
   ],
   "metadata": {}
  },
  {
   "cell_type": "code",
   "execution_count": 19,
   "source": [
    "!hostname"
   ],
   "outputs": [
    {
     "output_type": "stream",
     "name": "stdout",
     "text": [
      "pcn-9-38\n"
     ]
    }
   ],
   "metadata": {}
  },
  {
   "cell_type": "code",
   "execution_count": 6,
   "source": [
    "plotpath=\"/mnt/home/bbhattarai/resonance_sweeping/New_Sims_Analysis/plots/\""
   ],
   "outputs": [],
   "metadata": {}
  },
  {
   "cell_type": "code",
   "execution_count": 13,
   "source": [
    "snapshot=1000\n",
    "snaparr = loadwholesnap(path,snapshot)\n",
    "print(\"These are the data we have\",snaparr[0].dtype)\n",
    "idd=snaparr['idd']\n",
    "x=snaparr['x']\n",
    "y=snaparr['y']\n",
    "z=snaparr['z']\n",
    "vx=snaparr['vx']\n",
    "vy=snaparr['vy']\n",
    "vz=snaparr['vz']  \n",
    "mass=snaparr['mass']  #mass is in solar mass (change old mass calculations to take account of the factor 2.324876e9)\n",
    "\n",
    "vr=snaparr['vr']\n",
    "vphi=snaparr['vphi']\n",
    "vzz=snaparr['vzz']\n",
    "r=snaparr['r']\n",
    "phi=snaparr['phi'] #phi is in radians\n",
    "zz=snaparr['zz']\n",
    "\n",
    "#converting phi to degrees\n",
    "phi_degrees=np.rad2deg(phi)"
   ],
   "outputs": [
    {
     "output_type": "stream",
     "name": "stdout",
     "text": [
      "These are the data we have [('t', '<f8'), ('x', '<f4'), ('y', '<f4'), ('z', '<f4'), ('vx', '<f4'), ('vy', '<f4'), ('vz', '<f4'), ('vr', '<f4'), ('vphi', '<f4'), ('vzz', '<f4'), ('r', '<f4'), ('phi', '<f4'), ('zz', '<f4'), ('mass', '<f4'), ('idd', '<u8')]\n"
     ]
    }
   ],
   "metadata": {}
  },
  {
   "cell_type": "markdown",
   "source": [
    "# Selecting the solar neighborhood"
   ],
   "metadata": {}
  },
  {
   "cell_type": "code",
   "execution_count": 20,
   "source": [
    "keep_sn=(x<8.2)*(x>7.8)*(y<0.5)*(y>-0.5)*(z<0.5)*(z>-0.5)"
   ],
   "outputs": [],
   "metadata": {}
  },
  {
   "cell_type": "code",
   "execution_count": 21,
   "source": [
    "np.sum(keep_sn)"
   ],
   "outputs": [
    {
     "output_type": "execute_result",
     "data": {
      "text/plain": [
       "69260"
      ]
     },
     "metadata": {},
     "execution_count": 21
    }
   ],
   "metadata": {}
  },
  {
   "cell_type": "code",
   "execution_count": 26,
   "source": [
    "freq_path=\"/mnt/home/bbhattarai/resonance_sweeping/New_Sims_Analysis/freq_data/\"\n",
    "\n",
    "column=[\"t\", \"omega_r\",\"omega_phi\",\"omega_z\"] #column to store the data\n",
    "\n",
    "idd_keep=idd[keep_sn] #narrowing the particle ids to solar neighborhood only\n",
    "ndim=6 # dimension of phase space\n",
    "keep_small=idd_keep[1000:1001] #selecting a group of 15 particles for test, change it \n",
    "\n",
    "for i in range(len(keep_small)):\n",
    "    \n",
    "    test_particle=keep_small[i]  #test paticle to look at\n",
    "    df = pd.DataFrame(columns=column)\n",
    "    for j in range(40,1040,40):\n",
    "        #print(\"looking orbits of particle:\",i)\n",
    "        \n",
    "        test = loadonesource(path,test_particle,start=j-40,finish=j+40) # do it for 200 Myr\n",
    "        \n",
    "        #calculate frequencies every 200 Myrs (0-200, 200-400, 400-600, 600-800 in time (Myrs)) (0-40. 40-80..... in snapshots)\n",
    "        x_test=test['x'].astype(np.float64)\n",
    "        y_test=test['y'].astype(np.float64)\n",
    "        z_test=test['z'].astype(np.float64)\n",
    "        vx_test=test['vx'].astype(np.float64)\n",
    "        vy_test=test['vy'].astype(np.float64)\n",
    "        vz_test=test['vz'].astype(np.float64)\n",
    "        vphi_test=test['vphi'].astype(np.float64)\n",
    "        mass_test=test['mass'].astype(np.float64)\n",
    "        r_test=test['r'].astype(np.float64)\n",
    "        t=test['t'].astype(np.float64)\n",
    "\n",
    "        w1 = gd.Orbit(\n",
    "            pos=[x_test,y_test,z_test] * u.kpc,\n",
    "            vel=[vx_test,vy_test,vz_test] * u.km/u.s,\n",
    "            t=t*u.Gyr\n",
    "        )\n",
    "\n",
    "        w=w1.w([u.kpc,u.Gyr,u.Msun])\n",
    "        ntimes= w1.shape\n",
    "        \n",
    "        vphi_signs=np.sum(np.sign(vphi))\n",
    "        if (abs(vphi_signs))==len(vphi): # Lz= vphi*r so checking of vphi is enough\n",
    "            pp = gc.cartesian_to_poincare_polar(w1.w([u.kpc,u.Gyr,u.Msun]).T).T # use it if we have loop orbits i.e if Lz doesn't change sign\n",
    "            sf = SuperFreq(t)\n",
    "            fs = [(pp[i] * 1j*pp[i+ndim//2]) for i in range(ndim//2)] #when using pp\n",
    "\n",
    "        else:\n",
    "            sf = SuperFreq(t)\n",
    "            fs = [(w[i] * 1j*w[i+ndim//2]) for i in range(ndim//2)]   #without using pp\n",
    "        #fs = [(w[i] * 1j*w[i+ndim//2]) for i in range(ndim//2)]   #without using pp\n",
    "\n",
    "        result = sf.find_fundamental_frequencies(fs)\n",
    "        freqs = result.fund_freqs\n",
    "        row=[float(times[j-20][11:-2])/1000*9.778145,freqs[0],freqs[1],freqs[2]]\n",
    "        row_data = pd.Series(row, index = df.columns)\n",
    "        df = df.append(row_data, ignore_index=True)\n",
    "        #print(\"Done: \",freqs)\n",
    "    file_name=\"particle_\"+str(i)+\"_freqs_400Myr_range_with_pp_rolling_window.csv\"\n",
    "    df.to_csv(freq_path+file_name, encoding='utf-8', index=False)\n",
    "    del df\n",
    "\n"
   ],
   "outputs": [],
   "metadata": {}
  },
  {
   "cell_type": "code",
   "execution_count": 27,
   "source": [
    "print(test_particle)"
   ],
   "outputs": [
    {
     "output_type": "stream",
     "name": "stdout",
     "text": [
      "224229408\n"
     ]
    }
   ],
   "metadata": {}
  },
  {
   "cell_type": "markdown",
   "source": [
    "# Plotting frequencies"
   ],
   "metadata": {}
  },
  {
   "cell_type": "code",
   "execution_count": 28,
   "source": [
    "filenames=[\"particle_\"+str(f)+\"_freqs_400Myr_range_with_pp_rolling_window.csv\" for f in range(0,1)]\n",
    "df_r=pd.read_csv(freq_path+filenames[0])\n"
   ],
   "outputs": [],
   "metadata": {}
  },
  {
   "cell_type": "code",
   "execution_count": 29,
   "source": [
    "df_r.head()"
   ],
   "outputs": [
    {
     "output_type": "execute_result",
     "data": {
      "text/plain": [
       "          t     omega_r  omega_phi     omega_z\n",
       "0  0.100006  -65.995771  66.119386  160.347627\n",
       "1  0.300001   72.089522  73.093753  170.598735\n",
       "2  0.500010  -84.098392  82.576654 -203.598305\n",
       "3  0.700011 -105.182446 -73.306476 -276.431960\n",
       "4  0.900010  -61.413901 -64.518034  143.261724"
      ],
      "text/html": [
       "<div>\n",
       "<style scoped>\n",
       "    .dataframe tbody tr th:only-of-type {\n",
       "        vertical-align: middle;\n",
       "    }\n",
       "\n",
       "    .dataframe tbody tr th {\n",
       "        vertical-align: top;\n",
       "    }\n",
       "\n",
       "    .dataframe thead th {\n",
       "        text-align: right;\n",
       "    }\n",
       "</style>\n",
       "<table border=\"1\" class=\"dataframe\">\n",
       "  <thead>\n",
       "    <tr style=\"text-align: right;\">\n",
       "      <th></th>\n",
       "      <th>t</th>\n",
       "      <th>omega_r</th>\n",
       "      <th>omega_phi</th>\n",
       "      <th>omega_z</th>\n",
       "    </tr>\n",
       "  </thead>\n",
       "  <tbody>\n",
       "    <tr>\n",
       "      <th>0</th>\n",
       "      <td>0.100006</td>\n",
       "      <td>-65.995771</td>\n",
       "      <td>66.119386</td>\n",
       "      <td>160.347627</td>\n",
       "    </tr>\n",
       "    <tr>\n",
       "      <th>1</th>\n",
       "      <td>0.300001</td>\n",
       "      <td>72.089522</td>\n",
       "      <td>73.093753</td>\n",
       "      <td>170.598735</td>\n",
       "    </tr>\n",
       "    <tr>\n",
       "      <th>2</th>\n",
       "      <td>0.500010</td>\n",
       "      <td>-84.098392</td>\n",
       "      <td>82.576654</td>\n",
       "      <td>-203.598305</td>\n",
       "    </tr>\n",
       "    <tr>\n",
       "      <th>3</th>\n",
       "      <td>0.700011</td>\n",
       "      <td>-105.182446</td>\n",
       "      <td>-73.306476</td>\n",
       "      <td>-276.431960</td>\n",
       "    </tr>\n",
       "    <tr>\n",
       "      <th>4</th>\n",
       "      <td>0.900010</td>\n",
       "      <td>-61.413901</td>\n",
       "      <td>-64.518034</td>\n",
       "      <td>143.261724</td>\n",
       "    </tr>\n",
       "  </tbody>\n",
       "</table>\n",
       "</div>"
      ]
     },
     "metadata": {},
     "execution_count": 29
    }
   ],
   "metadata": {}
  },
  {
   "cell_type": "code",
   "execution_count": 12,
   "source": [
    "for i in range(1):\n",
    "    df_r=pd.read_csv(freq_path+filenames[i])\n",
    "    fig1=plt.figure(figsize=(8,3))\n",
    "    ax=fig1.add_subplot(111)\n",
    "    #ax.plot(df_r.t,df_r.omega_r,c='red',label=\"$\\omega$$_R$\")\n",
    "    #ax.plot(df_r.t,df_r.omega_phi,c='purple',label=\"$\\omega$$_$\\phi$$\")\n",
    "    #ax.plot(df_r.t,df_r.omega_z,c=\"black\",label=\"v$\\omega$R\")\n",
    "    #ax.text(4,200,\"Particle: \"+str(i))\n",
    "    ax.set_title(\"Particle: \"+str(i))\n",
    "    ax.plot(df_r.t,abs(df_r.omega_r),c='red',label=\"$\\Omega$$_R$\")\n",
    "    ax.plot(df_r.t,abs(df_r.omega_phi),c='purple',label=\"$\\Omega$$_\\phi$\")\n",
    "    ax.plot(df_r.t,abs(df_r.omega_z),c=\"black\",label=\"$\\Omega$$_z$\")\n",
    "    ax.legend(bbox_to_anchor=(1.00,0.82), loc='center left',markerscale=9)\n",
    "    ax.set_xlabel(\"Time (Gyr)\")\n",
    "    #ax.set_xlim(0,2)\n",
    "    ax.set_ylabel(r\"Frequency\")\n",
    "    plotname=\"particle_\"+str(i)+\"_freqs_over_time_400Myr_range_with_pp_abs_rolling_window.jpg\"\n",
    "    fig1.savefig(plotpath+plotname,bbox_inches=\"tight\",dpi=150)\n",
    "    print(\"Plot generated and saved to file: \",plotname)\n",
    "    #plt.show()"
   ],
   "outputs": [
    {
     "output_type": "stream",
     "name": "stdout",
     "text": [
      "Plot generated and saved to file:  particle_0_freqs_over_time_200Myr_range_with_pp_abs_rolling_window.jpg\n"
     ]
    },
    {
     "output_type": "display_data",
     "data": {
      "text/plain": [
       "<Figure size 576x216 with 1 Axes>"
      ],
      "image/png": "[encoded data removed]"
     },
     "metadata": {
      "needs_background": "light"
     }
    }
   ],
   "metadata": {}
  },
  {
   "cell_type": "code",
   "execution_count": null,
   "source": [],
   "outputs": [],
   "metadata": {}
  },
  {
   "cell_type": "code",
   "execution_count": null,
   "source": [],
   "outputs": [],
   "metadata": {}
  }
 ],
 "metadata": {
  "orig_nbformat": 4,
  "kernelspec": {
   "name": "python3",
   "display_name": "Python 3",
   "language": "python"
  },
  "language_info": {
   "name": "python",
   "version": "3.7.3",
   "mimetype": "text/x-python",
   "codemirror_mode": {
    "name": "ipython",
    "version": 3
   },
   "pygments_lexer": "ipython3",
   "nbconvert_exporter": "python",
   "file_extension": ".py"
  }
 },
 "nbformat": 4,
 "nbformat_minor": 2
}