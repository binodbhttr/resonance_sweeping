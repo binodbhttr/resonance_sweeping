{
 "cells": [
  {
   "cell_type": "code",
   "execution_count": 26,
   "source": [
    "#cp ../rmcclure/procedure.py ."
   ],
   "outputs": [],
   "metadata": {}
  },
  {
   "cell_type": "code",
   "execution_count": 1,
   "source": [
    "import numpy as np \n",
    "import pickle\n",
    "from superfreq import SuperFreq\n",
    "from matplotlib import pyplot as plt\n",
    "from galpy.util import bovy_coords as coords\n",
    "import gala.dynamics as gd\n",
    "import astropy.units as u\n",
    "import gala.coordinates as gc\n",
    "import os\n",
    "import sys\n",
    "from procedure import *\n",
    "import pandas as pd"
   ],
   "outputs": [
    {
     "output_type": "stream",
     "name": "stdout",
     "text": [
      "/mnt/home/bbhattarai/.local/lib/python3.7/site-packages/galpy/util/bovy_coords.py:6: FutureWarning: galpy.util.bovy_coords is being deprecated in favor of galpy.util.coords; all functions in there are the same; please switch to the new import, because the old import will be removed in v1.9\n",
      "  warnings.warn('galpy.util.bovy_coords is being deprecated in favor of galpy.util.coords; all functions in there are the same; please switch to the new import, because the old import will be removed in v1.9',FutureWarning)\n",
      "\n",
      "start at: 2021-08-05 13:01:47.359371\n",
      "end at: 2021-08-05 13:01:47.360801\n"
     ]
    }
   ],
   "metadata": {}
  },
  {
   "cell_type": "code",
   "execution_count": 2,
   "source": [
    "!pwd"
   ],
   "outputs": [
    {
     "output_type": "stream",
     "name": "stdout",
     "text": [
      "/mnt/home/bbhattarai\n"
     ]
    }
   ],
   "metadata": {}
  },
  {
   "cell_type": "code",
   "execution_count": 3,
   "source": [
    "times=np.genfromtxt(path+'times.txt',dtype='str')\n",
    "print(\"Total snapshots present is\",len(times))\n",
    "snapshot_start=0\n",
    "snapshot_end=len(times)"
   ],
   "outputs": [
    {
     "output_type": "stream",
     "name": "stdout",
     "text": [
      "Total snapshots present is 1265\n"
     ]
    }
   ],
   "metadata": {}
  },
  {
   "cell_type": "code",
   "execution_count": 4,
   "source": [
    "!hostname"
   ],
   "outputs": [
    {
     "output_type": "stream",
     "name": "stdout",
     "text": [
      "pcn-9-59\n"
     ]
    }
   ],
   "metadata": {}
  },
  {
   "cell_type": "code",
   "execution_count": 5,
   "source": [
    "plotpath=\"/mnt/home/bbhattarai/resonance_sweeping/New_Sims_Analysis/plots/\""
   ],
   "outputs": [],
   "metadata": {}
  },
  {
   "cell_type": "code",
   "execution_count": 6,
   "source": [
    "snapshot=1000\n",
    "snaparr = loadwholesnap(path,snapshot)\n",
    "print(\"These are the data we have\",snaparr[0].dtype)\n",
    "idd=snaparr['idd']\n",
    "x=snaparr['x']\n",
    "y=snaparr['y']\n",
    "z=snaparr['z']\n",
    "vx=snaparr['vx']\n",
    "vy=snaparr['vy']\n",
    "vz=snaparr['vz']  \n",
    "mass=snaparr['mass']  #mass is in solar mass (change old mass calculations to take account of the factor 2.324876e9)\n",
    "\n",
    "vr=snaparr['vr']\n",
    "vphi=snaparr['vphi']\n",
    "vzz=snaparr['vzz']\n",
    "r=snaparr['r']\n",
    "phi=snaparr['phi'] #phi is in radians\n",
    "zz=snaparr['zz']\n",
    "\n",
    "#converting phi to degrees\n",
    "phi_degrees=np.rad2deg(phi)"
   ],
   "outputs": [
    {
     "output_type": "stream",
     "name": "stdout",
     "text": [
      "These are the data we have [('t', '<f8'), ('x', '<f4'), ('y', '<f4'), ('z', '<f4'), ('vx', '<f4'), ('vy', '<f4'), ('vz', '<f4'), ('vr', '<f4'), ('vphi', '<f4'), ('vzz', '<f4'), ('r', '<f4'), ('phi', '<f4'), ('zz', '<f4'), ('mass', '<f4'), ('idd', '<u8')]\n"
     ]
    }
   ],
   "metadata": {}
  },
  {
   "cell_type": "markdown",
   "source": [
    "# Selecting the solar neighborhood"
   ],
   "metadata": {}
  },
  {
   "cell_type": "code",
   "execution_count": 10,
   "source": [
    "keep_sn=(x<8.2)*(x>7.8)*(y<0.5)*(y>-0.5)*(z<0.5)*(z>-0.5)"
   ],
   "outputs": [],
   "metadata": {}
  },
  {
   "cell_type": "code",
   "execution_count": 8,
   "source": [
    "np.sum(keep_sn)"
   ],
   "outputs": [
    {
     "output_type": "execute_result",
     "data": {
      "text/plain": [
       "69260"
      ]
     },
     "metadata": {},
     "execution_count": 8
    }
   ],
   "metadata": {}
  },
  {
   "cell_type": "code",
   "execution_count": 9,
   "source": [
    "freq_path=\"/mnt/home/bbhattarai/resonance_sweeping/New_Sims_Analysis/freq_data/\"\n",
    "\n",
    "column=[\"t\", \"omega_r\",\"omega_phi\",\"omega_z\"] #column to store the data\n",
    "\n",
    "idd_keep=idd[keep_sn] #narrowing the particle ids to solar neighborhood only\n",
    "ndim=6 # dimension of phase space\n",
    "keep_small=idd_keep[1000:1001] #selecting a group of 15 particles for test, change it \n",
    "\n",
    "for i in range(len(keep_small)):\n",
    "    \n",
    "    test_particle=keep_small[i]  #test paticle to look at\n",
    "    df = pd.DataFrame(columns=column)\n",
    "    for j in range(40,1040,40):\n",
    "        #print(\"looking orbits of particle:\",i)\n",
    "        \n",
    "        test = loadonesource(path,test_particle,start=j-40,finish=j+40) # do it for 200 Myr\n",
    "        \n",
    "        #calculate frequencies every 200 Myrs (0-200, 200-400, 400-600, 600-800 in time (Myrs)) (0-40. 40-80..... in snapshots)\n",
    "        x_test=test['x'].astype(np.float64)\n",
    "        y_test=test['y'].astype(np.float64)\n",
    "        z_test=test['z'].astype(np.float64)\n",
    "        vx_test=test['vx'].astype(np.float64)\n",
    "        vy_test=test['vy'].astype(np.float64)\n",
    "        vz_test=test['vz'].astype(np.float64)\n",
    "        vphi_test=test['vphi'].astype(np.float64)\n",
    "        mass_test=test['mass'].astype(np.float64)\n",
    "        r_test=test['r'].astype(np.float64)\n",
    "        t=test['t'].astype(np.float64)\n",
    "\n",
    "        w1 = gd.Orbit(\n",
    "            pos=[x_test,y_test,z_test] * u.kpc,\n",
    "            vel=[vx_test,vy_test,vz_test] * u.km/u.s,\n",
    "            t=t*u.Gyr\n",
    "        )\n",
    "\n",
    "        w=w1.w([u.kpc,u.Gyr,u.Msun])\n",
    "        ntimes= w1.shape\n",
    "        \n",
    "        vphi_signs=np.sum(np.sign(vphi_test))\n",
    "        if (abs(vphi_signs))==len(vphi_test): # Lz= vphi*r so checking of vphi is enough\n",
    "            pp = gc.cartesian_to_poincare_polar(w1.w([u.kpc,u.Gyr,u.Msun]).T).T # use it if we have loop orbits i.e if Lz doesn't change sign\n",
    "            sf = SuperFreq(t)\n",
    "            fs = [(pp[i] * 1j*pp[i+ndim//2]) for i in range(ndim//2)] #when using pp\n",
    "\n",
    "        else:\n",
    "            sf = SuperFreq(t)\n",
    "            fs = [(w[i] * 1j*w[i+ndim//2]) for i in range(ndim//2)]   #without using pp\n",
    "        #fs = [(w[i] * 1j*w[i+ndim//2]) for i in range(ndim//2)]   #without using pp\n",
    "\n",
    "        result = sf.find_fundamental_frequencies(fs)\n",
    "        freqs = result.fund_freqs\n",
    "        row=[float(times[j-20][11:-2])/1000*9.778145,freqs[0],freqs[1],freqs[2]]\n",
    "        row_data = pd.Series(row, index = df.columns)\n",
    "        df = df.append(row_data, ignore_index=True)\n",
    "        #print(\"Done: \",freqs)\n",
    "    file_name=\"particle_\"+str(i)+\"_freqs_400Myr_range_with_pp_rolling_window.csv\"\n",
    "    df.to_csv(freq_path+file_name, encoding='utf-8', index=False)\n",
    "    del df\n",
    "\n"
   ],
   "outputs": [],
   "metadata": {}
  },
  {
   "cell_type": "markdown",
   "source": [
    "# testing the sign of v_phi"
   ],
   "metadata": {}
  },
  {
   "cell_type": "code",
   "execution_count": 18,
   "source": [
    "print(idd_keep)"
   ],
   "outputs": [
    {
     "output_type": "stream",
     "name": "stdout",
     "text": [
      "[116053017 212224727 176788202 ... 164245189 164121358  47710709]\n"
     ]
    }
   ],
   "metadata": {}
  },
  {
   "cell_type": "code",
   "execution_count": 22,
   "source": [
    "test_data = loadonesource(path,176788202,start=0,finish=200)\n",
    "\n",
    "print(test_data.dtype)\n",
    "vphi_t=test_data['vphi'].astype(np.float64)\n",
    "vx_t=test_data['vx'].astype(np.float64)\n",
    "plt.plot(vx_t)\n",
    "plt.title(\"vx\")\n"
   ],
   "outputs": [
    {
     "output_type": "stream",
     "name": "stdout",
     "text": [
      "ATTN: Enabled km/s units instead of 100km/s for velocities.\n",
      "[('t', '<f8'), ('x', '<f4'), ('y', '<f4'), ('z', '<f4'), ('vx', '<f4'), ('vy', '<f4'), ('vz', '<f4'), ('vr', '<f4'), ('vphi', '<f4'), ('vzz', '<f4'), ('r', '<f4'), ('phi', '<f4'), ('zz', '<f4'), ('mass', '<f4'), ('idd', '<u8')]\n"
     ]
    },
    {
     "output_type": "execute_result",
     "data": {
      "text/plain": [
       "Text(0.5, 1.0, 'vx')"
      ]
     },
     "metadata": {},
     "execution_count": 22
    },
    {
     "output_type": "display_data",
     "data": {
      "text/plain": [
       "<Figure size 432x288 with 1 Axes>"
      ],
      "image/png": "[encoded data removed]"
     },
     "metadata": {
      "needs_background": "light"
     }
    }
   ],
   "metadata": {}
  },
  {
   "cell_type": "code",
   "execution_count": 23,
   "source": [
    "print(test_particle)"
   ],
   "outputs": [
    {
     "output_type": "stream",
     "name": "stdout",
     "text": [
      "224229408\n"
     ]
    }
   ],
   "metadata": {}
  },
  {
   "cell_type": "markdown",
   "source": [
    "# Plotting frequencies"
   ],
   "metadata": {}
  },
  {
   "cell_type": "code",
   "execution_count": 24,
   "source": [
    "filenames=[\"particle_\"+str(f)+\"_freqs_400Myr_range_with_pp_rolling_window.csv\" for f in range(0,1)]\n",
    "df_r=pd.read_csv(freq_path+filenames[0])\n"
   ],
   "outputs": [],
   "metadata": {}
  },
  {
   "cell_type": "code",
   "execution_count": 29,
   "source": [
    "df_r.head()"
   ],
   "outputs": [
    {
     "output_type": "execute_result",
     "data": {
      "text/plain": [
       "          t     omega_r  omega_phi     omega_z\n",
       "0  0.100006  -65.995771  66.119386  160.347627\n",
       "1  0.300001   72.089522  73.093753  170.598735\n",
       "2  0.500010  -84.098392  82.576654 -203.598305\n",
       "3  0.700011 -105.182446 -73.306476 -276.431960\n",
       "4  0.900010  -61.413901 -64.518034  143.261724"
      ],
      "text/html": [
       "<div>\n",
       "<style scoped>\n",
       "    .dataframe tbody tr th:only-of-type {\n",
       "        vertical-align: middle;\n",
       "    }\n",
       "\n",
       "    .dataframe tbody tr th {\n",
       "        vertical-align: top;\n",
       "    }\n",
       "\n",
       "    .dataframe thead th {\n",
       "        text-align: right;\n",
       "    }\n",
       "</style>\n",
       "<table border=\"1\" class=\"dataframe\">\n",
       "  <thead>\n",
       "    <tr style=\"text-align: right;\">\n",
       "      <th></th>\n",
       "      <th>t</th>\n",
       "      <th>omega_r</th>\n",
       "      <th>omega_phi</th>\n",
       "      <th>omega_z</th>\n",
       "    </tr>\n",
       "  </thead>\n",
       "  <tbody>\n",
       "    <tr>\n",
       "      <th>0</th>\n",
       "      <td>0.100006</td>\n",
       "      <td>-65.995771</td>\n",
       "      <td>66.119386</td>\n",
       "      <td>160.347627</td>\n",
       "    </tr>\n",
       "    <tr>\n",
       "      <th>1</th>\n",
       "      <td>0.300001</td>\n",
       "      <td>72.089522</td>\n",
       "      <td>73.093753</td>\n",
       "      <td>170.598735</td>\n",
       "    </tr>\n",
       "    <tr>\n",
       "      <th>2</th>\n",
       "      <td>0.500010</td>\n",
       "      <td>-84.098392</td>\n",
       "      <td>82.576654</td>\n",
       "      <td>-203.598305</td>\n",
       "    </tr>\n",
       "    <tr>\n",
       "      <th>3</th>\n",
       "      <td>0.700011</td>\n",
       "      <td>-105.182446</td>\n",
       "      <td>-73.306476</td>\n",
       "      <td>-276.431960</td>\n",
       "    </tr>\n",
       "    <tr>\n",
       "      <th>4</th>\n",
       "      <td>0.900010</td>\n",
       "      <td>-61.413901</td>\n",
       "      <td>-64.518034</td>\n",
       "      <td>143.261724</td>\n",
       "    </tr>\n",
       "  </tbody>\n",
       "</table>\n",
       "</div>"
      ]
     },
     "metadata": {},
     "execution_count": 29
    }
   ],
   "metadata": {}
  },
  {
   "cell_type": "code",
   "execution_count": 25,
   "source": [
    "for i in range(1):\n",
    "    df_r=pd.read_csv(freq_path+filenames[i])\n",
    "    fig1=plt.figure(figsize=(8,3))\n",
    "    ax=fig1.add_subplot(111)\n",
    "    #ax.plot(df_r.t,df_r.omega_r,c='red',label=\"$\\omega$$_R$\")\n",
    "    #ax.plot(df_r.t,df_r.omega_phi,c='purple',label=\"$\\omega$$_$\\phi$$\")\n",
    "    #ax.plot(df_r.t,df_r.omega_z,c=\"black\",label=\"v$\\omega$R\")\n",
    "    #ax.text(4,200,\"Particle: \"+str(i))\n",
    "    ax.set_title(\"Particle: \"+str(i))\n",
    "    ax.plot(df_r.t,abs(df_r.omega_r),c='red',label=\"$\\Omega$$_R$\")\n",
    "    ax.plot(df_r.t,abs(df_r.omega_phi),c='purple',label=\"$\\Omega$$_\\phi$\")\n",
    "    ax.plot(df_r.t,abs(df_r.omega_z),c=\"black\",label=\"$\\Omega$$_z$\")\n",
    "    ax.legend(bbox_to_anchor=(1.00,0.82), loc='center left',markerscale=9)\n",
    "    ax.set_xlabel(\"Time (Gyr)\")\n",
    "    #ax.set_xlim(0,2)\n",
    "    ax.set_ylabel(r\"Frequency\")\n",
    "    plotname=\"particle_\"+str(i)+\"_freqs_over_time_400Myr_range_with_pp_abs_rolling_window.jpg\"\n",
    "    fig1.savefig(plotpath+plotname,bbox_inches=\"tight\",dpi=150)\n",
    "    print(\"Plot generated and saved to file: \",plotname)\n",
    "    #plt.show()"
   ],
   "outputs": [
    {
     "output_type": "stream",
     "name": "stdout",
     "text": [
      "Plot generated and saved to file:  particle_0_freqs_over_time_400Myr_range_with_pp_abs_rolling_window.jpg\n"
     ]
    },
    {
     "output_type": "display_data",
     "data": {
      "text/plain": [
       "<Figure size 576x216 with 1 Axes>"
      ],
      "image/png": "[encoded data removed]"
     },
     "metadata": {
      "needs_background": "light"
     }
    }
   ],
   "metadata": {}
  },
  {
   "cell_type": "code",
   "execution_count": null,
   "source": [],
   "outputs": [],
   "metadata": {}
  },
  {
   "cell_type": "markdown",
   "source": [
    "# Adjusting the p value"
   ],
   "metadata": {}
  },
  {
   "cell_type": "code",
   "execution_count": 40,
   "source": [
    "column=[\"t\", \"omega_r\",\"omega_phi\",\"omega_z\"] #column to store the data\n",
    "\n",
    "ndim=6 # dimension of phase space\n",
    "p=1\n",
    "test_particle=224229408\n",
    "df = pd.DataFrame(columns=column)\n",
    "for j in range(0,1040,20):\n",
    "\n",
    "    test = loadonesource(path,test_particle,start=0,finish=j+20) # do it for 200 Myr\n",
    "    #calculate frequencies every 200 Myrs (0-200, 200-400, 400-600, 600-800 in time (Myrs)) (0-40. 40-80..... in snapshots)\n",
    "    x_test=test['x'].astype(np.float64)\n",
    "    y_test=test['y'].astype(np.float64)\n",
    "    z_test=test['z'].astype(np.float64)\n",
    "    vx_test=test['vx'].astype(np.float64)\n",
    "    vy_test=test['vy'].astype(np.float64)\n",
    "    vz_test=test['vz'].astype(np.float64)\n",
    "    vphi_test=test['vphi'].astype(np.float64)\n",
    "    mass_test=test['mass'].astype(np.float64)\n",
    "    r_test=test['r'].astype(np.float64)\n",
    "    t=test['t'].astype(np.float64)\n",
    "\n",
    "    w1 = gd.Orbit(\n",
    "        pos=[x_test,y_test,z_test] * u.kpc,\n",
    "        vel=[vx_test,vy_test,vz_test] * u.km/u.s,\n",
    "        t=t*u.Gyr\n",
    "    )\n",
    "\n",
    "    w=w1.w([u.kpc,u.Gyr,u.Msun])\n",
    "    ntimes= w1.shape\n",
    "    \n",
    "    vphi_signs=np.sum(np.sign(vphi_test))\n",
    "    if (abs(vphi_signs))==len(vphi_test): # Lz= vphi*r so checking of vphi is enough\n",
    "        pp = gc.cartesian_to_poincare_polar(w1.w([u.kpc,u.Gyr,u.Msun]).T).T # use it if we have loop orbits i.e if Lz doesn't change sign\n",
    "        sf = SuperFreq(t,p)\n",
    "        fs = [(pp[i] * 1j*pp[i+ndim//2]) for i in range(ndim//2)] #when using pp\n",
    "\n",
    "    else:\n",
    "        sf = SuperFreq(t,p)\n",
    "        fs = [(w[i] * 1j*w[i+ndim//2]) for i in range(ndim//2)]   #without using pp\n",
    "    #fs = [(w[i] * 1j*w[i+ndim//2]) for i in range(ndim//2)]   #without using pp\n",
    "\n",
    "    result = sf.find_fundamental_frequencies(fs)\n",
    "    freqs = result.fund_freqs\n",
    "    row=[float(times[j][11:-2])/1000*9.778145,freqs[0],freqs[1],freqs[2]]\n",
    "    row_data = pd.Series(row, index = df.columns)\n",
    "    df = df.append(row_data, ignore_index=True)\n",
    "    #print(\"Done: \",freqs)\n",
    "\n",
    "\n",
    "fig1=plt.figure(figsize=(8,3))\n",
    "ax=fig1.add_subplot(111)\n",
    "#ax.plot(df.t,df.omega_r,c='red',label=\"$\\omega$$_R$\")\n",
    "#ax.plot(df.t,df.omega_phi,c='purple',label=\"$\\omega$$_$\\phi$$\")\n",
    "#ax.plot(df.t,df.omega_z,c=\"black\",label=\"v$\\omega$R\")\n",
    "#ax.text(4,200,\"Particle: \"+str(i))\n",
    "ax.set_title(\"Particle: \"+str(i)+ \" p=\"+str(p))\n",
    "ax.plot(df.t,abs(df.omega_r),c='red',label=\"$\\Omega$$_R$\")\n",
    "ax.plot(df.t,abs(df.omega_phi),c='purple',label=\"$\\Omega$$_\\phi$\")\n",
    "ax.plot(df.t,abs(df.omega_z),c=\"black\",label=\"$\\Omega$$_z$\")\n",
    "ax.legend(bbox_to_anchor=(1.00,0.82), loc='center left',markerscale=9)\n",
    "ax.set_xlabel(\"Time (Gyr)\")\n",
    "#ax.set_xlim(0,2)\n",
    "ax.set_ylabel(r\"Frequency\")\n",
    "plotname=\"particle_\"+str(i)+\"_freqs_over_time_200Myr_range_with_pp_abs_rolling_window_p\"+str(p)+\".jpg\"\n",
    "fig1.savefig(plotpath+plotname,bbox_inches=\"tight\",dpi=150)\n",
    "print(\"Plot generated and saved to file: \",plotname)\n",
    "#plt.show()\n",
    "\n",
    "\n"
   ],
   "outputs": [
    {
     "output_type": "stream",
     "name": "stdout",
     "text": [
      "Plot generated and saved to file:  particle_40_freqs_over_time_200Myr_range_with_pp_abs_rolling_window_p1.jpg\n"
     ]
    },
    {
     "output_type": "display_data",
     "data": {
      "text/plain": [
       "<Figure size 576x216 with 1 Axes>"
      ],
      "image/png": "[encoded data removed]"
     },
     "metadata": {
      "needs_background": "light"
     }
    }
   ],
   "metadata": {}
  },
  {
   "cell_type": "code",
   "execution_count": 26,
   "source": [
    "print(df)"
   ],
   "outputs": [
    {
     "output_type": "stream",
     "name": "stdout",
     "text": [
      "           t    omega_r  omega_phi     omega_z\n",
      "0   5.840064  42.759263 -62.669986  154.344889\n",
      "1   0.100006  47.556100 -66.124958  160.347627\n",
      "2   0.300001  46.994830  68.066075  164.077295\n",
      "3   0.500010  54.026854  72.818236  167.547044\n",
      "4   0.700011  75.567452  76.283927  168.063169\n",
      "5   0.900010  75.454712  76.685246  169.199954\n",
      "6   1.100010 -55.798996 -76.632966  169.259396\n",
      "7   1.300015  55.845441  76.616763  138.474564\n",
      "8   1.500015  55.942885  57.302501 -138.125796\n",
      "9   1.700006  55.886110  57.236883 -136.972719\n",
      "10  1.900006  55.693972 -57.249334  136.710317\n",
      "11  2.100006 -55.520684 -57.610750  152.224860\n",
      "12  2.299997  55.376808 -58.420005 -152.066456\n",
      "13  2.499997 -55.258282 -58.733860  151.931187\n",
      "14  2.700006 -55.159214  58.958655  151.828896\n",
      "15  2.900006 -31.028049  59.004789 -151.780203\n",
      "16  3.100016  30.974975  58.947112  151.768059\n",
      "17  3.300016  30.956917  47.833920 -114.883047\n",
      "18  3.500017 -30.984869 -47.782987  152.451333\n",
      "19  3.700027 -31.038321 -47.757392 -115.019169\n",
      "20  3.900027 -31.115561  47.757919  115.146763\n",
      "21  4.100027  31.222675  47.752572 -115.236623\n",
      "22  4.300027  31.376111 -47.741983   62.109590\n",
      "23  4.500037  43.290464  47.745996   62.105697\n",
      "24  4.700037 -43.256006 -47.757385   62.144705\n",
      "25  4.900038 -43.143501  47.762787   62.267868\n"
     ]
    }
   ],
   "metadata": {}
  },
  {
   "cell_type": "code",
   "execution_count": null,
   "source": [],
   "outputs": [],
   "metadata": {}
  },
  {
   "cell_type": "markdown",
   "source": [
    "# Adjusting p value for rolling windows"
   ],
   "metadata": {}
  },
  {
   "cell_type": "code",
   "execution_count": 13,
   "source": [
    "column=[\"t\", \"omega_r\",\"omega_phi\",\"omega_z\"] #column to store the data\n",
    "\n",
    "ndim=6 # dimension of phase space\n",
    "p=3\n",
    "test_particle=224229408\n",
    "df = pd.DataFrame(columns=column)\n",
    "for j in range(40,1040,40):\n",
    "\n",
    "    test = loadonesource(path,test_particle,start=j-20,finish=j+20) # do it for 200 Myr\n",
    "    #calculate frequencies every 200 Myrs (0-200, 200-400, 400-600, 600-800 in time (Myrs)) (0-40. 40-80..... in snapshots)\n",
    "    x_test=test['x'].astype(np.float64)\n",
    "    y_test=test['y'].astype(np.float64)\n",
    "    z_test=test['z'].astype(np.float64)\n",
    "    vx_test=test['vx'].astype(np.float64)\n",
    "    vy_test=test['vy'].astype(np.float64)\n",
    "    vz_test=test['vz'].astype(np.float64)\n",
    "    vphi_test=test['vphi'].astype(np.float64)\n",
    "    mass_test=test['mass'].astype(np.float64)\n",
    "    r_test=test['r'].astype(np.float64)\n",
    "    t=test['t'].astype(np.float64)\n",
    "\n",
    "    w1 = gd.Orbit(\n",
    "        pos=[x_test,y_test,z_test] * u.kpc,\n",
    "        vel=[vx_test,vy_test,vz_test] * u.km/u.s,\n",
    "        t=t*u.Gyr\n",
    "    )\n",
    "\n",
    "    w=w1.w([u.kpc,u.Gyr,u.Msun])\n",
    "    ntimes= w1.shape\n",
    "    \n",
    "    vphi_signs=np.sum(np.sign(vphi_test))\n",
    "    if (abs(vphi_signs))==len(vphi_test): # Lz= vphi*r so checking of vphi is enough\n",
    "        pp = gc.cartesian_to_poincare_polar(w1.w([u.kpc,u.Gyr,u.Msun]).T).T # use it if we have loop orbits i.e if Lz doesn't change sign\n",
    "        sf = SuperFreq(t,p)\n",
    "        fs = [(pp[i] * 1j*pp[i+ndim//2]) for i in range(ndim//2)] #when using pp\n",
    "\n",
    "    else:\n",
    "        sf = SuperFreq(t,p)\n",
    "        fs = [(w[i] * 1j*w[i+ndim//2]) for i in range(ndim//2)]   #without using pp\n",
    "    #fs = [(w[i] * 1j*w[i+ndim//2]) for i in range(ndim//2)]   #without using pp\n",
    "\n",
    "    result = sf.find_fundamental_frequencies(fs)\n",
    "    freqs = result.fund_freqs\n",
    "    row=[float(times[j][11:-2])/1000*9.778145,freqs[0],freqs[1],freqs[2]]\n",
    "    row_data = pd.Series(row, index = df.columns)\n",
    "    df = df.append(row_data, ignore_index=True)\n",
    "    #print(\"Done: \",freqs)\n",
    "\n",
    "\n",
    "fig1=plt.figure(figsize=(8,3))\n",
    "ax=fig1.add_subplot(111)\n",
    "#ax.plot(df.t,df.omega_r,c='red',label=\"$\\omega$$_R$\")\n",
    "#ax.plot(df.t,df.omega_phi,c='purple',label=\"$\\omega$$_$\\phi$$\")\n",
    "#ax.plot(df.t,df.omega_z,c=\"black\",label=\"v$\\omega$R\")\n",
    "#ax.text(4,200,\"Particle: \"+str(i))\n",
    "ax.set_title(\"Particle: \"+str(i)+ \" p=\"+str(p))\n",
    "ax.plot(df.t,abs(df.omega_r),c='red',label=\"$\\Omega$$_R$\")\n",
    "ax.plot(df.t,abs(df.omega_phi),c='purple',label=\"$\\Omega$$_\\phi$\")\n",
    "ax.plot(df.t,abs(df.omega_z),c=\"black\",label=\"$\\Omega$$_z$\")\n",
    "ax.legend(bbox_to_anchor=(1.00,0.82), loc='center left',markerscale=9)\n",
    "ax.set_xlabel(\"Time (Gyr)\")\n",
    "#ax.set_xlim(0,2)\n",
    "ax.set_ylabel(r\"Frequency\")\n",
    "plotname=\"particle_\"+str(i)+\"_400Myr_range_abs_rolling_window_p\"+str(p)+\".jpg\"\n",
    "fig1.savefig(plotpath+plotname,bbox_inches=\"tight\",dpi=150)\n",
    "print(\"Plot generated and saved to file: \",plotname)\n",
    "#plt.show()\n"
   ],
   "outputs": [
    {
     "output_type": "stream",
     "name": "stdout",
     "text": [
      "Plot generated and saved to file:  particle_0_400Myr_range_abs_rolling_window_p3.jpg\n"
     ]
    },
    {
     "output_type": "display_data",
     "data": {
      "text/plain": [
       "<Figure size 576x216 with 1 Axes>"
      ],
      "image/png": "[encoded data removed]"
     },
     "metadata": {
      "needs_background": "light"
     }
    }
   ],
   "metadata": {}
  },
  {
   "cell_type": "code",
   "execution_count": null,
   "source": [],
   "outputs": [],
   "metadata": {}
  },
  {
   "cell_type": "code",
   "execution_count": 29,
   "source": [
    "column=[\"t\", \"omega_r\",\"omega_phi\",\"omega_z\"] #column to store the data\n",
    "\n",
    "ndim=6 # dimension of phase space\n",
    "p=3\n",
    "test_particle=176788202\n",
    "df = pd.DataFrame(columns=column)\n",
    "snapshot=700\n",
    "for j in range(1,14,1):\n",
    "    factor=j*25\n",
    "    test = loadonesource(path,test_particle,start=snapshot-factor,finish=snapshot+factor) # do it for 200 Myr\n",
    "    #calculate frequencies every 200 Myrs (0-200, 200-400, 400-600, 600-800 in time (Myrs)) (0-40. 40-80..... in snapshots)\n",
    "    x_test=test['x'].astype(np.float64)\n",
    "    y_test=test['y'].astype(np.float64)\n",
    "    z_test=test['z'].astype(np.float64)\n",
    "    vx_test=test['vx'].astype(np.float64)\n",
    "    vy_test=test['vy'].astype(np.float64)\n",
    "    vz_test=test['vz'].astype(np.float64)\n",
    "    vphi_test=test['vphi'].astype(np.float64)\n",
    "    mass_test=test['mass'].astype(np.float64)\n",
    "    r_test=test['r'].astype(np.float64)\n",
    "    t=test['t'].astype(np.float64)\n",
    "\n",
    "    w1 = gd.Orbit(\n",
    "        pos=[x_test,y_test,z_test] * u.kpc,\n",
    "        vel=[vx_test,vy_test,vz_test] * u.km/u.s,\n",
    "        t=t*u.Gyr\n",
    "    )\n",
    "\n",
    "    w=w1.w([u.kpc,u.Gyr,u.Msun])\n",
    "    ntimes= w1.shape\n",
    "    \n",
    "    vphi_signs=np.sum(np.sign(vphi_test))\n",
    "    if (abs(vphi_signs))==len(vphi_test): # Lz= vphi*r so checking of vphi is enough\n",
    "        pp = gc.cartesian_to_poincare_polar(w1.w([u.kpc,u.Gyr,u.Msun]).T).T # use it if we have loop orbits i.e if Lz doesn't change sign\n",
    "        sf = SuperFreq(t,p)\n",
    "        fs = [(pp[i] * 1j*pp[i+ndim//2]) for i in range(ndim//2)] #when using pp\n",
    "\n",
    "    else:\n",
    "        sf = SuperFreq(t,p)\n",
    "        fs = [(w[i] * 1j*w[i+ndim//2]) for i in range(ndim//2)]   #without using pp\n",
    "    #fs = [(w[i] * 1j*w[i+ndim//2]) for i in range(ndim//2)]   #without using pp\n",
    "\n",
    "    result = sf.find_fundamental_frequencies(fs)\n",
    "    freqs = result.fund_freqs\n",
    "    t=float(times[snapshot-factor][11:-2])/1000*9.778145\n",
    "    row=[factor,freqs[0],freqs[1],freqs[2]]\n",
    "    row_data = pd.Series(row, index = df.columns)\n",
    "    df = df.append(row_data, ignore_index=True)\n",
    "    #print(\"Done: \",freqs)\n",
    "\n",
    "\n",
    "fig1=plt.figure(figsize=(8,3))\n",
    "ax=fig1.add_subplot(111)\n",
    "#ax.plot(df.t,df.omega_r,c='red',label=\"$\\omega$$_R$\")\n",
    "#ax.plot(df.t,df.omega_phi,c='purple',label=\"$\\omega$$_$\\phi$$\")\n",
    "#ax.plot(df.t,df.omega_z,c=\"black\",label=\"v$\\omega$R\")\n",
    "#ax.text(4,200,\"Particle: \"+str(i))\n",
    "ax.set_title(\"Particle: \"+str(test_particle)+ \" p=\"+str(p))\n",
    "ax.plot(df.t,abs(df.omega_r),c='red',label=\"$\\Omega$$_R$\")\n",
    "ax.plot(df.t,abs(df.omega_phi),c='purple',label=\"$\\Omega$$_\\phi$\")\n",
    "ax.plot(df.t,abs(df.omega_z),c=\"black\",label=\"$\\Omega$$_z$\")\n",
    "ax.legend(bbox_to_anchor=(1.00,0.82), loc='center left',markerscale=9)\n",
    "ax.set_xlabel(\"Snapshot (+-) from current snapshot\")\n",
    "#ax.set_xlim(0,2)\n",
    "ax.set_ylabel(r\"Frequency\")\n",
    "plotname=\"particle_\"+str(test_particle)+\"particle_at_700_around_that_region\"+str(p)+\".jpg\"\n",
    "#fig1.savefig(plotpath+plotname,bbox_inches=\"tight\",dpi=150)\n",
    "print(\"Plot generated and saved to file: \",plotname)\n",
    "#plt.show()\n",
    "print(df)"
   ],
   "outputs": [
    {
     "output_type": "stream",
     "name": "stdout",
     "text": [
      "Plot generated and saved to file:  particle_176788202particle_at_700_around_that_region3.jpg\n",
      "        t    omega_r  omega_phi     omega_z\n",
      "0    25.0 -36.386504  24.374803   99.245178\n",
      "1    50.0  38.113872  55.234907  102.330712\n",
      "2    75.0 -39.872642 -59.133733  104.086376\n",
      "3   100.0  40.843025 -60.107291  104.696455\n",
      "4   125.0 -41.697782 -61.066905 -105.591311\n",
      "5   150.0 -42.432744 -61.229890  106.178221\n",
      "6   175.0  42.965215  60.512891  106.205583\n",
      "7   200.0 -43.289553  59.572826  105.938787\n",
      "8   225.0  43.467432  58.973867  105.533787\n",
      "9   250.0 -43.556479  58.606876  105.063498\n",
      "10  275.0  43.590453 -58.349458  118.618010\n",
      "11  300.0 -43.585048 -58.152290  104.353128\n",
      "12  325.0  43.545743  57.985268 -104.099912\n"
     ]
    },
    {
     "output_type": "display_data",
     "data": {
      "text/plain": [
       "<Figure size 576x216 with 1 Axes>"
      ],
      "image/png": "[encoded data removed]"
     },
     "metadata": {
      "needs_background": "light"
     }
    }
   ],
   "metadata": {}
  }
 ],
 "metadata": {
  "orig_nbformat": 4,
  "kernelspec": {
   "name": "python3",
   "display_name": "Python 3",
   "language": "python"
  },
  "language_info": {
   "name": "python",
   "version": "3.7.3",
   "mimetype": "text/x-python",
   "codemirror_mode": {
    "name": "ipython",
    "version": 3
   },
   "pygments_lexer": "ipython3",
   "nbconvert_exporter": "python",
   "file_extension": ".py"
  }
 },
 "nbformat": 4,
 "nbformat_minor": 2
}