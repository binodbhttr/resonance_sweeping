{
 "cells": [
  {
   "cell_type": "code",
   "execution_count": 2,
   "source": [
    "#!cp ../rmcclure/procedure.py ."
   ],
   "outputs": [],
   "metadata": {}
  },
  {
   "cell_type": "code",
   "execution_count": 3,
   "source": [
    "import numpy as np \n",
    "import pickle\n",
    "from superfreq import SuperFreq\n",
    "from matplotlib import pyplot as plt\n",
    "from galpy.util import bovy_coords as coords\n",
    "import gala.dynamics as gd\n",
    "import astropy.units as u\n",
    "import gala.coordinates as gc\n",
    "import os\n",
    "import sys\n",
    "from procedure import *\n",
    "import pandas as pd"
   ],
   "outputs": [],
   "metadata": {}
  },
  {
   "cell_type": "code",
   "execution_count": 4,
   "source": [
    "!pwd"
   ],
   "outputs": [
    {
     "output_type": "stream",
     "name": "stdout",
     "text": [
      "/mnt/home/bbhattarai\n"
     ]
    }
   ],
   "metadata": {}
  },
  {
   "cell_type": "code",
   "execution_count": 5,
   "source": [
    "times=np.genfromtxt(path+'times.txt',dtype='str')\n",
    "print(\"Total snapshots present is\",len(times))\n",
    "snapshot_start=0\n",
    "snapshot_end=len(times)"
   ],
   "outputs": [
    {
     "output_type": "stream",
     "name": "stdout",
     "text": [
      "Total snapshots present is 1188\n"
     ]
    }
   ],
   "metadata": {}
  },
  {
   "cell_type": "code",
   "execution_count": 6,
   "source": [
    "!hostname"
   ],
   "outputs": [
    {
     "output_type": "stream",
     "name": "stdout",
     "text": [
      "pcn-9-38\n"
     ]
    }
   ],
   "metadata": {}
  },
  {
   "cell_type": "code",
   "execution_count": 7,
   "source": [
    "plotpath=\"/mnt/home/bbhattarai/resonance_sweeping/New_Sims_Analysis/plots/\""
   ],
   "outputs": [],
   "metadata": {}
  },
  {
   "cell_type": "code",
   "execution_count": 8,
   "source": [
    "snapshot=1000\n",
    "snaparr = loadwholesnap(path,snapshot)\n",
    "print(\"These are the data we have\",snaparr[0].dtype)\n",
    "idd=snaparr['idd']\n",
    "x=snaparr['x']\n",
    "y=snaparr['y']\n",
    "z=snaparr['z']\n",
    "vx=snaparr['vx']\n",
    "vy=snaparr['vy']\n",
    "vz=snaparr['vz']  \n",
    "mass=snaparr['mass']  #mass is in solar mass (change old mass calculations to take account of the factor 2.324876e9)\n",
    "\n",
    "vr=snaparr['vr']\n",
    "vphi=snaparr['vphi']\n",
    "vzz=snaparr['vzz']\n",
    "r=snaparr['r']\n",
    "phi=snaparr['phi'] #phi is in radians\n",
    "zz=snaparr['zz']\n",
    "\n",
    "#converting phi to degrees\n",
    "phi_degrees=np.rad2deg(phi)"
   ],
   "outputs": [
    {
     "output_type": "stream",
     "name": "stdout",
     "text": [
      "These are the data we have [('t', '<f8'), ('x', '<f4'), ('y', '<f4'), ('z', '<f4'), ('vx', '<f4'), ('vy', '<f4'), ('vz', '<f4'), ('vr', '<f4'), ('vphi', '<f4'), ('vzz', '<f4'), ('r', '<f4'), ('phi', '<f4'), ('zz', '<f4'), ('mass', '<f4'), ('idd', '<u8')]\n"
     ]
    }
   ],
   "metadata": {}
  },
  {
   "cell_type": "code",
   "execution_count": null,
   "source": [],
   "outputs": [],
   "metadata": {}
  },
  {
   "cell_type": "markdown",
   "source": [
    "# Selecting the solar neighborhood"
   ],
   "metadata": {}
  },
  {
   "cell_type": "code",
   "execution_count": 9,
   "source": [
    "keep_sn=(x<8.2)*(x>7.8)*(y<0.5)*(y>-0.5)*(z<0.5)*(z>-0.5)"
   ],
   "outputs": [],
   "metadata": {}
  },
  {
   "cell_type": "code",
   "execution_count": 9,
   "source": [
    "np.sum(keep_sn)"
   ],
   "outputs": [
    {
     "output_type": "execute_result",
     "data": {
      "text/plain": [
       "69260"
      ]
     },
     "metadata": {},
     "execution_count": 9
    }
   ],
   "metadata": {}
  },
  {
   "cell_type": "code",
   "execution_count": 10,
   "source": [
    "freq_path=\"/mnt/home/bbhattarai/resonance_sweeping/New_Sims_Analysis/freq_data/\"\n",
    "\n",
    "column=[\"t\", \"omega_r\",\"omega_phi\",\"omega_z\"] #column to store the data\n",
    "\n",
    "idd_keep=idd[keep_sn] #narrowing the particle ids to solar neighborhood only\n",
    "ndim=6 # dimension of phase space\n",
    "keep_small=idd_keep[1000:1001] #selecting a group of 15 particles for test, change it \n",
    "\n",
    "for i in range(len(keep_small)):\n",
    "    \n",
    "    test_particle=keep_small[i]  #test paticle to look at\n",
    "    df = pd.DataFrame(columns=column)\n",
    "    for j in range(0,1040,40):\n",
    "        #print(\"looking orbits of particle:\",i)\n",
    "        \n",
    "        test = loadonesource(path,test_particle,start=j,finish=j+40) # do it for 200 Myr\n",
    "        \n",
    "        #calculate frequencies every 200 Myrs (0-200, 200-400, 400-600, 600-800 in time (Myrs)) (0-40. 40-80..... in snapshots)\n",
    "        x_test=test['r'].astype(np.float64)\n",
    "        y_test=test['phi'].astype(np.float64)\n",
    "        z_test=test['zz'].astype(np.float64)\n",
    "        vx_test=test['vr'].astype(np.float64)\n",
    "        vy_test=test['vphi'].astype(np.float64)\n",
    "        vz_test=test['vzz'].astype(np.float64)\n",
    "        mass_test=test['mass'].astype(np.float64)\n",
    "        r_test=test['r'].astype(np.float64)\n",
    "        t=test['t'].astype(np.float64)\n",
    "\n",
    "        w1 = gd.Orbit(\n",
    "            pos=[x_test,y_test,z_test] * u.kpc,\n",
    "            vel=[vx_test,vy_test,vz_test] * u.km/u.s,\n",
    "            t=t*u.Gyr\n",
    "        )\n",
    "\n",
    "        w=w1.w([u.kpc,u.Gyr,u.Msun])\n",
    "        ntimes= w1.shape\n",
    "        #pp = gc.cartesian_to_poincare_polar(w1.w([u.kpc,u.Gyr,u.Msun]).T).T # use it if we have loop orbits i.e if Lz doesn't change sign\n",
    "        sf = SuperFreq(t)\n",
    "        fs = [(w[i] * 1j*w[i+ndim//2]) for i in range(ndim//2)] #when using pp\n",
    "        #fs = [(w[i] * 1j*w[i+ndim//2]) for i in range(ndim//2)]   #without using pp\n",
    "\n",
    "\n",
    "        result = sf.find_fundamental_frequencies(fs)\n",
    "        freqs = result.fund_freqs\n",
    "        row=[float(times[j+40][11:-2])/1000*9.778145,freqs[0],freqs[1],freqs[2]]\n",
    "        row_data = pd.Series(row, index = df.columns)\n",
    "        df = df.append(row_data, ignore_index=True)\n",
    "        #print(\"Done: \",freqs)\n",
    "    file_name=\"particle_\"+str(i)+\"_freqs_200Myr_range_without_pp_using_cylindrical.csv\"\n",
    "    df.to_csv(freq_path+file_name, encoding='utf-8', index=False)\n",
    "    del df\n",
    "\n"
   ],
   "outputs": [
    {
     "output_type": "stream",
     "name": "stdout",
     "text": [
      "\n",
      "\n",
      "ISSUE WITH FILE:  /mnt/sdceph/users/rmcclure/pointerfiles/stellar_B3-N_snapshot__00440.7822.npy\n",
      "found[0]:  (169356348, 28, 750319568)\n"
     ]
    },
    {
     "output_type": "error",
     "ename": "KeyboardInterrupt",
     "evalue": "",
     "traceback": [
      "\u001b[0;31m---------------------------------------------------------------------------\u001b[0m",
      "\u001b[0;31mKeyboardInterrupt\u001b[0m                         Traceback (most recent call last)",
      "\u001b[0;32m<ipython-input-10-93eed2e4cead>\u001b[0m in \u001b[0;36m<module>\u001b[0;34m\u001b[0m\n\u001b[1;32m     14\u001b[0m         \u001b[0;31m#print(\"looking orbits of particle:\",i)\u001b[0m\u001b[0;34m\u001b[0m\u001b[0;34m\u001b[0m\u001b[0;34m\u001b[0m\u001b[0m\n\u001b[1;32m     15\u001b[0m \u001b[0;34m\u001b[0m\u001b[0m\n\u001b[0;32m---> 16\u001b[0;31m         \u001b[0mtest\u001b[0m \u001b[0;34m=\u001b[0m \u001b[0mloadonesource\u001b[0m\u001b[0;34m(\u001b[0m\u001b[0mpath\u001b[0m\u001b[0;34m,\u001b[0m\u001b[0mtest_particle\u001b[0m\u001b[0;34m,\u001b[0m\u001b[0mstart\u001b[0m\u001b[0;34m=\u001b[0m\u001b[0mj\u001b[0m\u001b[0;34m,\u001b[0m\u001b[0mfinish\u001b[0m\u001b[0;34m=\u001b[0m\u001b[0mj\u001b[0m\u001b[0;34m+\u001b[0m\u001b[0;36m40\u001b[0m\u001b[0;34m)\u001b[0m \u001b[0;31m# do it for 200 Myr\u001b[0m\u001b[0;34m\u001b[0m\u001b[0;34m\u001b[0m\u001b[0m\n\u001b[0m\u001b[1;32m     17\u001b[0m \u001b[0;34m\u001b[0m\u001b[0m\n\u001b[1;32m     18\u001b[0m         \u001b[0;31m#calculate frequencies every 200 Myrs (0-200, 200-400, 400-600, 600-800 in time (Myrs)) (0-40. 40-80..... in snapshots)\u001b[0m\u001b[0;34m\u001b[0m\u001b[0;34m\u001b[0m\u001b[0;34m\u001b[0m\u001b[0m\n",
      "\u001b[0;32m~/procedure.py\u001b[0m in \u001b[0;36mloadonesource\u001b[0;34m(path, idx, npypointerpath, ncores, start, finish, wdmBool, verbose, errrange, issorted, approxhalofrac)\u001b[0m\n\u001b[1;32m    530\u001b[0m                         \u001b[0;32mif\u001b[0m \u001b[0mverbose\u001b[0m \u001b[0;34m>\u001b[0m \u001b[0;36m2\u001b[0m\u001b[0;34m:\u001b[0m\u001b[0;34m\u001b[0m\u001b[0;34m\u001b[0m\u001b[0m\n\u001b[1;32m    531\u001b[0m                             \u001b[0mbf\u001b[0m \u001b[0;34m=\u001b[0m \u001b[0mdatetime\u001b[0m\u001b[0;34m.\u001b[0m\u001b[0mdatetime\u001b[0m\u001b[0;34m.\u001b[0m\u001b[0mnow\u001b[0m\u001b[0;34m(\u001b[0m\u001b[0;34m)\u001b[0m\u001b[0;34m\u001b[0m\u001b[0;34m\u001b[0m\u001b[0m\n\u001b[0;32m--> 532\u001b[0;31m                         \u001b[0mfound\u001b[0m\u001b[0;34m=\u001b[0m\u001b[0mpointer\u001b[0m\u001b[0;34m[\u001b[0m\u001b[0;34m[\u001b[0m\u001b[0midx\u001b[0m\u001b[0;34m]\u001b[0m\u001b[0;34m]\u001b[0m\u001b[0;34m\u001b[0m\u001b[0;34m\u001b[0m\u001b[0m\n\u001b[0m\u001b[1;32m    533\u001b[0m \u001b[0;34m\u001b[0m\u001b[0m\n\u001b[1;32m    534\u001b[0m                         \u001b[0;31m#catch when there's this weird offset of ~200 skipped IDs\u001b[0m\u001b[0;34m\u001b[0m\u001b[0;34m\u001b[0m\u001b[0;34m\u001b[0m\u001b[0m\n",
      "\u001b[0;32m/cm/shared/sw/pkg/devel/python3/3.7.3/lib/python3.7/site-packages/numpy/core/memmap.py\u001b[0m in \u001b[0;36m__getitem__\u001b[0;34m(self, index)\u001b[0m\n\u001b[1;32m    329\u001b[0m \u001b[0;34m\u001b[0m\u001b[0m\n\u001b[1;32m    330\u001b[0m     \u001b[0;32mdef\u001b[0m \u001b[0m__getitem__\u001b[0m\u001b[0;34m(\u001b[0m\u001b[0mself\u001b[0m\u001b[0;34m,\u001b[0m \u001b[0mindex\u001b[0m\u001b[0;34m)\u001b[0m\u001b[0;34m:\u001b[0m\u001b[0;34m\u001b[0m\u001b[0;34m\u001b[0m\u001b[0m\n\u001b[0;32m--> 331\u001b[0;31m         \u001b[0mres\u001b[0m \u001b[0;34m=\u001b[0m \u001b[0msuper\u001b[0m\u001b[0;34m(\u001b[0m\u001b[0mmemmap\u001b[0m\u001b[0;34m,\u001b[0m \u001b[0mself\u001b[0m\u001b[0;34m)\u001b[0m\u001b[0;34m.\u001b[0m\u001b[0m__getitem__\u001b[0m\u001b[0;34m(\u001b[0m\u001b[0mindex\u001b[0m\u001b[0;34m)\u001b[0m\u001b[0;34m\u001b[0m\u001b[0;34m\u001b[0m\u001b[0m\n\u001b[0m\u001b[1;32m    332\u001b[0m         \u001b[0;32mif\u001b[0m \u001b[0mtype\u001b[0m\u001b[0;34m(\u001b[0m\u001b[0mres\u001b[0m\u001b[0;34m)\u001b[0m \u001b[0;32mis\u001b[0m \u001b[0mmemmap\u001b[0m \u001b[0;32mand\u001b[0m \u001b[0mres\u001b[0m\u001b[0;34m.\u001b[0m\u001b[0m_mmap\u001b[0m \u001b[0;32mis\u001b[0m \u001b[0;32mNone\u001b[0m\u001b[0;34m:\u001b[0m\u001b[0;34m\u001b[0m\u001b[0;34m\u001b[0m\u001b[0m\n\u001b[1;32m    333\u001b[0m             \u001b[0;32mreturn\u001b[0m \u001b[0mres\u001b[0m\u001b[0;34m.\u001b[0m\u001b[0mview\u001b[0m\u001b[0;34m(\u001b[0m\u001b[0mtype\u001b[0m\u001b[0;34m=\u001b[0m\u001b[0mndarray\u001b[0m\u001b[0;34m)\u001b[0m\u001b[0;34m\u001b[0m\u001b[0;34m\u001b[0m\u001b[0m\n",
      "\u001b[0;32m/cm/shared/sw/pkg/devel/python3/3.7.3/lib/python3.7/site-packages/numpy/core/memmap.py\u001b[0m in \u001b[0;36m__array_finalize__\u001b[0;34m(self, obj)\u001b[0m\n\u001b[1;32m    283\u001b[0m         \u001b[0;32mreturn\u001b[0m \u001b[0mself\u001b[0m\u001b[0;34m\u001b[0m\u001b[0;34m\u001b[0m\u001b[0m\n\u001b[1;32m    284\u001b[0m \u001b[0;34m\u001b[0m\u001b[0m\n\u001b[0;32m--> 285\u001b[0;31m     \u001b[0;32mdef\u001b[0m \u001b[0m__array_finalize__\u001b[0m\u001b[0;34m(\u001b[0m\u001b[0mself\u001b[0m\u001b[0;34m,\u001b[0m \u001b[0mobj\u001b[0m\u001b[0;34m)\u001b[0m\u001b[0;34m:\u001b[0m\u001b[0;34m\u001b[0m\u001b[0;34m\u001b[0m\u001b[0m\n\u001b[0m\u001b[1;32m    286\u001b[0m         \u001b[0;32mif\u001b[0m \u001b[0mhasattr\u001b[0m\u001b[0;34m(\u001b[0m\u001b[0mobj\u001b[0m\u001b[0;34m,\u001b[0m \u001b[0;34m'_mmap'\u001b[0m\u001b[0;34m)\u001b[0m \u001b[0;32mand\u001b[0m \u001b[0mnp\u001b[0m\u001b[0;34m.\u001b[0m\u001b[0mmay_share_memory\u001b[0m\u001b[0;34m(\u001b[0m\u001b[0mself\u001b[0m\u001b[0;34m,\u001b[0m \u001b[0mobj\u001b[0m\u001b[0;34m)\u001b[0m\u001b[0;34m:\u001b[0m\u001b[0;34m\u001b[0m\u001b[0;34m\u001b[0m\u001b[0m\n\u001b[1;32m    287\u001b[0m             \u001b[0mself\u001b[0m\u001b[0;34m.\u001b[0m\u001b[0m_mmap\u001b[0m \u001b[0;34m=\u001b[0m \u001b[0mobj\u001b[0m\u001b[0;34m.\u001b[0m\u001b[0m_mmap\u001b[0m\u001b[0;34m\u001b[0m\u001b[0;34m\u001b[0m\u001b[0m\n",
      "\u001b[0;31mKeyboardInterrupt\u001b[0m: "
     ]
    }
   ],
   "metadata": {}
  },
  {
   "cell_type": "code",
   "execution_count": 39,
   "source": [
    "print(test_particle)"
   ],
   "outputs": [
    {
     "output_type": "stream",
     "name": "stdout",
     "text": [
      "224229408\n"
     ]
    }
   ],
   "metadata": {}
  },
  {
   "cell_type": "markdown",
   "source": [
    "# Plotting frequencies"
   ],
   "metadata": {}
  },
  {
   "cell_type": "code",
   "execution_count": 11,
   "source": [
    "filenames=[\"particle_\"+str(f)+\"_freqs_200Myr_range_with_pp_using_cylindrical.csv\" for f in range(0,7)]\n",
    "df_r=pd.read_csv(freq_path+filenames[0])\n"
   ],
   "outputs": [],
   "metadata": {}
  },
  {
   "cell_type": "code",
   "execution_count": 48,
   "source": [
    "df_r.head()"
   ],
   "outputs": [
    {
     "output_type": "execute_result",
     "data": {
      "text/plain": [
       "          t    omega_r  omega_phi     omega_z\n",
       "0  0.200006  42.759263 -62.669986  154.344889\n",
       "1  0.400015  48.247513  67.952215 -164.898747\n",
       "2  0.600015  61.764192 -81.708343 -179.434380\n",
       "3  0.800016 -84.314143 -86.416403  219.254491\n",
       "4  1.000015 -53.229891 -56.916612 -148.369257"
      ],
      "text/html": [
       "<div>\n",
       "<style scoped>\n",
       "    .dataframe tbody tr th:only-of-type {\n",
       "        vertical-align: middle;\n",
       "    }\n",
       "\n",
       "    .dataframe tbody tr th {\n",
       "        vertical-align: top;\n",
       "    }\n",
       "\n",
       "    .dataframe thead th {\n",
       "        text-align: right;\n",
       "    }\n",
       "</style>\n",
       "<table border=\"1\" class=\"dataframe\">\n",
       "  <thead>\n",
       "    <tr style=\"text-align: right;\">\n",
       "      <th></th>\n",
       "      <th>t</th>\n",
       "      <th>omega_r</th>\n",
       "      <th>omega_phi</th>\n",
       "      <th>omega_z</th>\n",
       "    </tr>\n",
       "  </thead>\n",
       "  <tbody>\n",
       "    <tr>\n",
       "      <th>0</th>\n",
       "      <td>0.200006</td>\n",
       "      <td>42.759263</td>\n",
       "      <td>-62.669986</td>\n",
       "      <td>154.344889</td>\n",
       "    </tr>\n",
       "    <tr>\n",
       "      <th>1</th>\n",
       "      <td>0.400015</td>\n",
       "      <td>48.247513</td>\n",
       "      <td>67.952215</td>\n",
       "      <td>-164.898747</td>\n",
       "    </tr>\n",
       "    <tr>\n",
       "      <th>2</th>\n",
       "      <td>0.600015</td>\n",
       "      <td>61.764192</td>\n",
       "      <td>-81.708343</td>\n",
       "      <td>-179.434380</td>\n",
       "    </tr>\n",
       "    <tr>\n",
       "      <th>3</th>\n",
       "      <td>0.800016</td>\n",
       "      <td>-84.314143</td>\n",
       "      <td>-86.416403</td>\n",
       "      <td>219.254491</td>\n",
       "    </tr>\n",
       "    <tr>\n",
       "      <th>4</th>\n",
       "      <td>1.000015</td>\n",
       "      <td>-53.229891</td>\n",
       "      <td>-56.916612</td>\n",
       "      <td>-148.369257</td>\n",
       "    </tr>\n",
       "  </tbody>\n",
       "</table>\n",
       "</div>"
      ]
     },
     "metadata": {},
     "execution_count": 48
    }
   ],
   "metadata": {}
  },
  {
   "cell_type": "code",
   "execution_count": 12,
   "source": [
    "for i in range(1):\n",
    "    df_r=pd.read_csv(freq_path+filenames[i])\n",
    "    fig1=plt.figure(figsize=(8,3))\n",
    "    ax=fig1.add_subplot(111)\n",
    "    #ax.plot(df_r.t,df_r.omega_r,c='red',label=\"$\\omega$$_R$\")\n",
    "    #ax.plot(df_r.t,df_r.omega_phi,c='purple',label=\"$\\omega$$_$\\phi$$\")\n",
    "    #ax.plot(df_r.t,df_r.omega_z,c=\"black\",label=\"v$\\omega$R\")\n",
    "    #ax.text(4,200,\"Particle: \"+str(i))\n",
    "    ax.set_title(\"Particle: \"+str(i))\n",
    "    ax.plot(df_r.t,abs(df_r.omega_r),c='red',label=\"$\\Omega$$_R$\")\n",
    "    ax.plot(df_r.t,abs(df_r.omega_phi),c='purple',label=\"$\\Omega$$_\\phi$\")\n",
    "    ax.plot(df_r.t,abs(df_r.omega_z),c=\"black\",label=\"$\\Omega$$_z$\")\n",
    "    ax.legend(bbox_to_anchor=(1.00,0.82), loc='center left',markerscale=9)\n",
    "    ax.set_xlabel(\"Time (Gyr)\")\n",
    "    #ax.set_xlim(0,2)\n",
    "    ax.set_ylabel(r\"Frequency\")\n",
    "    plotname=\"particle_\"+str(i)+\"_freqs_over_time_200Myr_range_without_pp_abs_cycl.jpg\"\n",
    "    fig1.savefig(plotpath+plotname,bbox_inches=\"tight\",dpi=300)\n",
    "    print(\"Plot generated and saved to file: \",plotname)\n",
    "    #plt.show()"
   ],
   "outputs": [
    {
     "output_type": "stream",
     "name": "stdout",
     "text": [
      "Plot generated and saved to file:  particle_0_freqs_over_time_200Myr_range_without_pp_abs_cycl.jpg\n"
     ]
    },
    {
     "output_type": "display_data",
     "data": {
      "text/plain": [
       "<Figure size 576x216 with 1 Axes>"
      ],
      "image/png": "[encoded data removed]"
     },
     "metadata": {
      "needs_background": "light"
     }
    }
   ],
   "metadata": {}
  },
  {
   "cell_type": "code",
   "execution_count": null,
   "source": [],
   "outputs": [],
   "metadata": {}
  },
  {
   "cell_type": "code",
   "execution_count": null,
   "source": [],
   "outputs": [],
   "metadata": {}
  }
 ],
 "metadata": {
  "orig_nbformat": 4,
  "kernelspec": {
   "name": "python3",
   "display_name": "Python 3",
   "language": "python"
  },
  "language_info": {
   "name": "python",
   "version": "3.7.3",
   "mimetype": "text/x-python",
   "codemirror_mode": {
    "name": "ipython",
    "version": 3
   },
   "pygments_lexer": "ipython3",
   "nbconvert_exporter": "python",
   "file_extension": ".py"
  }
 },
 "nbformat": 4,
 "nbformat_minor": 2
}