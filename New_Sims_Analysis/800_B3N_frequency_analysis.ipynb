{
 "cells": [
  {
   "cell_type": "code",
   "execution_count": 1,
   "source": [
    "import numpy as np \n",
    "import pickle\n",
    "from matplotlib import pyplot as plt\n",
    "from galpy.util import bovy_coords as coords\n",
    "import os\n",
    "import sys\n",
    "#import superfreq\n",
    "from procedure import *\n",
    "#from procedure import loadonesource"
   ],
   "outputs": [
    {
     "output_type": "stream",
     "name": "stdout",
     "text": [
      "/mnt/home/bbhattarai/.local/lib/python3.7/site-packages/galpy/util/bovy_coords.py:6: FutureWarning: galpy.util.bovy_coords is being deprecated in favor of galpy.util.coords; all functions in there are the same; please switch to the new import, because the old import will be removed in v1.9\n",
      "  warnings.warn('galpy.util.bovy_coords is being deprecated in favor of galpy.util.coords; all functions in there are the same; please switch to the new import, because the old import will be removed in v1.9',FutureWarning)\n",
      "\n",
      "PLEASE IMPORT superfreq: pip install --user git+https://github.com/adrn/superfreq\n",
      "start at: 2021-08-10 09:13:06.625469\n",
      "end at: 2021-08-10 09:13:06.625918\n"
     ]
    }
   ],
   "metadata": {}
  },
  {
   "cell_type": "code",
   "execution_count": 2,
   "source": [
    "!hostname\n",
    "!pwd"
   ],
   "outputs": [
    {
     "output_type": "stream",
     "name": "stdout",
     "text": [
      "pcn-9-71\n",
      "/mnt/home/bbhattarai\n"
     ]
    }
   ],
   "metadata": {}
  },
  {
   "cell_type": "code",
   "execution_count": 3,
   "source": [
    "datapath=\"/mnt/home/bbhattarai/B3-N/\"\n",
    "freq_datapath=\"/mnt/home/bbhattarai/ceph/freq_data/\"\n",
    "plotpath=\"/mnt/home/bbhattarai/resonance_sweeping/New_Sims_Analysis/plots/\""
   ],
   "outputs": [],
   "metadata": {}
  },
  {
   "cell_type": "markdown",
   "source": [],
   "metadata": {}
  },
  {
   "cell_type": "code",
   "execution_count": 4,
   "source": [
    "snapshot=800"
   ],
   "outputs": [],
   "metadata": {}
  },
  {
   "cell_type": "code",
   "execution_count": 5,
   "source": [
    "freq_datafile=\"DiskActions\"+str(snapshot)+\"_B3N.npy\""
   ],
   "outputs": [],
   "metadata": {}
  },
  {
   "cell_type": "code",
   "execution_count": 6,
   "source": [
    "freqs= np.load(freq_datapath+freq_datafile)"
   ],
   "outputs": [],
   "metadata": {}
  },
  {
   "cell_type": "markdown",
   "source": [
    "# Reading the values from the frequency data"
   ],
   "metadata": {}
  },
  {
   "cell_type": "code",
   "execution_count": 7,
   "source": [
    "#Jrdisk=freqs[0]\n",
    "#Jphidisk=freqs[1]\n",
    "#Jzdisk=freqs[2]\n",
    "#Trdisk=freqs[3]\n",
    "#Tphidisk=freqs[4]\n",
    "#Tzdisk=freqs[5]\n",
    "Ordisk=freqs[6]\n",
    "Ophidisk=freqs[7]\n",
    "#Ozdisk=freqs[8]\n",
    "idd_from_freqs=freqs[9]\n",
    "del freqs"
   ],
   "outputs": [],
   "metadata": {}
  },
  {
   "cell_type": "markdown",
   "source": [
    "# Reading the snapshot data"
   ],
   "metadata": {}
  },
  {
   "cell_type": "code",
   "execution_count": 8,
   "source": [
    "snaparr = loadwholesnap(path,snapshot)\n",
    "print(\"These are the data we have\",snaparr[0].dtype)\n",
    "idd=snaparr['idd']\n",
    "x=snaparr['x']\n",
    "y=snaparr['y']\n",
    "z=snaparr['z']\n",
    "vx=snaparr['vx']\n",
    "vy=snaparr['vy']\n",
    "#vz=snaparr['vz']  \n",
    "mass=snaparr['mass']  #mass is in solar mass (change old mass calculations to take account of the factor 2.324876e9)\n",
    "\n",
    "vr=snaparr['vr']\n",
    "vphi=snaparr['vphi']\n",
    "#vzz=snaparr['vzz']\n",
    "r=snaparr['r']\n",
    "phi=snaparr['phi'] #phi is in radians\n",
    "#zz=snaparr['zz']\n",
    "\n",
    "#converting phi to degrees\n",
    "phi_degrees=np.rad2deg(phi)\n",
    "del snaparr"
   ],
   "outputs": [
    {
     "output_type": "stream",
     "name": "stdout",
     "text": [
      "These are the data we have [('t', '<f8'), ('x', '<f4'), ('y', '<f4'), ('z', '<f4'), ('vx', '<f4'), ('vy', '<f4'), ('vz', '<f4'), ('vr', '<f4'), ('vphi', '<f4'), ('vzz', '<f4'), ('r', '<f4'), ('phi', '<f4'), ('zz', '<f4'), ('mass', '<f4'), ('idd', '<u8')]\n"
     ]
    }
   ],
   "metadata": {}
  },
  {
   "cell_type": "markdown",
   "source": [
    "# Making the cut"
   ],
   "metadata": {}
  },
  {
   "cell_type": "code",
   "execution_count": 9,
   "source": [
    "discindx=(mass<1e-7*2.324876e9)\n",
    "idd_snapshots=idd[discindx]\n",
    "x_select=x[discindx]\n",
    "y_select=y[discindx]\n",
    "z_select=z[discindx]\n",
    "\n",
    "vx_select=vx[discindx]\n",
    "vy_select=vy[discindx]\n",
    "#vz_select=vz[discindx]\n",
    "\n",
    "\n",
    "vr_select=vr[discindx]\n",
    "vphi_select=vphi[discindx]\n",
    "#vzz_select=vzz[discindx]\n",
    "\n",
    "\n",
    "r_select=r[discindx]\n",
    "phi_select=phi_degrees[discindx]"
   ],
   "outputs": [],
   "metadata": {}
  },
  {
   "cell_type": "code",
   "execution_count": 10,
   "source": [
    "del discindx\n",
    "del mass\n",
    "print(\"These are the ids obtained from the frequency data\",len(idd_from_freqs))\n",
    "print(\"These are the ids obtained from the snapshot  data\",len(idd_snapshots))"
   ],
   "outputs": [
    {
     "output_type": "stream",
     "name": "stdout",
     "text": [
      "These are the ids obtained from the frequency data 250980160\n",
      "These are the ids obtained from the snapshot  data 250980160\n"
     ]
    }
   ],
   "metadata": {}
  },
  {
   "cell_type": "markdown",
   "source": [
    "# Loading all saved barangles"
   ],
   "metadata": {}
  },
  {
   "cell_type": "code",
   "execution_count": 11,
   "source": [
    "angle_datapath=\"/mnt/home/bbhattarai/resonance_sweeping//New_Sims_Analysis/\"\n",
    "datafilename=\"0_to_1048_B3-N_fft_barangles_combined_degrees.ang\"\n",
    "ang_stored = open(angle_datapath+datafilename,'rb')\n",
    "all_bangles=pickle.load(ang_stored)\n",
    "print(len(all_bangles))"
   ],
   "outputs": [
    {
     "output_type": "stream",
     "name": "stdout",
     "text": [
      "1048\n"
     ]
    }
   ],
   "metadata": {}
  },
  {
   "cell_type": "markdown",
   "source": [
    "# Checking resonance Conditions"
   ],
   "metadata": {}
  },
  {
   "cell_type": "code",
   "execution_count": 12,
   "source": [
    "#datafilename=\"saved_bar_pattern_speed_km_per_s_kpc.ang\"\n",
    "datafilename=\"B3-N_saved_bar_pattern_speed_km_per_s_kpc.ang\"\n",
    "save_datapath=\"/mnt/home/bbhattarai/resonance_sweeping//New_Sims_Analysis/\"\n",
    "ps_stored = open(save_datapath+datafilename,'rb')\n",
    "ps=pickle.load(ps_stored)\n",
    "#print(ps)\n",
    "ps_located=ps[snapshot]\n",
    "print(ps_located)"
   ],
   "outputs": [
    {
     "output_type": "stream",
     "name": "stdout",
     "text": [
      "31.16421617364574\n"
     ]
    }
   ],
   "metadata": {}
  },
  {
   "cell_type": "markdown",
   "source": [
    "# Adjusting pattern_speed_value"
   ],
   "metadata": {}
  },
  {
   "cell_type": "code",
   "execution_count": 13,
   "source": [
    "start=snapshot-3\n",
    "end=snapshot+3\n",
    "s=0\n",
    "c=0\n",
    "for i in range(start,end):\n",
    "    c+=1\n",
    "    s=s+ps[i]\n",
    "print(c)\n",
    "ps_adjusted=s/c\n",
    "\n",
    "print(ps_adjusted)\n",
    "\n",
    "#factor=3.08567758/3.15576\n",
    "#ps_adjusted=ps_adjusted/factor\n",
    "print(ps_adjusted)"
   ],
   "outputs": [
    {
     "output_type": "stream",
     "name": "stdout",
     "text": [
      "6\n",
      "31.14740421816325\n",
      "31.14740421816325\n"
     ]
    }
   ],
   "metadata": {}
  },
  {
   "cell_type": "markdown",
   "source": [
    "# Calculating the Resonance Conditions"
   ],
   "metadata": {}
  },
  {
   "cell_type": "code",
   "execution_count": 14,
   "source": [
    "#OLR resonance\n",
    "#olr_resonance=Ophidisk-Ordisk/2 # inner Linbald resonance\n",
    "\n",
    "olr_resonance=Ophidisk+Ordisk/2 # outer Linbald resonance\n",
    "omega_diff_olr=olr_resonance-ps_adjusted\n",
    "keep_olr=(omega_diff_olr<0.1)*(omega_diff_olr>-0.1)\n",
    "\n",
    "\n",
    "#CR resonance\n",
    "omega_diff=Ophidisk-ps_adjusted\n",
    "keep_cr=(omega_diff<0.1)*(omega_diff>-0.1)"
   ],
   "outputs": [],
   "metadata": {}
  },
  {
   "cell_type": "markdown",
   "source": [
    "# Entire Galactic Regions with Co-Rotating (CR) Resonance"
   ],
   "metadata": {}
  },
  {
   "cell_type": "markdown",
   "source": [],
   "metadata": {}
  },
  {
   "cell_type": "code",
   "execution_count": 15,
   "source": [
    "x_resonance_cr=(x_select[keep_cr])\n",
    "y_resonance_cr=(y_select[keep_cr])\n",
    "z_resonance_cr=(z_select[keep_cr])\n",
    "vr_resonance_cr=(vr_select[keep_cr])\n",
    "vphi_resonance_cr=(vphi_select[keep_cr])\n",
    "#vzz_resonance_cr=(vzz_select[keep_cr])\n",
    "\n",
    "print(len(x_resonance_cr))\n",
    "\n",
    "r_resonance_cr=r_select[keep_cr]\n",
    "phi_resonance_cr=phi_select[keep_cr]"
   ],
   "outputs": [
    {
     "output_type": "stream",
     "name": "stdout",
     "text": [
      "427532\n"
     ]
    }
   ],
   "metadata": {}
  },
  {
   "cell_type": "markdown",
   "source": [
    "# checking for resonance stars from snapshot 700"
   ],
   "metadata": {}
  },
  {
   "cell_type": "code",
   "execution_count": 16,
   "source": [
    "idd_resonance_cr=idd_snapshots[keep_cr]\n",
    "\n",
    "datafilename=\"700idd_resonance_cr.pkl\"\n",
    "\n",
    "idd_stored = open(save_datapath+datafilename,'rb')\n",
    "idd_resonance_cr_700=pickle.load(idd_stored)"
   ],
   "outputs": [],
   "metadata": {}
  },
  {
   "cell_type": "code",
   "execution_count": 17,
   "source": [
    "commons=list()\n",
    "for i in range(len(idd_resonance_cr_700)):\n",
    "    c=np.where(idd_resonance_cr==idd_resonance_cr_700[i])\n",
    "    commons.extend(list(idd_resonance_cr[c]))\n",
    "print(len(commons))\n",
    "\n"
   ],
   "outputs": [
    {
     "output_type": "stream",
     "name": "stdout",
     "text": [
      "5815\n"
     ]
    }
   ],
   "metadata": {}
  },
  {
   "cell_type": "markdown",
   "source": [],
   "metadata": {}
  },
  {
   "cell_type": "markdown",
   "source": [
    "# Calculating the percentage of stars that are in resonance with the bar:"
   ],
   "metadata": {}
  },
  {
   "cell_type": "code",
   "execution_count": 18,
   "source": [
    "n_star=len(x_select)\n",
    "n_star_cr=len(x_resonance_cr)\n",
    "\n",
    "print(n_star)\n",
    "print(n_star_cr)\n",
    "percentage_cr=(n_star_cr/n_star)*100\n",
    "print(\"The percentage of stars that are in Corotation Resonance is\",percentage_cr)"
   ],
   "outputs": [
    {
     "output_type": "stream",
     "name": "stdout",
     "text": [
      "250980160\n",
      "427532\n",
      "The percentage of stars that are in Corotation Resonance is 0.17034493881906843\n"
     ]
    }
   ],
   "metadata": {}
  },
  {
   "cell_type": "markdown",
   "source": [
    "# Entire Galactic Regions with OLR (Outer Linbald Resonance) Resonance"
   ],
   "metadata": {}
  },
  {
   "cell_type": "markdown",
   "source": [],
   "metadata": {}
  },
  {
   "cell_type": "code",
   "execution_count": 19,
   "source": [
    "x_resonance_olr=(x_select[keep_olr])\n",
    "y_resonance_olr=(y_select[keep_olr])\n",
    "z_resonance_olr=(z_select[keep_olr])\n",
    "vr_resonance_olr=(vr_select[keep_olr])\n",
    "vphi_resonance_olr=(vphi_select[keep_olr])\n",
    "#vzz_resonance_olr=(vzz_select[keep_olr])\n",
    "\n",
    "r_resonance_olr=r_select[keep_olr]\n",
    "phi_resonance_olr=phi_select[keep_olr]\n",
    "\n",
    "n_star_olr=len(x_resonance_olr)\n",
    "print(n_star_olr)\n",
    "percentage_olr=(n_star_olr/n_star)*100\n",
    "print(\"The percentage of stars that are in OLR are: \",percentage_olr)\n"
   ],
   "outputs": [
    {
     "output_type": "stream",
     "name": "stdout",
     "text": [
      "1440154\n",
      "The percentage of stars that are in OLR are:  0.5738118901509984\n"
     ]
    }
   ],
   "metadata": {}
  },
  {
   "cell_type": "markdown",
   "source": [
    "# looking for common stars_from snapshot 700"
   ],
   "metadata": {}
  },
  {
   "cell_type": "code",
   "execution_count": 20,
   "source": [
    "idd_resonance_olr=idd_snapshots[keep_olr]\n",
    "\n",
    "datafilename=\"700idd_resonance_olr.pkl\"\n",
    "\n",
    "idd_stored_olr = open(save_datapath+datafilename,'rb')\n",
    "idd_resonance_olr_700=pickle.load(idd_stored_olr)\n",
    "\n",
    "commons_olr=list()\n",
    "for i in range(len(idd_resonance_olr_700)):\n",
    "    c=np.where(idd_resonance_olr==idd_resonance_olr_700[i])\n",
    "    commons_olr.extend(list(idd_resonance_olr[c]))\n",
    "print(len(commons_olr))\n"
   ],
   "outputs": [
    {
     "output_type": "stream",
     "name": "stdout",
     "text": [
      "34560\n"
     ]
    }
   ],
   "metadata": {}
  },
  {
   "cell_type": "markdown",
   "source": [
    "# Selecting the slice -5<phi<5"
   ],
   "metadata": {}
  },
  {
   "cell_type": "code",
   "execution_count": 21,
   "source": [
    "keep_phi_slice_cr=(phi_resonance_cr<5)*(phi_resonance_cr>-5)\n",
    "keep_phi_slice_olr=(phi_resonance_olr<5)*(phi_resonance_olr>-5)\n",
    "\n",
    "phi_slice_cr=phi_resonance_cr[keep_phi_slice_cr]\n",
    "print(len(phi_slice_cr))\n",
    "\n",
    "phi_slice_olr=phi_resonance_olr[keep_phi_slice_olr]\n",
    "print(len(phi_slice_olr))"
   ],
   "outputs": [
    {
     "output_type": "stream",
     "name": "stdout",
     "text": [
      "11243\n",
      "46482\n"
     ]
    }
   ],
   "metadata": {}
  },
  {
   "cell_type": "markdown",
   "source": [
    "# Keeping record of values for the slice -5<phi<5"
   ],
   "metadata": {}
  },
  {
   "cell_type": "code",
   "execution_count": 22,
   "source": [
    "keep_phi_slice=(phi_select<5)*(phi_select>-5)\n",
    "x_select_phi_slice=x_select[keep_phi_slice]\n",
    "y_select_phi_slice=y_select[keep_phi_slice]\n",
    "z_select_phi_slice=z_select[keep_phi_slice]\n",
    "\n",
    "vr_phi_slice=vr_select[keep_phi_slice]\n",
    "vphi_phi_slice=vphi_select[keep_phi_slice]\n",
    "#vzz_phi_slice=vzz_select[keep_phi_slice]\n",
    "r_phi_slice=r_select[keep_phi_slice]\n",
    "\n"
   ],
   "outputs": [],
   "metadata": {}
  },
  {
   "cell_type": "markdown",
   "source": [
    "# Keeping record of values in the Solar Neighborhood"
   ],
   "metadata": {}
  },
  {
   "cell_type": "code",
   "execution_count": 23,
   "source": [
    "keep_sn=(x_select<8.5)*(x_select>7.5)*(y_select<0.5)*(y_select>-0.5)*(z_select<0.5)*(z_select>-0.5)\n",
    "x_select_sn=x_select[keep_sn]\n",
    "y_select_sn=y_select[keep_sn]\n",
    "z_select_sn=z_select[keep_sn]\n",
    "\n",
    "vr_sn=vr_select[keep_sn]\n",
    "vphi_sn=vphi_select[keep_sn]\n",
    "#vzz_sn=vzz_select[keep_sn]\n",
    "r_sn=r_select[keep_sn]"
   ],
   "outputs": [],
   "metadata": {}
  },
  {
   "cell_type": "markdown",
   "source": [
    "# Corotating Resonance (CR) in the slice"
   ],
   "metadata": {}
  },
  {
   "cell_type": "code",
   "execution_count": 24,
   "source": [
    "x_resonance_cr_phi_slice=x_resonance_cr[keep_phi_slice_cr]\n",
    "y_resonance_cr_phi_slice=(y_resonance_cr[keep_phi_slice_cr])\n",
    "z_resonance_cr_phi_slice=(z_resonance_cr[keep_phi_slice_cr])\n",
    "vr_resonance_cr_phi_slice=(vr_resonance_cr[keep_phi_slice_cr])\n",
    "vphi_resonance_cr_phi_slice=(vphi_resonance_cr[keep_phi_slice_cr])\n",
    "#vzz_resonance_cr_phi_slice=(vzz_resonance_cr[keep_phi_slice_cr])\n",
    "\n",
    "r_resonance_cr_phi_slice=r_resonance_cr[keep_phi_slice_cr]\n",
    "\n",
    "phi_resonance_cr_phi_slice=phi_resonance_cr[keep_phi_slice_cr]\n",
    "\n",
    "print(x_resonance_cr_phi_slice)"
   ],
   "outputs": [
    {
     "output_type": "stream",
     "name": "stdout",
     "text": [
      "[6.327705  5.820906  7.1321225 ... 4.6087475 4.678745  4.4224153]\n"
     ]
    }
   ],
   "metadata": {}
  },
  {
   "cell_type": "markdown",
   "source": [
    "# checking the matching stars with CR in the slice from snapshot 700"
   ],
   "metadata": {}
  },
  {
   "cell_type": "code",
   "execution_count": 25,
   "source": [
    "idd_resonance_cr_phi_slice_1000=idd_resonance_cr[keep_phi_slice_cr]\n",
    "\n",
    "datafilename=\"700idd_resonance_cr_phi_slice.pkl\"\n",
    "\n",
    "idd_stored_phi_slice_cr = open(save_datapath+datafilename,'rb')\n",
    "idd_resonance_phi_slice_cr_700=pickle.load(idd_stored_phi_slice_cr)\n",
    "\n",
    "commons_phi_slice_cr=list()\n",
    "for i in range(len(idd_resonance_phi_slice_cr_700)):\n",
    "    c=np.where(idd_resonance_cr_phi_slice_1000==idd_resonance_phi_slice_cr_700[i])\n",
    "    commons_phi_slice_cr.extend(list(idd_resonance_cr_phi_slice_1000[c]))\n",
    "print(len(commons_phi_slice_cr))"
   ],
   "outputs": [
    {
     "output_type": "stream",
     "name": "stdout",
     "text": [
      "2\n"
     ]
    }
   ],
   "metadata": {}
  },
  {
   "cell_type": "markdown",
   "source": [
    "# OLR in the slice"
   ],
   "metadata": {}
  },
  {
   "cell_type": "code",
   "execution_count": 26,
   "source": [
    "x_resonance_olr_phi_slice=x_resonance_olr[keep_phi_slice_olr]\n",
    "y_resonance_olr_phi_slice=(y_resonance_olr[keep_phi_slice_olr])\n",
    "z_resonance_olr_phi_slice=(z_resonance_olr[keep_phi_slice_olr])\n",
    "vr_resonance_olr_phi_slice=(vr_resonance_olr[keep_phi_slice_olr])\n",
    "vphi_resonance_olr_phi_slice=(vphi_resonance_olr[keep_phi_slice_olr])\n",
    "#vzz_resonance_olr_phi_slice=(vzz_resonance_olr[keep_phi_slice_olr])\n",
    "\n",
    "r_resonance_olr_phi_slice=r_resonance_olr[keep_phi_slice_olr]\n",
    "\n",
    "phi_resonance_olr_phi_slice=phi_resonance_olr[keep_phi_slice_olr]\n",
    "\n",
    "print(x_resonance_olr_phi_slice)"
   ],
   "outputs": [
    {
     "output_type": "stream",
     "name": "stdout",
     "text": [
      "[ 7.738738   6.785485  14.638245  ...  5.045147   4.8314633  4.9647775]\n"
     ]
    }
   ],
   "metadata": {}
  },
  {
   "cell_type": "code",
   "execution_count": 27,
   "source": [
    "#checking for matching idds\n",
    "\n",
    "idd_resonance_olr_phi_slice=idd_resonance_olr[keep_phi_slice_olr]\n",
    "\n",
    "datafilename=\"700idd_resonance_olr_phi_slice.pkl\"\n",
    "\n",
    "idd_stored_phi_slice_olr = open(save_datapath+datafilename,'rb')\n",
    "idd_resonance_phi_slice_olr_700=pickle.load(idd_stored_phi_slice_olr)\n",
    "\n",
    "commons_phi_slice_olr=list()\n",
    "for i in range(len(idd_resonance_phi_slice_olr_700)):\n",
    "    c=np.where(idd_resonance_olr_phi_slice==idd_resonance_phi_slice_olr_700[i])\n",
    "    commons_phi_slice_olr.extend(list(idd_resonance_olr_phi_slice[c]))\n",
    "print(len(commons_phi_slice_olr))"
   ],
   "outputs": [
    {
     "output_type": "stream",
     "name": "stdout",
     "text": [
      "0\n"
     ]
    }
   ],
   "metadata": {}
  },
  {
   "cell_type": "markdown",
   "source": [
    "# Selecting the solar neighboorhood"
   ],
   "metadata": {}
  },
  {
   "cell_type": "code",
   "execution_count": 28,
   "source": [
    "keep_cr_sn=(x_resonance_cr<8.5)*(x_resonance_cr>7.5)*(y_resonance_cr<0.5)*(y_resonance_cr>-0.5)*(z_resonance_cr<0.5)*(z_resonance_cr>-0.5)\n",
    "keep_olr_sn=(x_resonance_olr<8.5)*(x_resonance_olr>7.5)*(y_resonance_olr<0.5)*(y_resonance_olr>-0.5)*(z_resonance_olr<0.5)*(z_resonance_olr>-0.5)\n",
    "\n",
    "#keep_cr_sn=(x_resonance_cr<8.5)*(x_resonance_cr>7.5)\n",
    "#keep_olr_sn=(x_resonance_olr<8.5)*(x_resonance_olr>7.5)"
   ],
   "outputs": [],
   "metadata": {}
  },
  {
   "cell_type": "markdown",
   "source": [
    "# CR in the Solar Neighborhood"
   ],
   "metadata": {}
  },
  {
   "cell_type": "code",
   "execution_count": 29,
   "source": [
    "x_resonance_cr_sr=x_resonance_cr[keep_cr_sn]\n",
    "y_resonance_cr_sr=(y_resonance_cr[keep_cr_sn])\n",
    "z_resonance_cr_sr=(z_resonance_cr[keep_cr_sn])\n",
    "vr_resonance_cr_sr=(vr_resonance_cr[keep_cr_sn])\n",
    "vphi_resonance_cr_sr=(vphi_resonance_cr[keep_cr_sn])\n",
    "#vzz_resonance_cr_sr=(vzz_resonance_cr[keep_cr_sn])\n",
    "\n",
    "r_resonance_cr_sr=r_resonance_cr[keep_cr_sn]\n",
    "\n",
    "phi_resonance_cr_sr=phi_resonance_cr[keep_cr_sn]"
   ],
   "outputs": [],
   "metadata": {}
  },
  {
   "cell_type": "code",
   "execution_count": 30,
   "source": [
    "#checking for matching idds\n",
    "\n",
    "idd_resonance_cr_sr=idd_resonance_cr[keep_cr_sn]\n",
    "\n",
    "datafilename=\"700idd_resonance_cr_sr.pkl\"\n",
    "\n",
    "idd_stored_cr_sr = open(save_datapath+datafilename,'rb')\n",
    "idd_resonance_cr_sr_700=pickle.load(idd_stored_cr_sr)\n",
    "\n",
    "commons_cr_sr=list()\n",
    "for i in range(len(idd_resonance_cr_sr_700)):\n",
    "    c=np.where(idd_resonance_cr_sr==idd_resonance_cr_sr_700[i])\n",
    "    commons_cr_sr.extend(list(idd_resonance_cr_sr[c]))\n",
    "print(len(commons_cr_sr))"
   ],
   "outputs": [
    {
     "output_type": "stream",
     "name": "stdout",
     "text": [
      "0\n"
     ]
    }
   ],
   "metadata": {}
  },
  {
   "cell_type": "markdown",
   "source": [
    "# OLR in the Solar Neighborhood"
   ],
   "metadata": {}
  },
  {
   "cell_type": "code",
   "execution_count": 31,
   "source": [
    "x_resonance_olr_sr=(x_resonance_olr[keep_olr_sn])\n",
    "y_resonance_olr_sr=(y_resonance_olr[keep_olr_sn])\n",
    "z_resonance_olr_sr=(z_resonance_olr[keep_olr_sn])\n",
    "vr_resonance_olr_sr=(vr_resonance_olr[keep_olr_sn])\n",
    "vphi_resonance_olr_sr=(vphi_resonance_olr[keep_olr_sn])\n",
    "#vzz_resonance_olr_sr=(vzz_resonance_olr[keep_olr_sn])\n",
    "\n",
    "r_resonance_olr_sr=r_resonance_olr[keep_olr_sn]\n",
    "phi_resonance_olr_sr=phi_resonance_olr[keep_olr_sn]"
   ],
   "outputs": [],
   "metadata": {}
  },
  {
   "cell_type": "code",
   "execution_count": 32,
   "source": [
    "#checking for matching idds\n",
    "\n",
    "idd_resonance_olr_sr=idd_resonance_olr[keep_olr_sn]\n",
    "\n",
    "datafilename=\"700idd_resonance_olr_sr.pkl\"\n",
    "\n",
    "idd_stored_olr_sr = open(save_datapath+datafilename,'rb')\n",
    "idd_resonance_olr_sr_700=pickle.load(idd_stored_olr_sr)\n",
    "\n",
    "commons_olr_sr=list()\n",
    "for i in range(len(idd_resonance_olr_sr_700)):\n",
    "    c=np.where(idd_resonance_olr_sr==idd_resonance_olr_sr_700[i])\n",
    "    commons_olr_sr.extend(list(idd_resonance_olr_sr[c]))\n",
    "print(len(commons_olr_sr))"
   ],
   "outputs": [
    {
     "output_type": "stream",
     "name": "stdout",
     "text": [
      "0\n"
     ]
    }
   ],
   "metadata": {}
  },
  {
   "cell_type": "markdown",
   "source": [
    "# Printing resonance data"
   ],
   "metadata": {}
  },
  {
   "cell_type": "code",
   "execution_count": 33,
   "source": [
    "print(\"Ones with OLR resonance in the solar neighborhood: \",y_resonance_olr_sr)\n",
    "print(\"Ones with CR resonance in the solar neighborhood: \",y_resonance_cr_sr)"
   ],
   "outputs": [
    {
     "output_type": "stream",
     "name": "stdout",
     "text": [
      "Ones with OLR resonance in the solar neighborhood:  [0.13539053 0.11617247 0.24033543 ... 0.49919045 0.3898266  0.39090514]\n",
      "Ones with CR resonance in the solar neighborhood:  [ 2.39046827e-01  3.68401229e-01  2.71453857e-01  3.22506785e-01\n",
      "  2.35890225e-01  2.35940591e-01  3.65738988e-01  3.08652550e-01\n",
      "  2.43124872e-01  2.89240092e-01  2.89403558e-01  1.46443695e-01\n",
      "  1.66457579e-01  9.23514962e-02  5.26732616e-02  1.71075016e-01\n",
      "  1.54910281e-01  1.85734808e-01  1.04269631e-01  1.68730959e-01\n",
      "  2.03729466e-01  8.73199850e-02  4.26607840e-02  5.92240281e-02\n",
      "  3.47240008e-02  5.35873696e-02  7.77621120e-02  1.30406708e-01\n",
      " -4.00433801e-02 -8.19723383e-02 -9.42367166e-02 -8.36657435e-02\n",
      " -6.07733317e-02 -3.84296440e-02 -6.92857355e-02 -4.61861454e-02\n",
      " -1.46630868e-01 -2.24715129e-01 -3.11126769e-01 -2.81361550e-01\n",
      " -2.41057575e-01 -2.34927520e-01 -2.63748646e-01 -2.47508585e-01\n",
      " -2.95852721e-01 -1.98557124e-01 -2.70590901e-01 -3.06935966e-01\n",
      "  2.74474639e-03 -2.82640085e-02 -2.57555068e-01 -2.03100890e-01\n",
      " -2.68837959e-01 -3.08989346e-01 -2.37961709e-01 -1.97838187e-01\n",
      " -1.63019031e-01 -2.21009880e-01 -2.15072617e-01 -7.07123205e-02\n",
      "  4.77926712e-03 -1.05905958e-01 -1.29142165e-01 -6.15332574e-02\n",
      " -1.07846320e-01  2.10145433e-02 -1.12686083e-02 -7.57364333e-02\n",
      "  1.63735412e-02  1.45970479e-01  1.33718774e-01  1.70632511e-01\n",
      "  9.70726162e-02  1.17887795e-01  1.68262571e-01  3.03357661e-01\n",
      "  3.08540910e-01  2.88068682e-01  2.12258592e-01  2.85460949e-01\n",
      "  2.45780110e-01  2.52610356e-01  3.10618848e-01  3.10037434e-01\n",
      "  3.08861613e-01  2.26869583e-01  3.45644057e-01  3.11453760e-01\n",
      "  3.23295027e-01 -4.93161410e-01 -3.19127351e-01 -4.25870329e-01\n",
      " -3.64562452e-01 -4.49541986e-01 -4.95605946e-01 -4.04420912e-01\n",
      " -3.90028387e-01 -3.70636910e-01 -4.30911690e-01 -4.68866527e-01\n",
      " -4.05411690e-01 -4.68437940e-01 -3.53052020e-01 -4.67808843e-01\n",
      " -4.52901840e-01 -3.16496491e-01 -4.31667894e-01 -4.20817286e-01\n",
      " -4.58174020e-01 -3.31863672e-01 -3.22496653e-01 -3.90271127e-01\n",
      " -3.73049796e-01 -4.24667597e-01 -4.39103663e-01 -4.87410247e-01\n",
      " -4.97010052e-01 -4.55735415e-01 -4.06038284e-01 -4.08404320e-01\n",
      " -4.47929323e-01 -4.08172160e-01 -4.22873199e-01 -3.97761554e-01\n",
      " -3.83188009e-01 -3.33877087e-01 -3.30530912e-01 -3.90358537e-01\n",
      " -4.30703849e-01 -4.32202250e-01 -4.59667772e-01 -4.64549273e-01\n",
      " -4.01232600e-01 -3.13942939e-01 -3.16465169e-01 -3.92010480e-01\n",
      " -4.76653963e-01 -4.33656484e-01 -4.52704459e-01 -4.03030396e-01\n",
      " -4.82471704e-01 -3.80620569e-01 -3.84332359e-01 -4.54345882e-01\n",
      " -3.97589445e-01 -3.26606780e-01 -3.14127415e-01 -4.25755769e-01\n",
      " -4.14253026e-01 -4.34749305e-01 -4.25860524e-01 -4.47495908e-01\n",
      " -4.05449420e-01 -3.75620782e-01 -3.53812873e-01 -3.59498501e-01\n",
      " -3.90773356e-01 -4.98465061e-01 -4.91336256e-01 -4.72683787e-01\n",
      " -4.40130740e-01 -3.21716100e-01 -3.46267700e-01 -3.94166648e-01\n",
      " -3.63345385e-01 -3.56788129e-01 -4.78653461e-01 -3.73203844e-01\n",
      " -3.86467665e-01 -3.38376015e-01 -3.25834602e-01 -4.00661618e-01\n",
      " -4.73391920e-01 -4.81543303e-01 -4.97277319e-01 -4.99180436e-01\n",
      " -4.07786161e-01 -3.78046691e-01 -4.08135861e-01 -4.63415533e-01\n",
      " -3.92506689e-01 -4.43293571e-01 -4.44593340e-01 -3.68939966e-01\n",
      " -3.89352471e-01 -3.80413949e-01 -3.50974113e-01 -3.30879539e-01\n",
      " -3.95064980e-01 -3.75255495e-01 -4.62805629e-01 -4.90874350e-01\n",
      " -4.97024655e-01  2.81724364e-01  1.54502004e-01  9.39386413e-02\n",
      "  1.49144307e-01  1.13612592e-01  8.06881711e-02  1.12380005e-01\n",
      "  8.47804397e-02  3.21743935e-02  1.77456126e-01  1.23378567e-01\n",
      "  1.56785622e-01  3.16932768e-01  3.08628023e-01  3.07605594e-01\n",
      "  3.18649441e-01  3.69302809e-01  3.72402430e-01  2.15227664e-01\n",
      "  3.76163185e-01  2.67640293e-01  2.95758545e-01  2.59217411e-01\n",
      "  2.45030135e-01  3.06161523e-01  3.51490498e-01  3.36711645e-01\n",
      "  3.05968881e-01  3.20357829e-01  3.61535519e-01  2.52308249e-01\n",
      "  2.46983200e-01  2.15845600e-01  2.08603933e-01  3.59289527e-01\n",
      "  3.51472825e-01  3.50986272e-01  3.15193653e-01  3.67215157e-01\n",
      "  3.28838766e-01  3.13870877e-01  3.62928271e-01  3.10485035e-01\n",
      "  2.11960837e-01  1.66993439e-01  1.77437067e-01  5.56666590e-02\n",
      "  1.03378780e-01  7.37794191e-02  9.56844613e-02  5.42500876e-02\n",
      "  5.71332574e-02  1.71399221e-01  1.50733247e-01  1.79424614e-01\n",
      "  1.26133949e-01  7.29343146e-02  8.29447955e-02  1.68807998e-01\n",
      "  1.47837579e-01  1.41409740e-01  1.35309562e-01  9.91990492e-02\n",
      "  1.70052171e-01  6.47290722e-02  1.05104730e-01  1.96542308e-01\n",
      " -1.33688197e-01  6.38271030e-03  1.01919575e-02  3.19932937e-03\n",
      "  1.33212544e-02 -1.09958798e-01 -1.08288936e-02  3.09692454e-02\n",
      "  1.97401550e-02 -3.77497263e-02 -5.08201830e-02 -1.14756413e-02\n",
      " -6.53490126e-02 -6.50370345e-02 -6.01378158e-02 -2.64009330e-02\n",
      "  4.20094468e-03 -3.59284729e-02 -2.71632485e-02 -1.02909930e-01\n",
      " -1.01621091e-01 -8.80278572e-02 -1.42829701e-01 -2.85744339e-01\n",
      " -1.65390357e-01 -1.57166883e-01 -2.86422342e-01 -1.41257405e-01\n",
      " -1.98412418e-01 -1.91748813e-01 -2.52964854e-01 -2.47742608e-01\n",
      " -2.00232238e-01 -1.43510684e-01 -2.66945869e-01 -2.14755297e-01\n",
      " -1.69010535e-01 -1.82978511e-01 -1.90888375e-01 -2.68352836e-01\n",
      " -1.41315535e-01 -6.06299490e-02 -2.19314545e-02 -1.13320105e-01\n",
      " -5.48772439e-02  1.16325179e-02 -5.90447336e-03 -1.14943534e-02\n",
      "  2.83813793e-02 -2.00931989e-02 -1.19842626e-01 -7.61595517e-02\n",
      " -1.17208205e-01 -9.62228402e-02 -6.30233288e-02 -7.63364062e-02\n",
      " -2.25426778e-01 -2.15735555e-01 -1.56083345e-01 -1.43517971e-01\n",
      " -1.74038440e-01 -1.77490577e-01 -1.54410884e-01 -2.08411098e-01\n",
      " -1.45946175e-01 -2.75030613e-01 -1.51586369e-01 -1.57649219e-01\n",
      " -1.64454371e-01 -1.85981989e-01 -1.93474174e-01 -1.43379971e-01\n",
      " -1.78738549e-01 -1.60536811e-01 -2.60200143e-01 -2.63723880e-01\n",
      " -1.65668041e-01 -1.58295661e-01 -7.82667249e-02 -6.92805871e-02\n",
      " -4.83153388e-02 -1.12050220e-01 -1.22752137e-01 -5.72551638e-02\n",
      " -6.64844811e-02  1.77528691e-02  2.71997228e-02 -9.60123539e-02\n",
      " -6.01300672e-02 -3.00979111e-02 -3.81329991e-02  1.19913714e-02\n",
      "  2.96257064e-02 -4.64648120e-02 -1.22957258e-02 -5.75547293e-02\n",
      " -1.86259896e-01 -2.06459373e-01 -2.26725757e-01 -1.60836294e-01\n",
      " -2.07705021e-01 -2.61692196e-01 -2.91878223e-01 -2.74664015e-01\n",
      " -2.26420388e-01 -1.50617093e-01 -2.05402568e-01 -2.72892982e-01\n",
      " -2.38211155e-01 -2.29552671e-01 -2.72607386e-01 -2.41607159e-01\n",
      " -1.70742154e-01 -2.36405358e-01 -2.52012581e-01 -2.22644016e-01\n",
      " -2.23568231e-01 -1.78969592e-01 -6.20861575e-02 -7.29334429e-02\n",
      " -6.50209635e-02  3.08559146e-02 -2.70461850e-02  2.77002007e-02\n",
      " -8.89231190e-02 -1.08634256e-01 -1.16531380e-01 -7.81702548e-02\n",
      " -5.99567518e-02 -1.03845656e-01 -1.24311961e-01 -1.62232779e-02\n",
      "  2.68331952e-02 -1.35531425e-01 -1.22732677e-01 -1.32027930e-02\n",
      "  1.19359873e-01  1.50074422e-01  1.92935050e-01  7.91155398e-02\n",
      "  1.01957813e-01  1.11268468e-01  5.47297262e-02  1.40103042e-01\n",
      "  1.32534787e-01  4.51907888e-02  5.73105328e-02  6.70334250e-02\n",
      "  1.22311696e-01  1.98172942e-01  1.20184787e-01  1.94906160e-01\n",
      "  1.99535280e-01  1.36289999e-01  1.12445541e-01  9.81065184e-02\n",
      "  1.01831183e-01  1.78922370e-01  2.21148133e-01  3.13016415e-01\n",
      "  3.71076912e-01  3.70635033e-01  3.68439019e-01  3.22349966e-01\n",
      "  3.33238304e-01  3.32170904e-01  2.17686296e-01  2.58615315e-01\n",
      "  3.41530561e-01  3.47648978e-01  3.69240910e-01  2.52035767e-01\n",
      "  2.43950590e-01  3.74139756e-01  3.25551212e-01  3.00769359e-01\n",
      "  3.59572798e-01  2.15744510e-01  3.08150887e-01  3.36078763e-01\n",
      "  3.74123394e-01  3.54060501e-01  2.30667099e-01  2.59622335e-01\n",
      "  2.76774466e-01  2.03057647e-01  7.82473534e-02  3.61226946e-02\n",
      "  9.05158371e-02  1.00475170e-01  1.11343794e-01  5.01873791e-02\n",
      "  7.00808838e-02  1.39416665e-01  1.92617312e-01  1.55720025e-01\n",
      "  8.64310712e-02  4.21805792e-02  3.98573019e-02  1.75022915e-01\n",
      "  1.43414885e-01  1.75015554e-01  1.99606925e-01  6.13155589e-02\n",
      "  2.26040810e-01  2.81444252e-01  2.97718793e-01  3.61120373e-01\n",
      "  3.75404567e-01  3.67717505e-01  3.51564050e-01  4.70455348e-01\n",
      "  4.04909790e-01  4.59326506e-01  4.76022899e-01  4.81681824e-01\n",
      "  4.66415703e-01  4.47323173e-01  4.57738817e-01  4.28972483e-01\n",
      "  4.82365906e-01  3.85444999e-01  4.09276247e-01  4.13749546e-01\n",
      "  3.85526866e-01  3.85469615e-01  4.17195469e-01  3.80185336e-01\n",
      "  4.86634642e-01  4.04890567e-01  4.76700455e-01  4.32287306e-01\n",
      "  4.00339037e-01  4.62904423e-01  3.94248724e-01  4.22917098e-01\n",
      "  4.94040787e-01  4.23528492e-01  4.20090109e-01  3.82319570e-01\n",
      "  4.57351357e-01  4.40961868e-01  4.77471501e-01  4.76833701e-01\n",
      "  4.57560599e-01  4.77631837e-01  4.92584109e-01  4.57919121e-01\n",
      "  4.12589997e-01  4.95093584e-01  4.95542973e-01  3.79107267e-01\n",
      "  4.54972267e-01  4.39319283e-01  4.79841530e-01  4.96853530e-01\n",
      "  4.84370142e-01  4.92345750e-01  4.68955696e-01  4.33132470e-01\n",
      "  3.83409172e-01  4.57449168e-01  4.99255955e-01  4.07578170e-01\n",
      "  4.44884509e-01  4.19623077e-01  3.88378859e-01  4.51701611e-01\n",
      "  4.56266910e-01  2.90103287e-01  3.00114572e-01  3.53195786e-01\n",
      "  2.87539721e-01  2.98571616e-01  3.22318017e-01  3.38895887e-01\n",
      "  2.34138429e-01  2.11892113e-01  3.64099771e-01  3.57896000e-01\n",
      "  2.68777817e-01  1.19274259e-01  1.89779535e-01  7.75713995e-02\n",
      "  4.08315063e-02  1.06832363e-01  1.49411395e-01  1.73484758e-01\n",
      "  1.86606199e-01  1.54456839e-01  8.85078385e-02  9.47905630e-02\n",
      "  1.77082807e-01  1.97131947e-01  1.65090039e-01  1.85865521e-01\n",
      "  6.78642094e-02  1.78214863e-01  1.39425352e-01  1.90720819e-02\n",
      "  1.38263926e-02 -1.24561682e-01 -2.69187123e-01 -2.00320169e-01\n",
      " -1.75979093e-01 -1.83994398e-01 -2.13293940e-01 -2.55876482e-01\n",
      " -2.64042288e-01 -3.04168582e-01 -1.75046995e-01 -1.12408251e-01\n",
      " -5.34190685e-02 -8.80920812e-02  6.69645425e-03  5.32351155e-03\n",
      " -4.13876809e-02 -1.09535411e-01 -1.07090265e-01  3.79578630e-03\n",
      "  9.80049651e-03  5.99383470e-03 -1.37554660e-01 -1.32880032e-01\n",
      " -7.15128332e-02 -2.95787714e-02  3.05262897e-02 -1.22415992e-02\n",
      " -1.71796888e-01 -2.60525584e-01 -1.50207326e-01 -1.64564759e-01\n",
      " -1.49047092e-01 -2.70756364e-01 -2.97171444e-01 -2.00811937e-01\n",
      " -2.65358448e-01 -1.33137017e-01  3.13820615e-02  2.56084614e-02\n",
      "  1.73880644e-02 -3.28839757e-02  3.10556814e-02 -4.01951745e-02\n",
      " -1.34563416e-01 -1.28243327e-01 -6.87296093e-02 -2.92380273e-01\n",
      " -2.54525542e-01 -2.92504072e-01 -2.17193380e-01 -2.29414001e-01\n",
      " -2.68546432e-01 -2.88797498e-01 -1.79538086e-01  2.21680030e-02\n",
      " -1.36587381e-01 -8.29060823e-02  2.32306626e-02 -5.02896160e-02\n",
      " -2.27282867e-02  2.08392981e-02 -1.80510897e-02 -1.04852937e-01\n",
      " -1.28511712e-01 -1.25640482e-01 -7.34023154e-02  1.90375540e-02\n",
      " -3.64418626e-02 -6.01386502e-02 -9.25197005e-02 -2.21382514e-01\n",
      " -3.05556655e-01 -2.88358003e-01 -2.55861104e-01 -2.21527934e-01\n",
      " -1.74278811e-01 -1.69034407e-01 -1.83936208e-01 -2.80520141e-01\n",
      " -2.88994074e-01 -1.69895351e-01 -7.03780353e-02 -1.04017146e-01\n",
      " -5.93951251e-03  9.28157242e-05  3.94700877e-02  1.75006032e-01\n",
      "  6.86179325e-02  4.77758721e-02  1.54962450e-01  1.37249202e-01\n",
      "  5.25502190e-02  8.04291070e-02  8.69906247e-02  1.58302277e-01\n",
      "  1.70718983e-01  1.19185999e-01  1.21198624e-01  1.38127193e-01\n",
      "  1.61777437e-01  4.45459075e-02  5.85978106e-02  7.37275779e-02\n",
      "  7.86561519e-02  9.89004746e-02  1.28868818e-01  1.69767693e-01\n",
      "  1.77693918e-01  1.18140794e-01  7.05357119e-02  1.34544566e-01\n",
      "  2.10340962e-01  2.86814958e-01  3.47089291e-01  3.01666945e-01\n",
      "  2.86024481e-01  2.56497175e-01  2.27861345e-01  3.65423441e-01\n",
      "  3.35555047e-01  3.61521125e-01  3.51061851e-01  2.38115981e-01\n",
      "  2.37750709e-01  2.92557776e-01  3.71964395e-01  2.08947420e-01\n",
      "  2.12408721e-01  3.44535708e-01  3.18764925e-01  3.23805809e-01\n",
      "  2.65312523e-01  2.44533390e-01  2.21007764e-01  2.81268001e-01\n",
      "  2.61427611e-01  2.83166766e-01  2.84943461e-01  2.17971101e-01\n",
      "  3.65121037e-01  3.49029034e-01  3.54077548e-01  3.73646110e-01\n",
      "  3.03412229e-01  2.72934824e-01  2.77278394e-01  1.24454260e-01\n",
      "  1.22097477e-01  8.24805573e-02  4.64942344e-02  8.85808021e-02\n",
      "  1.12857528e-01  1.98440537e-01  9.08027813e-02  1.12687767e-01\n",
      "  1.74445212e-01  4.45177630e-02  1.59619585e-01  1.84904903e-01\n",
      "  3.71970862e-01  3.42079639e-01  1.61099695e-02 -1.49405017e-01\n",
      " -3.04612428e-01 -2.55127609e-01 -2.63367325e-01 -3.07854921e-01\n",
      " -3.02074224e-01 -2.58331031e-01 -1.96234927e-01 -1.99109823e-01\n",
      " -1.49085611e-01 -1.49886861e-01 -8.15947354e-02 -5.59174716e-02\n",
      " -9.61353034e-02 -1.31951287e-01 -1.02331899e-01 -3.85147706e-02\n",
      " -3.06118205e-02 -4.85764109e-02 -3.49046178e-02 -2.88243830e-01\n",
      " -2.46127307e-01 -1.57129094e-01 -1.76847652e-01 -1.82340831e-01\n",
      " -1.89717814e-01 -2.23347679e-01 -2.11700395e-01 -3.69535953e-01\n",
      " -4.35377210e-01 -4.57585543e-01 -4.54952419e-01 -3.36778164e-01\n",
      " -3.32312703e-01 -4.65602845e-01 -4.92702007e-01 -4.20814723e-01\n",
      " -4.65691149e-01 -4.70610946e-01 -4.05848861e-01 -4.14071709e-01\n",
      " -3.58546942e-01 -3.70416820e-01 -3.63574207e-01 -4.82126147e-01\n",
      " -4.00933921e-01 -3.93832982e-01 -3.29705387e-01 -4.48150605e-01\n",
      " -4.36055124e-01 -3.61202061e-01 -3.44898105e-01 -3.42316955e-01\n",
      " -4.55936760e-01 -4.22270745e-01 -4.76088494e-01 -3.43634903e-01\n",
      " -3.62424999e-01 -3.68026137e-01 -3.14152271e-01 -4.10675317e-01\n",
      " -3.48392069e-01 -3.97987127e-01 -3.80887091e-01 -3.44506681e-01\n",
      " -4.67742264e-01 -4.29399610e-01 -3.32240820e-01 -3.94440502e-01\n",
      " -3.96559894e-01 -3.61806780e-01 -3.21641535e-01 -4.46777761e-01\n",
      " -3.28243077e-01 -3.31163794e-01 -4.00511473e-01 -4.09946978e-01\n",
      " -3.87379795e-01 -3.50743175e-01 -4.13560301e-01 -4.46461290e-01\n",
      " -3.66310507e-01 -4.15024191e-01 -3.88113946e-01 -3.45045716e-01\n",
      " -4.79023188e-01 -3.29181254e-01 -3.78791600e-01 -4.71932352e-01\n",
      " -4.93370354e-01 -3.32826465e-01 -4.27699804e-01 -3.50228995e-01\n",
      " -4.34679836e-01 -4.34893250e-01 -4.07803595e-01 -4.51661557e-01\n",
      " -3.39804053e-01 -3.62103581e-01  4.05204922e-01  4.51494247e-01\n",
      "  3.81091177e-01  4.67188925e-01  4.43792224e-01  4.19471949e-01\n",
      "  4.30916369e-01  4.82522905e-01  4.65967834e-01  4.71321255e-01\n",
      "  4.46802080e-01  4.54075366e-01  4.27685678e-01  3.98637921e-01\n",
      "  4.18452203e-01  3.97257984e-01  4.49414372e-01  3.90214086e-01\n",
      "  4.74821091e-01  4.26779956e-01  4.49810773e-01  4.37409580e-01\n",
      "  4.75993633e-01  4.69294637e-01  4.28266674e-01  4.68298525e-01\n",
      "  4.21910495e-01  4.19901580e-01  4.30854380e-01  4.39001739e-01\n",
      "  4.72502708e-01  4.86406744e-01  4.27500010e-01  4.55502748e-01\n",
      "  4.25562918e-01  4.94327515e-01  4.37983483e-01  4.41231459e-01\n",
      "  4.83918130e-01]\n"
     ]
    }
   ],
   "metadata": {}
  },
  {
   "cell_type": "code",
   "execution_count": 34,
   "source": [
    "# for CR\n",
    "\n",
    "x_700=list()\n",
    "y_700=list()\n",
    "for i in range(len(commons)):\n",
    "    test = loadonesource(path,commons[i],start=700,finish=701)\n",
    "    x_test=test['x']\n",
    "    y_test=test['y']\n",
    "    x_700.extend(x_test)\n",
    "    y_700.extend(y_test)\n",
    "\n",
    "print(len(x_700))\n",
    "\n",
    "\n",
    "x_1000=list()\n",
    "y_1000=list()\n",
    "for i in range(len(commons)):\n",
    "    test = loadonesource(path,commons[i],start=snapshot,finish=snapshot+1)\n",
    "    x_test=test['x']\n",
    "    y_test=test['y']\n",
    "    x_1000.extend(x_test)\n",
    "    y_1000.extend(y_test)\n"
   ],
   "outputs": [
    {
     "output_type": "stream",
     "name": "stdout",
     "text": [
      "5815\n"
     ]
    }
   ],
   "metadata": {}
  },
  {
   "cell_type": "code",
   "execution_count": 35,
   "source": [
    "# for OLR\n",
    "\n",
    "x_700_olr=list()\n",
    "y_700_olr=list()\n",
    "for i in range(len(commons_olr)):\n",
    "    test = loadonesource(path,commons_olr[i],start=700,finish=701)\n",
    "    x_test=test['x']\n",
    "    y_test=test['y']\n",
    "    x_700_olr.extend(x_test)\n",
    "    y_700_olr.extend(y_test)\n",
    "\n",
    "print(len(x_700))\n",
    "\n",
    "\n",
    "\n",
    "x_1000_olr=list()\n",
    "y_1000_olr=list()\n",
    "for i in range(len(commons_olr)):\n",
    "    test = loadonesource(path,commons_olr[i],start=snapshot,finish=snapshot+1)\n",
    "    x_test=test['x']\n",
    "    y_test=test['y']\n",
    "    x_1000_olr.extend(x_test)\n",
    "    y_1000_olr.extend(y_test)\n"
   ],
   "outputs": [
    {
     "output_type": "stream",
     "name": "stdout",
     "text": [
      "5815\n"
     ]
    }
   ],
   "metadata": {}
  },
  {
   "cell_type": "code",
   "execution_count": 36,
   "source": [
    "print(len(x_1000_olr))\n",
    "print(len(x_700_olr))"
   ],
   "outputs": [
    {
     "output_type": "stream",
     "name": "stdout",
     "text": [
      "34560\n",
      "34560\n"
     ]
    }
   ],
   "metadata": {}
  },
  {
   "cell_type": "markdown",
   "source": [
    "# Plotting resonance stars before and after"
   ],
   "metadata": {}
  },
  {
   "cell_type": "code",
   "execution_count": 37,
   "source": [
    "fig3=plt.figure()\n",
    "ax=fig3.add_subplot(111)\n",
    "#ax.text(8,300,r\"Snapshot %s, Slice: -5<$\\phi$<5\"%(str(snapshot)))\n",
    "#cb1=ax.hexbin(x_select,y_select,extent=((-35,35,-35,35)),gridsize=500,mincnt=1,C=Ordisk,vmin=1,vmax=40)\n",
    "cb1=ax.hexbin(x_select,y_select,extent=((-35,35,-35,35)),gridsize=500,mincnt=1,bins='log')\n",
    "ax.scatter(x_700_olr,y_700_olr,c=\"red\",marker=\".\",s=0.01,label=\"OLR at 700\")\n",
    "ax.scatter(x_1000_olr,y_1000_olr,c=\"yellow\",marker=\".\",s=0.01,label=\"OLR at \"+str(snapshot))\n",
    "ax.scatter(x_700,y_700,c=\"orange\",marker=\".\",s=0.1,label=\"CR at 700\")\n",
    "ax.scatter(x_1000,y_1000,c=\"black\",marker=\".\",s=0.1,label=\"CR at \"+str(snapshot))\n",
    "ax.set_xlabel(\"x\")\n",
    "ax.set_ylabel(\"y\")\n",
    "ax.legend(bbox_to_anchor=(1.13,0.93), loc='center left',markerscale=9)\n",
    "ax.text(11,30,r\"Snapshot \"+str(snapshot)+\" (B3-N)\")\n",
    "#ax.set_xlim(7.5,8.5)\n",
    "#ax.set_ylim(-0.5,0.5)\n",
    "cbar_ax = fig3.add_axes([0.91, 0.12, 0.03, 0.76]) # position of the colorbar (left, bottom, width, height)\n",
    "fig3.colorbar(cb1, cax=cbar_ax)\n",
    "cbar_ax.set_ylabel(r'n$_{star}$')\n",
    "cbar_ax.yaxis.label.set_size(10)\n",
    "plotname=str(snapshot)+\"B3-N_y_vs_x_with_resonance_regions_whole_galaxy_before_after.jpg\"\n",
    "fig3.savefig(plotpath+plotname,bbox_inches=\"tight\",dpi=250)\n",
    "print(\"Plot generated and saved to file: \",plotname)\n",
    "plt.close()"
   ],
   "outputs": [
    {
     "output_type": "stream",
     "name": "stdout",
     "text": [
      "Plot generated and saved to file:  800B3-N_y_vs_x_with_resonance_regions_whole_galaxy_before_after.jpg\n"
     ]
    }
   ],
   "metadata": {}
  },
  {
   "cell_type": "markdown",
   "source": [
    "# Plotting x and y of resonance regions in the entire galaxy"
   ],
   "metadata": {}
  },
  {
   "cell_type": "code",
   "execution_count": null,
   "source": [
    "fig4=plt.figure()\n",
    "ax=fig4.add_subplot(111)\n",
    "#ax.text(8,300,r\"Snapshot %s, Slice: -5<$\\phi$<5\"%(str(snapshot)))\n",
    "#cb1=ax.hexbin(x_select,y_select,extent=((-35,35,-35,35)),gridsize=500,mincnt=1,C=Ordisk,vmin=1,vmax=40)\n",
    "cb1=ax.hexbin(x_select,y_select,extent=((-35,35,-35,35)),gridsize=500,mincnt=1,bins='log')\n",
    "ax.scatter(x_resonance_cr,y_resonance_cr,c=\"black\",marker=\".\",s=0.01,label=\"CR\")\n",
    "ax.scatter(x_resonance_olr,y_resonance_olr,c=\"red\",marker=\".\",s=0.01,label=\"OLR\")\n",
    "ax.scatter(x_resonance_cr_sr,y_resonance_cr_sr,c=\"yellow\",marker=\".\",s=0.1,label=\"CR-SN\")\n",
    "ax.scatter(x_resonance_olr_sr,y_resonance_olr_sr,c=\"orange\",marker=\".\",s=0.1,label=\"OLR-SN\")\n",
    "ax.set_xlabel(\"x\")\n",
    "ax.set_ylabel(\"y\")\n",
    "ax.legend(bbox_to_anchor=(1.13,0.93), loc='center left',markerscale=9)\n",
    "ax.text(11,30,r\"Snapshot \"+str(snapshot)+\" (B3-N)\")\n",
    "#ax.set_xlim(7.5,8.5)\n",
    "#ax.set_ylim(-0.5,0.5)\n",
    "cbar_ax = fig4.add_axes([0.91, 0.12, 0.03, 0.76]) # position of the colorbar (left, bottom, width, height)\n",
    "fig4.colorbar(cb1, cax=cbar_ax)\n",
    "cbar_ax.set_ylabel(r'n$_{star}$')\n",
    "cbar_ax.yaxis.label.set_size(10)\n",
    "plotname=str(snapshot)+\"B3-N_y_vs_x_with_resonance_regions_whole_galaxy.jpg\"\n",
    "fig4.savefig(plotpath+plotname,bbox_inches=\"tight\",dpi=250)\n",
    "print(\"Plot generated and saved to file: \",plotname)\n",
    "plt.close()"
   ],
   "outputs": [],
   "metadata": {}
  },
  {
   "cell_type": "code",
   "execution_count": null,
   "source": [
    "print(np.max(vr_select))"
   ],
   "outputs": [],
   "metadata": {}
  },
  {
   "cell_type": "code",
   "execution_count": null,
   "source": [
    "fig5=plt.figure()\n",
    "ax=fig5.add_subplot(111)\n",
    "#ax.text(8,300,r\"Snapshot %s, Slice: -5<$\\phi$<5\"%(str(snapshot)))\n",
    "#cb1=ax.hexbin(x_select,y_select,extent=((-35,35,-35,35)),gridsize=500,mincnt=1,C=Ordisk,vmin=1,vmax=40)\n",
    "cb1=ax.hexbin(vr,vphi,extent=((-650,650,-650,650)),gridsize=500,mincnt=1,bins='log')\n",
    "ax.set_xlabel(\"vR\")\n",
    "ax.set_ylabel(r\"v$\\phi$\")\n",
    "ax.scatter(vr_resonance_cr,vphi_resonance_cr,c=\"black\",marker=\".\",s=0.01,label=\"CR\")\n",
    "ax.scatter(vr_resonance_olr,vphi_resonance_olr,c=\"red\",marker=\".\",s=0.01,label=\"OLR\")\n",
    "ax.scatter(vr_resonance_cr_sr,vphi_resonance_cr_sr,c=\"yellow\",marker=\".\",s=0.1,label=\"CR-SN\")\n",
    "ax.scatter(vr_resonance_olr_sr,vphi_resonance_olr_sr,c=\"orange\",marker=\".\",s=0.1,label=\"OLR-SN\")\n",
    "ax.legend(bbox_to_anchor=(1.13,0.93), loc='center left',markerscale=9)\n",
    "ax.text(248,550,r\"Snapshot \"+str(snapshot)+\" (B3-N)\")\n",
    "\n",
    "cbar_ax = fig5.add_axes([0.91, 0.12, 0.03, 0.76]) # position of the colorbar (left, bottom, width, height)\n",
    "fig5.colorbar(cb1, cax=cbar_ax)\n",
    "cbar_ax.set_ylabel(r'n$_{star}$')\n",
    "cbar_ax.yaxis.label.set_size(10)\n",
    "plotname=str(snapshot)+\"B3-N_v_phi_vs_vr_with_resonance_regions.jpg\"\n",
    "fig5.savefig(plotpath+plotname,bbox_inches=\"tight\",dpi=200)\n",
    "print(\"Plot generated and saved to file: \",plotname)\n",
    "plt.close()"
   ],
   "outputs": [],
   "metadata": {}
  },
  {
   "cell_type": "code",
   "execution_count": null,
   "source": [
    "fig5_1=plt.figure()\n",
    "ax=fig5_1.add_subplot(111)\n",
    "#ax.text(8,300,r\"Snapshot %s, Slice: -5<$\\phi$<5\"%(str(snapshot)))\n",
    "#cb1=ax.hexbin(x_select,y_select,extent=((-35,35,-35,35)),gridsize=500,mincnt=1,C=Ordisk,vmin=1,vmax=40)\n",
    "cb1=ax.hexbin(vr_sn,vphi_sn,extent=((-200,200,50,300)),gridsize=500,mincnt=1,vmin=1,vmax=30)\n",
    "ax.set_xlabel(\"vR\")\n",
    "ax.set_ylabel(r\"v$\\phi$\")\n",
    "#ax.scatter(vr_resonance_cr,vphi_resonance_cr,c=\"black\",marker=\".\",s=0.01,label=\"CR\")\n",
    "#ax.scatter(vr_resonance_olr,vphi_resonance_olr,c=\"red\",marker=\".\",s=0.01,label=\"OLR\")\n",
    "ax.scatter(vr_resonance_cr_sr,vphi_resonance_cr_sr,c=\"yellow\",marker=\"*\",s=0.3,label=\"CR-SN\")\n",
    "ax.scatter(vr_resonance_olr_sr,vphi_resonance_olr_sr,c=\"orange\",marker=\"*\",s=0.3,label=\"OLR-SN\")\n",
    "ax.legend(bbox_to_anchor=(1.13,0.93), loc='center left',markerscale=9)\n",
    "ax.text(70,285,r\"Snapshot \"+str(snapshot)+\" (B3-N)\")\n",
    "ax.text(-180,285,r\"7.5<x<8.5, -0.5<y<0.5, -0.5<z<0.5\")\n",
    "\n",
    "cbar_ax = fig5_1.add_axes([0.91, 0.12, 0.03, 0.76]) # position of the colorbar (left, bottom, width, height)\n",
    "fig5_1.colorbar(cb1, cax=cbar_ax)\n",
    "cbar_ax.set_ylabel(r'n$_{star}$')\n",
    "cbar_ax.yaxis.label.set_size(10)\n",
    "plotname=str(snapshot)+\"B3-N_v_phi_vs_vr_with_resonance_region_in_sn_slice.jpg\"\n",
    "fig5_1.savefig(plotpath+plotname,bbox_inches=\"tight\",dpi=300)\n",
    "print(\"Plot generated and saved to file: \",plotname)\n",
    "plt.close()"
   ],
   "outputs": [],
   "metadata": {}
  },
  {
   "cell_type": "markdown",
   "source": [
    "# Selecting a small angular region for analysis"
   ],
   "metadata": {}
  },
  {
   "cell_type": "code",
   "execution_count": null,
   "source": [
    "keep_phi=(phi_select<5)*(phi_select>-5)\n",
    "vphi_slice=vphi_select[keep_phi]\n",
    "\n",
    "r_slice=r_select[keep_phi]\n",
    "\n",
    "fig6=plt.figure()\n",
    "ax=fig6.add_subplot(212)\n",
    "ax1=fig6.add_subplot(211)\n",
    "#ax.text(8,300,r\"Snapshot %s, Slice: -5<$\\phi$<5\"%(str(snapshot)))\n",
    "#cb1=ax.hexbin(x_select,y_select,extent=((-35,35,-35,35)),gridsize=500,mincnt=1,C=Ordisk,vmin=1,vmax=40)\n",
    "cb1=ax.hexbin(r_slice,vphi_slice,extent=((5,15,50,300)),gridsize=500,mincnt=1,vmin=1,vmax=80)\n",
    "ax.set_xlabel(\"R\")\n",
    "ax.set_ylabel(r\"v$\\phi$\")\n",
    "ax_cr=ax.scatter(r_resonance_cr_phi_slice,vphi_resonance_cr_phi_slice,c=\"black\",marker=\".\",s=0.1,label=\"CR\")\n",
    "print(len(r_resonance_cr))\n",
    "ax_olr=ax.scatter(r_resonance_olr_phi_slice,vphi_resonance_olr_phi_slice,c=\"red\",marker=\".\",s=0.1,label=\"OLR\")\n",
    "ax.scatter(r_resonance_cr_sr,vphi_resonance_cr_sr,c=\"yellow\",marker=\"*\",s=0.1,label=\"CR-SN\")\n",
    "ax.scatter(r_resonance_olr_sr,vphi_resonance_olr_sr,c=\"orange\",marker=\"*\",s=0.1,label=\"OLR-SN\")\n",
    "\n",
    "cbar_ax = fig6.add_axes([0.91, 0.12, 0.03, 0.76]) # position of the colorbar (left, bottom, width, height)\n",
    "fig6.colorbar(cb1, cax=cbar_ax)\n",
    "cbar_ax.set_ylabel(r'n$_{star}$')\n",
    "cbar_ax.yaxis.label.set_size(10)\n",
    "ax.set_xlim(5,15)\n",
    "ax.set_ylim(50,300)\n",
    "#ax.legend(bbox_to_anchor=(0.77,0.93), loc='center left',markerscale=9)\n",
    "ax.legend(bbox_to_anchor=(1.13,1.6), loc='center left',markerscale=9)\n",
    "\n",
    "ax1.hexbin(r_slice,vphi_slice,extent=((5,15,50,300)),gridsize=500,mincnt=1,vmin=1,vmax=80)\n",
    "ax1.set_xlim(5,15)\n",
    "ax1.set_ylim(50,300)\n",
    "ax1.text(12,270,r\"Slice -5<$\\phi$<5\")\n",
    "#ax.legend(markerscale=6)\n",
    "plotname=str(snapshot)+\"B3-N_v_phi_vs_r_with_resonance_regions.jpg\"\n",
    "fig6.suptitle(\"B3-N, Snapshot \"+str(snapshot))\n",
    "fig6.savefig(plotpath+plotname,bbox_inches=\"tight\",dpi=300)\n",
    "print(\"Plot generated and saved to file: \",plotname)\n",
    "plt.close()"
   ],
   "outputs": [],
   "metadata": {}
  },
  {
   "cell_type": "code",
   "execution_count": null,
   "source": [
    "print(r_resonance_cr_sr)"
   ],
   "outputs": [],
   "metadata": {}
  },
  {
   "cell_type": "code",
   "execution_count": null,
   "source": [],
   "outputs": [],
   "metadata": {}
  },
  {
   "cell_type": "markdown",
   "source": [
    "# Loading new sims demo !!!!"
   ],
   "metadata": {}
  },
  {
   "cell_type": "code",
   "execution_count": null,
   "source": [
    "from procedure import *"
   ],
   "outputs": [],
   "metadata": {}
  },
  {
   "cell_type": "code",
   "execution_count": null,
   "source": [
    "path"
   ],
   "outputs": [],
   "metadata": {}
  },
  {
   "cell_type": "code",
   "execution_count": null,
   "source": [
    "snaparr = loadwholesnap(path,90)"
   ],
   "outputs": [],
   "metadata": {}
  },
  {
   "cell_type": "code",
   "execution_count": null,
   "source": [
    "print(snaparr[0].dtype)"
   ],
   "outputs": [],
   "metadata": {}
  },
  {
   "cell_type": "code",
   "execution_count": null,
   "source": [
    "snaparr[(snaparr['x']>3)&(snaparr['y']<2)]['z']"
   ],
   "outputs": [],
   "metadata": {}
  },
  {
   "cell_type": "code",
   "execution_count": null,
   "source": [
    "np.where(snaparr['idd']==241071075)[0]"
   ],
   "outputs": [],
   "metadata": {}
  },
  {
   "cell_type": "code",
   "execution_count": null,
   "source": [],
   "outputs": [],
   "metadata": {}
  }
 ],
 "metadata": {
  "orig_nbformat": 4,
  "kernelspec": {
   "name": "python3",
   "display_name": "Python 3",
   "language": "python"
  },
  "interpreter": {
   "hash": "6f49258605f7cf164064b7cdb9c998ca72afab938262f6585b3280eb87db805c"
  },
  "language_info": {
   "name": "python",
   "version": "3.7.3",
   "mimetype": "text/x-python",
   "codemirror_mode": {
    "name": "ipython",
    "version": 3
   },
   "pygments_lexer": "ipython3",
   "nbconvert_exporter": "python",
   "file_extension": ".py"
  }
 },
 "nbformat": 4,
 "nbformat_minor": 2
}