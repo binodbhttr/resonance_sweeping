{
 "cells": [
  {
   "cell_type": "code",
   "execution_count": 1,
   "source": [
    "import numpy as np \n",
    "import pickle\n",
    "from matplotlib import pyplot as plt\n",
    "from galpy.util import bovy_coords as coords\n",
    "import os\n",
    "import sys\n",
    "#import superfreq\n",
    "from procedure import *\n",
    "#from procedure import loadonesource"
   ],
   "outputs": [
    {
     "output_type": "stream",
     "name": "stdout",
     "text": [
      "/mnt/home/bbhattarai/.local/lib/python3.7/site-packages/galpy/util/bovy_coords.py:6: FutureWarning: galpy.util.bovy_coords is being deprecated in favor of galpy.util.coords; all functions in there are the same; please switch to the new import, because the old import will be removed in v1.9\n",
      "  warnings.warn('galpy.util.bovy_coords is being deprecated in favor of galpy.util.coords; all functions in there are the same; please switch to the new import, because the old import will be removed in v1.9',FutureWarning)\n",
      "\n",
      "PLEASE IMPORT superfreq: pip install --user git+https://github.com/adrn/superfreq\n",
      "start at: 2021-08-10 09:38:59.046824\n",
      "end at: 2021-08-10 09:38:59.047336\n"
     ]
    }
   ],
   "metadata": {}
  },
  {
   "cell_type": "code",
   "execution_count": 2,
   "source": [
    "!hostname\n",
    "!pwd"
   ],
   "outputs": [
    {
     "output_type": "stream",
     "name": "stdout",
     "text": [
      "pcn-9-71\n",
      "/mnt/home/bbhattarai\n"
     ]
    }
   ],
   "metadata": {}
  },
  {
   "cell_type": "code",
   "execution_count": 3,
   "source": [
    "datapath=\"/mnt/home/bbhattarai/B3-N/\"\n",
    "freq_datapath=\"/mnt/home/bbhattarai/ceph/freq_data/\"\n",
    "plotpath=\"/mnt/home/bbhattarai/resonance_sweeping/New_Sims_Analysis/plots/\""
   ],
   "outputs": [],
   "metadata": {}
  },
  {
   "cell_type": "markdown",
   "source": [],
   "metadata": {}
  },
  {
   "cell_type": "code",
   "execution_count": 4,
   "source": [
    "snapshot=900"
   ],
   "outputs": [],
   "metadata": {}
  },
  {
   "cell_type": "code",
   "execution_count": 5,
   "source": [
    "freq_datafile=\"DiskActions\"+str(snapshot)+\"_B3N.npy\""
   ],
   "outputs": [],
   "metadata": {}
  },
  {
   "cell_type": "code",
   "execution_count": 6,
   "source": [
    "freqs= np.load(freq_datapath+freq_datafile)"
   ],
   "outputs": [],
   "metadata": {}
  },
  {
   "cell_type": "markdown",
   "source": [
    "# Reading the values from the frequency data"
   ],
   "metadata": {}
  },
  {
   "cell_type": "code",
   "execution_count": null,
   "source": [
    "#Jrdisk=freqs[0]\n",
    "#Jphidisk=freqs[1]\n",
    "#Jzdisk=freqs[2]\n",
    "#Trdisk=freqs[3]\n",
    "#Tphidisk=freqs[4]\n",
    "#Tzdisk=freqs[5]\n",
    "Ordisk=freqs[6]\n",
    "Ophidisk=freqs[7]\n",
    "#Ozdisk=freqs[8]\n",
    "idd_from_freqs=freqs[9]\n",
    "del freqs"
   ],
   "outputs": [],
   "metadata": {}
  },
  {
   "cell_type": "markdown",
   "source": [
    "# Reading the snapshot data"
   ],
   "metadata": {}
  },
  {
   "cell_type": "code",
   "execution_count": null,
   "source": [
    "snaparr = loadwholesnap(path,snapshot)\n",
    "print(\"These are the data we have\",snaparr[0].dtype)\n",
    "idd=snaparr['idd']\n",
    "x=snaparr['x']\n",
    "y=snaparr['y']\n",
    "z=snaparr['z']\n",
    "vx=snaparr['vx']\n",
    "vy=snaparr['vy']\n",
    "#vz=snaparr['vz']  \n",
    "mass=snaparr['mass']  #mass is in solar mass (change old mass calculations to take account of the factor 2.324876e9)\n",
    "\n",
    "vr=snaparr['vr']\n",
    "vphi=snaparr['vphi']\n",
    "#vzz=snaparr['vzz']\n",
    "r=snaparr['r']\n",
    "phi=snaparr['phi'] #phi is in radians\n",
    "#zz=snaparr['zz']\n",
    "\n",
    "#converting phi to degrees\n",
    "phi_degrees=np.rad2deg(phi)\n",
    "del snaparr"
   ],
   "outputs": [
    {
     "output_type": "stream",
     "name": "stdout",
     "text": [
      "These are the data we have [('t', '<f8'), ('x', '<f4'), ('y', '<f4'), ('z', '<f4'), ('vx', '<f4'), ('vy', '<f4'), ('vz', '<f4'), ('vr', '<f4'), ('vphi', '<f4'), ('vzz', '<f4'), ('r', '<f4'), ('phi', '<f4'), ('zz', '<f4'), ('mass', '<f4'), ('idd', '<u8')]\n"
     ]
    }
   ],
   "metadata": {}
  },
  {
   "cell_type": "markdown",
   "source": [
    "# Making the cut"
   ],
   "metadata": {}
  },
  {
   "cell_type": "code",
   "execution_count": null,
   "source": [
    "discindx=(mass<1e-7*2.324876e9)\n",
    "idd_snapshots=idd[discindx]\n",
    "x_select=x[discindx]\n",
    "y_select=y[discindx]\n",
    "z_select=z[discindx]\n",
    "\n",
    "vx_select=vx[discindx]\n",
    "vy_select=vy[discindx]\n",
    "#vz_select=vz[discindx]\n",
    "\n",
    "\n",
    "vr_select=vr[discindx]\n",
    "vphi_select=vphi[discindx]\n",
    "#vzz_select=vzz[discindx]\n",
    "\n",
    "\n",
    "r_select=r[discindx]\n",
    "phi_select=phi_degrees[discindx]"
   ],
   "outputs": [],
   "metadata": {}
  },
  {
   "cell_type": "code",
   "execution_count": null,
   "source": [
    "del discindx\n",
    "del mass\n",
    "print(\"These are the ids obtained from the frequency data\",len(idd_from_freqs))\n",
    "print(\"These are the ids obtained from the snapshot  data\",len(idd_snapshots))"
   ],
   "outputs": [
    {
     "output_type": "stream",
     "name": "stdout",
     "text": [
      "These are the ids obtained from the frequency data 250980160\n",
      "These are the ids obtained from the snapshot  data 250980160\n"
     ]
    }
   ],
   "metadata": {}
  },
  {
   "cell_type": "markdown",
   "source": [
    "# Loading all saved barangles"
   ],
   "metadata": {}
  },
  {
   "cell_type": "code",
   "execution_count": null,
   "source": [
    "angle_datapath=\"/mnt/home/bbhattarai/resonance_sweeping//New_Sims_Analysis/\"\n",
    "datafilename=\"0_to_1048_B3-N_fft_barangles_combined_degrees.ang\"\n",
    "ang_stored = open(angle_datapath+datafilename,'rb')\n",
    "all_bangles=pickle.load(ang_stored)\n",
    "print(len(all_bangles))"
   ],
   "outputs": [
    {
     "output_type": "stream",
     "name": "stdout",
     "text": [
      "1048\n"
     ]
    }
   ],
   "metadata": {}
  },
  {
   "cell_type": "markdown",
   "source": [
    "# Checking resonance Conditions"
   ],
   "metadata": {}
  },
  {
   "cell_type": "code",
   "execution_count": null,
   "source": [
    "#datafilename=\"saved_bar_pattern_speed_km_per_s_kpc.ang\"\n",
    "datafilename=\"B3-N_saved_bar_pattern_speed_km_per_s_kpc.ang\"\n",
    "save_datapath=\"/mnt/home/bbhattarai/resonance_sweeping//New_Sims_Analysis/\"\n",
    "ps_stored = open(save_datapath+datafilename,'rb')\n",
    "ps=pickle.load(ps_stored)\n",
    "#print(ps)\n",
    "ps_located=ps[snapshot]\n",
    "print(ps_located)"
   ],
   "outputs": [
    {
     "output_type": "stream",
     "name": "stdout",
     "text": [
      "30.41060477746785\n"
     ]
    }
   ],
   "metadata": {}
  },
  {
   "cell_type": "markdown",
   "source": [
    "# Adjusting pattern_speed_value"
   ],
   "metadata": {}
  },
  {
   "cell_type": "code",
   "execution_count": null,
   "source": [
    "start=snapshot-3\n",
    "end=snapshot+3\n",
    "s=0\n",
    "c=0\n",
    "for i in range(start,end):\n",
    "    c+=1\n",
    "    s=s+ps[i]\n",
    "print(c)\n",
    "ps_adjusted=s/c\n",
    "\n",
    "print(ps_adjusted)\n",
    "\n",
    "#factor=3.08567758/3.15576\n",
    "#ps_adjusted=ps_adjusted/factor\n",
    "print(ps_adjusted)"
   ],
   "outputs": [
    {
     "output_type": "stream",
     "name": "stdout",
     "text": [
      "6\n",
      "30.393930357976544\n",
      "30.393930357976544\n"
     ]
    }
   ],
   "metadata": {}
  },
  {
   "cell_type": "markdown",
   "source": [
    "# Calculating the Resonance Conditions"
   ],
   "metadata": {}
  },
  {
   "cell_type": "code",
   "execution_count": null,
   "source": [
    "#OLR resonance\n",
    "#olr_resonance=Ophidisk-Ordisk/2 # inner Linbald resonance\n",
    "\n",
    "olr_resonance=Ophidisk+Ordisk/2 # outer Linbald resonance\n",
    "omega_diff_olr=olr_resonance-ps_adjusted\n",
    "keep_olr=(omega_diff_olr<0.1)*(omega_diff_olr>-0.1)\n",
    "\n",
    "\n",
    "#CR resonance\n",
    "omega_diff=Ophidisk-ps_adjusted\n",
    "keep_cr=(omega_diff<0.1)*(omega_diff>-0.1)"
   ],
   "outputs": [],
   "metadata": {}
  },
  {
   "cell_type": "markdown",
   "source": [
    "# Entire Galactic Regions with Co-Rotating (CR) Resonance"
   ],
   "metadata": {}
  },
  {
   "cell_type": "markdown",
   "source": [],
   "metadata": {}
  },
  {
   "cell_type": "code",
   "execution_count": null,
   "source": [
    "x_resonance_cr=(x_select[keep_cr])\n",
    "y_resonance_cr=(y_select[keep_cr])\n",
    "z_resonance_cr=(z_select[keep_cr])\n",
    "vr_resonance_cr=(vr_select[keep_cr])\n",
    "vphi_resonance_cr=(vphi_select[keep_cr])\n",
    "#vzz_resonance_cr=(vzz_select[keep_cr])\n",
    "\n",
    "print(len(x_resonance_cr))\n",
    "\n",
    "r_resonance_cr=r_select[keep_cr]\n",
    "phi_resonance_cr=phi_select[keep_cr]"
   ],
   "outputs": [
    {
     "output_type": "stream",
     "name": "stdout",
     "text": [
      "447697\n"
     ]
    }
   ],
   "metadata": {}
  },
  {
   "cell_type": "markdown",
   "source": [
    "# checking for resonance stars from snapshot 700"
   ],
   "metadata": {}
  },
  {
   "cell_type": "code",
   "execution_count": null,
   "source": [
    "idd_resonance_cr=idd_snapshots[keep_cr]\n",
    "\n",
    "datafilename=\"700idd_resonance_cr.pkl\"\n",
    "\n",
    "idd_stored = open(save_datapath+datafilename,'rb')\n",
    "idd_resonance_cr_700=pickle.load(idd_stored)"
   ],
   "outputs": [],
   "metadata": {}
  },
  {
   "cell_type": "code",
   "execution_count": null,
   "source": [
    "commons=list()\n",
    "for i in range(len(idd_resonance_cr_700)):\n",
    "    c=np.where(idd_resonance_cr==idd_resonance_cr_700[i])\n",
    "    commons.extend(list(idd_resonance_cr[c]))\n",
    "print(len(commons))\n",
    "\n"
   ],
   "outputs": [
    {
     "output_type": "stream",
     "name": "stdout",
     "text": [
      "3095\n"
     ]
    }
   ],
   "metadata": {}
  },
  {
   "cell_type": "markdown",
   "source": [],
   "metadata": {}
  },
  {
   "cell_type": "markdown",
   "source": [
    "# Calculating the percentage of stars that are in resonance with the bar:"
   ],
   "metadata": {}
  },
  {
   "cell_type": "code",
   "execution_count": null,
   "source": [
    "n_star=len(x_select)\n",
    "n_star_cr=len(x_resonance_cr)\n",
    "\n",
    "print(n_star)\n",
    "print(n_star_cr)\n",
    "percentage_cr=(n_star_cr/n_star)*100\n",
    "print(\"The percentage of stars that are in Corotation Resonance is\",percentage_cr)"
   ],
   "outputs": [
    {
     "output_type": "stream",
     "name": "stdout",
     "text": [
      "250980160\n",
      "447697\n",
      "The percentage of stars that are in Corotation Resonance is 0.17837943843848056\n"
     ]
    }
   ],
   "metadata": {}
  },
  {
   "cell_type": "markdown",
   "source": [
    "# Entire Galactic Regions with OLR (Outer Linbald Resonance) Resonance"
   ],
   "metadata": {}
  },
  {
   "cell_type": "markdown",
   "source": [],
   "metadata": {}
  },
  {
   "cell_type": "code",
   "execution_count": null,
   "source": [
    "x_resonance_olr=(x_select[keep_olr])\n",
    "y_resonance_olr=(y_select[keep_olr])\n",
    "z_resonance_olr=(z_select[keep_olr])\n",
    "vr_resonance_olr=(vr_select[keep_olr])\n",
    "vphi_resonance_olr=(vphi_select[keep_olr])\n",
    "#vzz_resonance_olr=(vzz_select[keep_olr])\n",
    "\n",
    "r_resonance_olr=r_select[keep_olr]\n",
    "phi_resonance_olr=phi_select[keep_olr]\n",
    "\n",
    "n_star_olr=len(x_resonance_olr)\n",
    "print(n_star_olr)\n",
    "percentage_olr=(n_star_olr/n_star)*100\n",
    "print(\"The percentage of stars that are in OLR are: \",percentage_olr)\n"
   ],
   "outputs": [
    {
     "output_type": "stream",
     "name": "stdout",
     "text": [
      "1432167\n",
      "The percentage of stars that are in OLR are:  0.5706295668948493\n"
     ]
    }
   ],
   "metadata": {}
  },
  {
   "cell_type": "markdown",
   "source": [
    "# looking for common stars_from snapshot 700"
   ],
   "metadata": {}
  },
  {
   "cell_type": "code",
   "execution_count": null,
   "source": [
    "idd_resonance_olr=idd_snapshots[keep_olr]\n",
    "\n",
    "datafilename=\"700idd_resonance_olr.pkl\"\n",
    "\n",
    "idd_stored_olr = open(save_datapath+datafilename,'rb')\n",
    "idd_resonance_olr_700=pickle.load(idd_stored_olr)\n",
    "\n",
    "commons_olr=list()\n",
    "for i in range(len(idd_resonance_olr_700)):\n",
    "    c=np.where(idd_resonance_olr==idd_resonance_olr_700[i])\n",
    "    commons_olr.extend(list(idd_resonance_olr[c]))\n",
    "print(len(commons_olr))\n"
   ],
   "outputs": [],
   "metadata": {}
  },
  {
   "cell_type": "markdown",
   "source": [
    "# Selecting the slice -5<phi<5"
   ],
   "metadata": {}
  },
  {
   "cell_type": "code",
   "execution_count": null,
   "source": [
    "keep_phi_slice_cr=(phi_resonance_cr<5)*(phi_resonance_cr>-5)\n",
    "keep_phi_slice_olr=(phi_resonance_olr<5)*(phi_resonance_olr>-5)\n",
    "\n",
    "phi_slice_cr=phi_resonance_cr[keep_phi_slice_cr]\n",
    "print(len(phi_slice_cr))\n",
    "\n",
    "phi_slice_olr=phi_resonance_olr[keep_phi_slice_olr]\n",
    "print(len(phi_slice_olr))"
   ],
   "outputs": [],
   "metadata": {}
  },
  {
   "cell_type": "markdown",
   "source": [
    "# Keeping record of values for the slice -5<phi<5"
   ],
   "metadata": {}
  },
  {
   "cell_type": "code",
   "execution_count": null,
   "source": [
    "keep_phi_slice=(phi_select<5)*(phi_select>-5)\n",
    "x_select_phi_slice=x_select[keep_phi_slice]\n",
    "y_select_phi_slice=y_select[keep_phi_slice]\n",
    "z_select_phi_slice=z_select[keep_phi_slice]\n",
    "\n",
    "vr_phi_slice=vr_select[keep_phi_slice]\n",
    "vphi_phi_slice=vphi_select[keep_phi_slice]\n",
    "#vzz_phi_slice=vzz_select[keep_phi_slice]\n",
    "r_phi_slice=r_select[keep_phi_slice]\n",
    "\n"
   ],
   "outputs": [],
   "metadata": {}
  },
  {
   "cell_type": "markdown",
   "source": [
    "# Keeping record of values in the Solar Neighborhood"
   ],
   "metadata": {}
  },
  {
   "cell_type": "code",
   "execution_count": null,
   "source": [
    "keep_sn=(x_select<8.5)*(x_select>7.5)*(y_select<0.5)*(y_select>-0.5)*(z_select<0.5)*(z_select>-0.5)\n",
    "x_select_sn=x_select[keep_sn]\n",
    "y_select_sn=y_select[keep_sn]\n",
    "z_select_sn=z_select[keep_sn]\n",
    "\n",
    "vr_sn=vr_select[keep_sn]\n",
    "vphi_sn=vphi_select[keep_sn]\n",
    "#vzz_sn=vzz_select[keep_sn]\n",
    "r_sn=r_select[keep_sn]"
   ],
   "outputs": [],
   "metadata": {}
  },
  {
   "cell_type": "markdown",
   "source": [
    "# Corotating Resonance (CR) in the slice"
   ],
   "metadata": {}
  },
  {
   "cell_type": "code",
   "execution_count": null,
   "source": [
    "x_resonance_cr_phi_slice=x_resonance_cr[keep_phi_slice_cr]\n",
    "y_resonance_cr_phi_slice=(y_resonance_cr[keep_phi_slice_cr])\n",
    "z_resonance_cr_phi_slice=(z_resonance_cr[keep_phi_slice_cr])\n",
    "vr_resonance_cr_phi_slice=(vr_resonance_cr[keep_phi_slice_cr])\n",
    "vphi_resonance_cr_phi_slice=(vphi_resonance_cr[keep_phi_slice_cr])\n",
    "#vzz_resonance_cr_phi_slice=(vzz_resonance_cr[keep_phi_slice_cr])\n",
    "\n",
    "r_resonance_cr_phi_slice=r_resonance_cr[keep_phi_slice_cr]\n",
    "\n",
    "phi_resonance_cr_phi_slice=phi_resonance_cr[keep_phi_slice_cr]\n",
    "\n",
    "print(x_resonance_cr_phi_slice)"
   ],
   "outputs": [],
   "metadata": {}
  },
  {
   "cell_type": "markdown",
   "source": [
    "# checking the matching stars with CR in the slice from snapshot 700"
   ],
   "metadata": {}
  },
  {
   "cell_type": "code",
   "execution_count": null,
   "source": [
    "idd_resonance_cr_phi_slice_1000=idd_resonance_cr[keep_phi_slice_cr]\n",
    "\n",
    "datafilename=\"700idd_resonance_cr_phi_slice.pkl\"\n",
    "\n",
    "idd_stored_phi_slice_cr = open(save_datapath+datafilename,'rb')\n",
    "idd_resonance_phi_slice_cr_700=pickle.load(idd_stored_phi_slice_cr)\n",
    "\n",
    "commons_phi_slice_cr=list()\n",
    "for i in range(len(idd_resonance_phi_slice_cr_700)):\n",
    "    c=np.where(idd_resonance_cr_phi_slice_1000==idd_resonance_phi_slice_cr_700[i])\n",
    "    commons_phi_slice_cr.extend(list(idd_resonance_cr_phi_slice_1000[c]))\n",
    "print(len(commons_phi_slice_cr))"
   ],
   "outputs": [],
   "metadata": {}
  },
  {
   "cell_type": "markdown",
   "source": [
    "# OLR in the slice"
   ],
   "metadata": {}
  },
  {
   "cell_type": "code",
   "execution_count": null,
   "source": [
    "x_resonance_olr_phi_slice=x_resonance_olr[keep_phi_slice_olr]\n",
    "y_resonance_olr_phi_slice=(y_resonance_olr[keep_phi_slice_olr])\n",
    "z_resonance_olr_phi_slice=(z_resonance_olr[keep_phi_slice_olr])\n",
    "vr_resonance_olr_phi_slice=(vr_resonance_olr[keep_phi_slice_olr])\n",
    "vphi_resonance_olr_phi_slice=(vphi_resonance_olr[keep_phi_slice_olr])\n",
    "#vzz_resonance_olr_phi_slice=(vzz_resonance_olr[keep_phi_slice_olr])\n",
    "\n",
    "r_resonance_olr_phi_slice=r_resonance_olr[keep_phi_slice_olr]\n",
    "\n",
    "phi_resonance_olr_phi_slice=phi_resonance_olr[keep_phi_slice_olr]\n",
    "\n",
    "print(x_resonance_olr_phi_slice)"
   ],
   "outputs": [],
   "metadata": {}
  },
  {
   "cell_type": "code",
   "execution_count": null,
   "source": [
    "#checking for matching idds\n",
    "\n",
    "idd_resonance_olr_phi_slice=idd_resonance_olr[keep_phi_slice_olr]\n",
    "\n",
    "datafilename=\"700idd_resonance_olr_phi_slice.pkl\"\n",
    "\n",
    "idd_stored_phi_slice_olr = open(save_datapath+datafilename,'rb')\n",
    "idd_resonance_phi_slice_olr_700=pickle.load(idd_stored_phi_slice_olr)\n",
    "\n",
    "commons_phi_slice_olr=list()\n",
    "for i in range(len(idd_resonance_phi_slice_olr_700)):\n",
    "    c=np.where(idd_resonance_olr_phi_slice==idd_resonance_phi_slice_olr_700[i])\n",
    "    commons_phi_slice_olr.extend(list(idd_resonance_olr_phi_slice[c]))\n",
    "print(len(commons_phi_slice_olr))"
   ],
   "outputs": [],
   "metadata": {}
  },
  {
   "cell_type": "markdown",
   "source": [
    "# Selecting the solar neighboorhood"
   ],
   "metadata": {}
  },
  {
   "cell_type": "code",
   "execution_count": null,
   "source": [
    "keep_cr_sn=(x_resonance_cr<8.5)*(x_resonance_cr>7.5)*(y_resonance_cr<0.5)*(y_resonance_cr>-0.5)*(z_resonance_cr<0.5)*(z_resonance_cr>-0.5)\n",
    "keep_olr_sn=(x_resonance_olr<8.5)*(x_resonance_olr>7.5)*(y_resonance_olr<0.5)*(y_resonance_olr>-0.5)*(z_resonance_olr<0.5)*(z_resonance_olr>-0.5)\n",
    "\n",
    "#keep_cr_sn=(x_resonance_cr<8.5)*(x_resonance_cr>7.5)\n",
    "#keep_olr_sn=(x_resonance_olr<8.5)*(x_resonance_olr>7.5)"
   ],
   "outputs": [],
   "metadata": {}
  },
  {
   "cell_type": "markdown",
   "source": [
    "# CR in the Solar Neighborhood"
   ],
   "metadata": {}
  },
  {
   "cell_type": "code",
   "execution_count": null,
   "source": [
    "x_resonance_cr_sr=x_resonance_cr[keep_cr_sn]\n",
    "y_resonance_cr_sr=(y_resonance_cr[keep_cr_sn])\n",
    "z_resonance_cr_sr=(z_resonance_cr[keep_cr_sn])\n",
    "vr_resonance_cr_sr=(vr_resonance_cr[keep_cr_sn])\n",
    "vphi_resonance_cr_sr=(vphi_resonance_cr[keep_cr_sn])\n",
    "#vzz_resonance_cr_sr=(vzz_resonance_cr[keep_cr_sn])\n",
    "\n",
    "r_resonance_cr_sr=r_resonance_cr[keep_cr_sn]\n",
    "\n",
    "phi_resonance_cr_sr=phi_resonance_cr[keep_cr_sn]"
   ],
   "outputs": [],
   "metadata": {}
  },
  {
   "cell_type": "code",
   "execution_count": null,
   "source": [
    "#checking for matching idds\n",
    "\n",
    "idd_resonance_cr_sr=idd_resonance_cr[keep_cr_sn]\n",
    "\n",
    "datafilename=\"700idd_resonance_cr_sr.pkl\"\n",
    "\n",
    "idd_stored_cr_sr = open(save_datapath+datafilename,'rb')\n",
    "idd_resonance_cr_sr_700=pickle.load(idd_stored_cr_sr)\n",
    "\n",
    "commons_cr_sr=list()\n",
    "for i in range(len(idd_resonance_cr_sr_700)):\n",
    "    c=np.where(idd_resonance_cr_sr==idd_resonance_cr_sr_700[i])\n",
    "    commons_cr_sr.extend(list(idd_resonance_cr_sr[c]))\n",
    "print(len(commons_cr_sr))"
   ],
   "outputs": [],
   "metadata": {}
  },
  {
   "cell_type": "markdown",
   "source": [
    "# OLR in the Solar Neighborhood"
   ],
   "metadata": {}
  },
  {
   "cell_type": "code",
   "execution_count": null,
   "source": [
    "x_resonance_olr_sr=(x_resonance_olr[keep_olr_sn])\n",
    "y_resonance_olr_sr=(y_resonance_olr[keep_olr_sn])\n",
    "z_resonance_olr_sr=(z_resonance_olr[keep_olr_sn])\n",
    "vr_resonance_olr_sr=(vr_resonance_olr[keep_olr_sn])\n",
    "vphi_resonance_olr_sr=(vphi_resonance_olr[keep_olr_sn])\n",
    "#vzz_resonance_olr_sr=(vzz_resonance_olr[keep_olr_sn])\n",
    "\n",
    "r_resonance_olr_sr=r_resonance_olr[keep_olr_sn]\n",
    "phi_resonance_olr_sr=phi_resonance_olr[keep_olr_sn]"
   ],
   "outputs": [],
   "metadata": {}
  },
  {
   "cell_type": "code",
   "execution_count": null,
   "source": [
    "#checking for matching idds\n",
    "\n",
    "idd_resonance_olr_sr=idd_resonance_olr[keep_olr_sn]\n",
    "\n",
    "datafilename=\"700idd_resonance_olr_sr.pkl\"\n",
    "\n",
    "idd_stored_olr_sr = open(save_datapath+datafilename,'rb')\n",
    "idd_resonance_olr_sr_700=pickle.load(idd_stored_olr_sr)\n",
    "\n",
    "commons_olr_sr=list()\n",
    "for i in range(len(idd_resonance_olr_sr_700)):\n",
    "    c=np.where(idd_resonance_olr_sr==idd_resonance_olr_sr_700[i])\n",
    "    commons_olr_sr.extend(list(idd_resonance_olr_sr[c]))\n",
    "print(len(commons_olr_sr))"
   ],
   "outputs": [],
   "metadata": {}
  },
  {
   "cell_type": "markdown",
   "source": [
    "# Printing resonance data"
   ],
   "metadata": {}
  },
  {
   "cell_type": "code",
   "execution_count": null,
   "source": [
    "print(\"Ones with OLR resonance in the solar neighborhood: \",y_resonance_olr_sr)\n",
    "print(\"Ones with CR resonance in the solar neighborhood: \",y_resonance_cr_sr)"
   ],
   "outputs": [],
   "metadata": {}
  },
  {
   "cell_type": "code",
   "execution_count": null,
   "source": [
    "# for CR\n",
    "\n",
    "x_700=list()\n",
    "y_700=list()\n",
    "for i in range(len(commons)):\n",
    "    test = loadonesource(path,commons[i],start=700,finish=701)\n",
    "    x_test=test['x']\n",
    "    y_test=test['y']\n",
    "    x_700.extend(x_test)\n",
    "    y_700.extend(y_test)\n",
    "\n",
    "print(len(x_700))\n",
    "\n",
    "\n",
    "x_1000=list()\n",
    "y_1000=list()\n",
    "for i in range(len(commons)):\n",
    "    test = loadonesource(path,commons[i],start=snapshot,finish=snapshot+1)\n",
    "    x_test=test['x']\n",
    "    y_test=test['y']\n",
    "    x_1000.extend(x_test)\n",
    "    y_1000.extend(y_test)\n"
   ],
   "outputs": [],
   "metadata": {}
  },
  {
   "cell_type": "code",
   "execution_count": null,
   "source": [
    "# for OLR\n",
    "\n",
    "x_700_olr=list()\n",
    "y_700_olr=list()\n",
    "for i in range(len(commons_olr)):\n",
    "    test = loadonesource(path,commons_olr[i],start=700,finish=701)\n",
    "    x_test=test['x']\n",
    "    y_test=test['y']\n",
    "    x_700_olr.extend(x_test)\n",
    "    y_700_olr.extend(y_test)\n",
    "\n",
    "print(len(x_700))\n",
    "\n",
    "\n",
    "\n",
    "x_1000_olr=list()\n",
    "y_1000_olr=list()\n",
    "for i in range(len(commons_olr)):\n",
    "    test = loadonesource(path,commons_olr[i],start=snapshot,finish=snapshot+1)\n",
    "    x_test=test['x']\n",
    "    y_test=test['y']\n",
    "    x_1000_olr.extend(x_test)\n",
    "    y_1000_olr.extend(y_test)\n"
   ],
   "outputs": [],
   "metadata": {}
  },
  {
   "cell_type": "code",
   "execution_count": null,
   "source": [
    "print(len(x_1000_olr))\n",
    "print(len(x_700_olr))"
   ],
   "outputs": [],
   "metadata": {}
  },
  {
   "cell_type": "markdown",
   "source": [
    "# Plotting resonance stars before and after"
   ],
   "metadata": {}
  },
  {
   "cell_type": "code",
   "execution_count": null,
   "source": [
    "fig3=plt.figure()\n",
    "ax=fig3.add_subplot(111)\n",
    "#ax.text(8,300,r\"Snapshot %s, Slice: -5<$\\phi$<5\"%(str(snapshot)))\n",
    "#cb1=ax.hexbin(x_select,y_select,extent=((-35,35,-35,35)),gridsize=500,mincnt=1,C=Ordisk,vmin=1,vmax=40)\n",
    "cb1=ax.hexbin(x_select,y_select,extent=((-35,35,-35,35)),gridsize=500,mincnt=1,bins='log')\n",
    "ax.scatter(x_700_olr,y_700_olr,c=\"red\",marker=\".\",s=0.01,label=\"OLR at 700\")\n",
    "ax.scatter(x_1000_olr,y_1000_olr,c=\"yellow\",marker=\".\",s=0.01,label=\"OLR at \"+str(snapshot))\n",
    "ax.scatter(x_700,y_700,c=\"orange\",marker=\".\",s=0.1,label=\"CR at 700\")\n",
    "ax.scatter(x_1000,y_1000,c=\"black\",marker=\".\",s=0.1,label=\"CR at \"+str(snapshot))\n",
    "ax.set_xlabel(\"x\")\n",
    "ax.set_ylabel(\"y\")\n",
    "ax.legend(bbox_to_anchor=(1.13,0.93), loc='center left',markerscale=9)\n",
    "ax.text(11,30,r\"Snapshot \"+str(snapshot)+\" (B3-N)\")\n",
    "#ax.set_xlim(7.5,8.5)\n",
    "#ax.set_ylim(-0.5,0.5)\n",
    "cbar_ax = fig3.add_axes([0.91, 0.12, 0.03, 0.76]) # position of the colorbar (left, bottom, width, height)\n",
    "fig3.colorbar(cb1, cax=cbar_ax)\n",
    "cbar_ax.set_ylabel(r'n$_{star}$')\n",
    "cbar_ax.yaxis.label.set_size(10)\n",
    "plotname=str(snapshot)+\"B3-N_y_vs_x_with_resonance_regions_whole_galaxy_before_after.jpg\"\n",
    "fig3.savefig(plotpath+plotname,bbox_inches=\"tight\",dpi=250)\n",
    "print(\"Plot generated and saved to file: \",plotname)\n",
    "plt.close()"
   ],
   "outputs": [],
   "metadata": {}
  },
  {
   "cell_type": "markdown",
   "source": [
    "# Plotting x and y of resonance regions in the entire galaxy"
   ],
   "metadata": {}
  },
  {
   "cell_type": "code",
   "execution_count": null,
   "source": [
    "fig4=plt.figure()\n",
    "ax=fig4.add_subplot(111)\n",
    "#ax.text(8,300,r\"Snapshot %s, Slice: -5<$\\phi$<5\"%(str(snapshot)))\n",
    "#cb1=ax.hexbin(x_select,y_select,extent=((-35,35,-35,35)),gridsize=500,mincnt=1,C=Ordisk,vmin=1,vmax=40)\n",
    "cb1=ax.hexbin(x_select,y_select,extent=((-35,35,-35,35)),gridsize=500,mincnt=1,bins='log')\n",
    "ax.scatter(x_resonance_cr,y_resonance_cr,c=\"black\",marker=\".\",s=0.01,label=\"CR\")\n",
    "ax.scatter(x_resonance_olr,y_resonance_olr,c=\"red\",marker=\".\",s=0.01,label=\"OLR\")\n",
    "ax.scatter(x_resonance_cr_sr,y_resonance_cr_sr,c=\"yellow\",marker=\".\",s=0.1,label=\"CR-SN\")\n",
    "ax.scatter(x_resonance_olr_sr,y_resonance_olr_sr,c=\"orange\",marker=\".\",s=0.1,label=\"OLR-SN\")\n",
    "ax.set_xlabel(\"x\")\n",
    "ax.set_ylabel(\"y\")\n",
    "ax.legend(bbox_to_anchor=(1.13,0.93), loc='center left',markerscale=9)\n",
    "ax.text(13,30,r\"Snapshot \"+str(snapshot)+\" (B3-N)\")\n",
    "#ax.set_xlim(7.5,8.5)\n",
    "#ax.set_ylim(-0.5,0.5)\n",
    "cbar_ax = fig4.add_axes([0.91, 0.12, 0.03, 0.76]) # position of the colorbar (left, bottom, width, height)\n",
    "fig4.colorbar(cb1, cax=cbar_ax)\n",
    "cbar_ax.set_ylabel(r'n$_{star}$')\n",
    "cbar_ax.yaxis.label.set_size(10)\n",
    "plotname=str(snapshot)+\"B3-N_y_vs_x_with_resonance_regions_whole_galaxy.jpg\"\n",
    "fig4.savefig(plotpath+plotname,bbox_inches=\"tight\",dpi=250)\n",
    "print(\"Plot generated and saved to file: \",plotname)\n",
    "plt.close()"
   ],
   "outputs": [],
   "metadata": {}
  },
  {
   "cell_type": "code",
   "execution_count": null,
   "source": [
    "print(np.max(vr_select))"
   ],
   "outputs": [],
   "metadata": {}
  },
  {
   "cell_type": "code",
   "execution_count": null,
   "source": [
    "fig5=plt.figure()\n",
    "ax=fig5.add_subplot(111)\n",
    "#ax.text(8,300,r\"Snapshot %s, Slice: -5<$\\phi$<5\"%(str(snapshot)))\n",
    "#cb1=ax.hexbin(x_select,y_select,extent=((-35,35,-35,35)),gridsize=500,mincnt=1,C=Ordisk,vmin=1,vmax=40)\n",
    "cb1=ax.hexbin(vr,vphi,extent=((-650,650,-650,650)),gridsize=500,mincnt=1,bins='log')\n",
    "ax.set_xlabel(\"vR\")\n",
    "ax.set_ylabel(r\"v$\\phi$\")\n",
    "ax.scatter(vr_resonance_cr,vphi_resonance_cr,c=\"black\",marker=\".\",s=0.01,label=\"CR\")\n",
    "ax.scatter(vr_resonance_olr,vphi_resonance_olr,c=\"red\",marker=\".\",s=0.01,label=\"OLR\")\n",
    "ax.scatter(vr_resonance_cr_sr,vphi_resonance_cr_sr,c=\"yellow\",marker=\".\",s=0.1,label=\"CR-SN\")\n",
    "ax.scatter(vr_resonance_olr_sr,vphi_resonance_olr_sr,c=\"orange\",marker=\".\",s=0.1,label=\"OLR-SN\")\n",
    "ax.legend(bbox_to_anchor=(1.13,0.93), loc='center left',markerscale=9)\n",
    "ax.text(248,550,r\"Snapshot \"+str(snapshot)+\" (B3-N)\")\n",
    "\n",
    "cbar_ax = fig5.add_axes([0.91, 0.12, 0.03, 0.76]) # position of the colorbar (left, bottom, width, height)\n",
    "fig5.colorbar(cb1, cax=cbar_ax)\n",
    "cbar_ax.set_ylabel(r'n$_{star}$')\n",
    "cbar_ax.yaxis.label.set_size(10)\n",
    "plotname=str(snapshot)+\"B3-N_v_phi_vs_vr_with_resonance_regions.jpg\"\n",
    "fig5.savefig(plotpath+plotname,bbox_inches=\"tight\",dpi=200)\n",
    "print(\"Plot generated and saved to file: \",plotname)\n",
    "plt.close()"
   ],
   "outputs": [],
   "metadata": {}
  },
  {
   "cell_type": "code",
   "execution_count": null,
   "source": [
    "fig5_1=plt.figure()\n",
    "ax=fig5_1.add_subplot(111)\n",
    "#ax.text(8,300,r\"Snapshot %s, Slice: -5<$\\phi$<5\"%(str(snapshot)))\n",
    "#cb1=ax.hexbin(x_select,y_select,extent=((-35,35,-35,35)),gridsize=500,mincnt=1,C=Ordisk,vmin=1,vmax=40)\n",
    "cb1=ax.hexbin(vr_sn,vphi_sn,extent=((-200,200,50,300)),gridsize=500,mincnt=1,vmin=1,vmax=30)\n",
    "ax.set_xlabel(\"vR\")\n",
    "ax.set_ylabel(r\"v$\\phi$\")\n",
    "#ax.scatter(vr_resonance_cr,vphi_resonance_cr,c=\"black\",marker=\".\",s=0.01,label=\"CR\")\n",
    "#ax.scatter(vr_resonance_olr,vphi_resonance_olr,c=\"red\",marker=\".\",s=0.01,label=\"OLR\")\n",
    "ax.scatter(vr_resonance_cr_sr,vphi_resonance_cr_sr,c=\"yellow\",marker=\"*\",s=0.3,label=\"CR-SN\")\n",
    "ax.scatter(vr_resonance_olr_sr,vphi_resonance_olr_sr,c=\"orange\",marker=\"*\",s=0.3,label=\"OLR-SN\")\n",
    "ax.legend(bbox_to_anchor=(1.13,0.93), loc='center left',markerscale=9)\n",
    "ax.text(70,285,r\"Snapshot \"+str(snapshot)+\" (B3-N)\")\n",
    "ax.text(-180,285,r\"7.5<x<8.5, -0.5<y<0.5, -0.5<z<0.5\")\n",
    "\n",
    "cbar_ax = fig5_1.add_axes([0.91, 0.12, 0.03, 0.76]) # position of the colorbar (left, bottom, width, height)\n",
    "fig5_1.colorbar(cb1, cax=cbar_ax)\n",
    "cbar_ax.set_ylabel(r'n$_{star}$')\n",
    "cbar_ax.yaxis.label.set_size(10)\n",
    "plotname=str(snapshot)+\"B3-N_v_phi_vs_vr_with_resonance_region_in_sn_slice.jpg\"\n",
    "fig5_1.savefig(plotpath+plotname,bbox_inches=\"tight\",dpi=300)\n",
    "print(\"Plot generated and saved to file: \",plotname)\n",
    "plt.close()"
   ],
   "outputs": [],
   "metadata": {}
  },
  {
   "cell_type": "markdown",
   "source": [
    "# Selecting a small angular region for analysis"
   ],
   "metadata": {}
  },
  {
   "cell_type": "code",
   "execution_count": null,
   "source": [
    "keep_phi=(phi_select<5)*(phi_select>-5)\n",
    "vphi_slice=vphi_select[keep_phi]\n",
    "\n",
    "r_slice=r_select[keep_phi]\n",
    "\n",
    "fig6=plt.figure()\n",
    "ax=fig6.add_subplot(212)\n",
    "ax1=fig6.add_subplot(211)\n",
    "#ax.text(8,300,r\"Snapshot %s, Slice: -5<$\\phi$<5\"%(str(snapshot)))\n",
    "#cb1=ax.hexbin(x_select,y_select,extent=((-35,35,-35,35)),gridsize=500,mincnt=1,C=Ordisk,vmin=1,vmax=40)\n",
    "cb1=ax.hexbin(r_slice,vphi_slice,extent=((5,15,50,300)),gridsize=500,mincnt=1,vmin=1,vmax=80)\n",
    "ax.set_xlabel(\"R\")\n",
    "ax.set_ylabel(r\"v$\\phi$\")\n",
    "ax_cr=ax.scatter(r_resonance_cr_phi_slice,vphi_resonance_cr_phi_slice,c=\"black\",marker=\".\",s=0.1,label=\"CR\")\n",
    "print(len(r_resonance_cr))\n",
    "ax_olr=ax.scatter(r_resonance_olr_phi_slice,vphi_resonance_olr_phi_slice,c=\"red\",marker=\".\",s=0.1,label=\"OLR\")\n",
    "ax.scatter(r_resonance_cr_sr,vphi_resonance_cr_sr,c=\"yellow\",marker=\"*\",s=0.1,label=\"CR-SN\")\n",
    "ax.scatter(r_resonance_olr_sr,vphi_resonance_olr_sr,c=\"orange\",marker=\"*\",s=0.1,label=\"OLR-SN\")\n",
    "\n",
    "cbar_ax = fig6.add_axes([0.91, 0.12, 0.03, 0.76]) # position of the colorbar (left, bottom, width, height)\n",
    "fig6.colorbar(cb1, cax=cbar_ax)\n",
    "cbar_ax.set_ylabel(r'n$_{star}$')\n",
    "cbar_ax.yaxis.label.set_size(10)\n",
    "ax.set_xlim(5,15)\n",
    "ax.set_ylim(50,300)\n",
    "#ax.legend(bbox_to_anchor=(0.77,0.93), loc='center left',markerscale=9)\n",
    "ax.legend(bbox_to_anchor=(1.13,1.6), loc='center left',markerscale=9)\n",
    "\n",
    "ax1.hexbin(r_slice,vphi_slice,extent=((5,15,50,300)),gridsize=500,mincnt=1,vmin=1,vmax=80)\n",
    "ax1.set_xlim(5,15)\n",
    "ax1.set_ylim(50,300)\n",
    "ax1.text(12,270,r\"Slice -5<$\\phi$<5\")\n",
    "#ax.legend(markerscale=6)\n",
    "plotname=str(snapshot)+\"B3-N_v_phi_vs_r_with_resonance_regions.jpg\"\n",
    "fig6.suptitle(\"B3-N, Snapshot \"+str(snapshot))\n",
    "fig6.savefig(plotpath+plotname,bbox_inches=\"tight\",dpi=300)\n",
    "print(\"Plot generated and saved to file: \",plotname)\n",
    "plt.close()"
   ],
   "outputs": [],
   "metadata": {}
  },
  {
   "cell_type": "code",
   "execution_count": null,
   "source": [
    "print(r_resonance_cr_sr)"
   ],
   "outputs": [],
   "metadata": {}
  },
  {
   "cell_type": "code",
   "execution_count": null,
   "source": [],
   "outputs": [],
   "metadata": {}
  },
  {
   "cell_type": "markdown",
   "source": [
    "# Loading new sims demo !!!!"
   ],
   "metadata": {}
  },
  {
   "cell_type": "code",
   "execution_count": null,
   "source": [
    "from procedure import *"
   ],
   "outputs": [],
   "metadata": {}
  },
  {
   "cell_type": "code",
   "execution_count": null,
   "source": [
    "path"
   ],
   "outputs": [],
   "metadata": {}
  },
  {
   "cell_type": "code",
   "execution_count": null,
   "source": [
    "snaparr = loadwholesnap(path,90)"
   ],
   "outputs": [],
   "metadata": {}
  },
  {
   "cell_type": "code",
   "execution_count": null,
   "source": [
    "print(snaparr[0].dtype)"
   ],
   "outputs": [],
   "metadata": {}
  },
  {
   "cell_type": "code",
   "execution_count": null,
   "source": [
    "snaparr[(snaparr['x']>3)&(snaparr['y']<2)]['z']"
   ],
   "outputs": [],
   "metadata": {}
  },
  {
   "cell_type": "code",
   "execution_count": null,
   "source": [
    "np.where(snaparr['idd']==241071075)[0]"
   ],
   "outputs": [],
   "metadata": {}
  },
  {
   "cell_type": "code",
   "execution_count": null,
   "source": [],
   "outputs": [],
   "metadata": {}
  }
 ],
 "metadata": {
  "orig_nbformat": 4,
  "kernelspec": {
   "name": "python3",
   "display_name": "Python 3",
   "language": "python"
  },
  "interpreter": {
   "hash": "6f49258605f7cf164064b7cdb9c998ca72afab938262f6585b3280eb87db805c"
  },
  "language_info": {
   "name": "python",
   "version": "3.7.3",
   "mimetype": "text/x-python",
   "codemirror_mode": {
    "name": "ipython",
    "version": 3
   },
   "pygments_lexer": "ipython3",
   "nbconvert_exporter": "python",
   "file_extension": ".py"
  }
 },
 "nbformat": 4,
 "nbformat_minor": 2
}