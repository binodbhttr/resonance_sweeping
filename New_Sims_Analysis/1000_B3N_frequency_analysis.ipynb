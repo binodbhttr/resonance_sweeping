{
 "cells": [
  {
   "cell_type": "code",
   "execution_count": 1,
   "source": [
    "import numpy as np \n",
    "import pickle\n",
    "from matplotlib import pyplot as plt\n",
    "from galpy.util import bovy_coords as coords\n",
    "import os\n",
    "import sys\n",
    "#import superfreq\n",
    "from procedure import *\n",
    "#from procedure import loadonesource"
   ],
   "outputs": [
    {
     "output_type": "stream",
     "name": "stdout",
     "text": [
      "/mnt/home/bbhattarai/.local/lib/python3.7/site-packages/galpy/util/bovy_coords.py:6: FutureWarning: galpy.util.bovy_coords is being deprecated in favor of galpy.util.coords; all functions in there are the same; please switch to the new import, because the old import will be removed in v1.9\n",
      "  warnings.warn('galpy.util.bovy_coords is being deprecated in favor of galpy.util.coords; all functions in there are the same; please switch to the new import, because the old import will be removed in v1.9',FutureWarning)\n",
      "\n",
      "PLEASE IMPORT superfreq: pip install --user git+https://github.com/adrn/superfreq\n",
      "start at: 2021-08-11 04:41:06.807837\n",
      "end at: 2021-08-11 04:41:06.808604\n"
     ]
    }
   ],
   "metadata": {}
  },
  {
   "cell_type": "code",
   "execution_count": 2,
   "source": [
    "!hostname\n",
    "!pwd"
   ],
   "outputs": [
    {
     "output_type": "stream",
     "name": "stdout",
     "text": [
      "pcn-5-41\n",
      "/mnt/home/bbhattarai\n"
     ]
    }
   ],
   "metadata": {}
  },
  {
   "cell_type": "code",
   "execution_count": 3,
   "source": [
    "datapath=\"/mnt/home/bbhattarai/B3-N/\"\n",
    "freq_datapath=\"/mnt/home/bbhattarai/ceph/freq_data/\"\n",
    "plotpath=\"/mnt/home/bbhattarai/resonance_sweeping/New_Sims_Analysis/plots/\""
   ],
   "outputs": [],
   "metadata": {}
  },
  {
   "cell_type": "markdown",
   "source": [],
   "metadata": {}
  },
  {
   "cell_type": "code",
   "execution_count": 4,
   "source": [
    "snapshot=1000"
   ],
   "outputs": [],
   "metadata": {}
  },
  {
   "cell_type": "code",
   "execution_count": 5,
   "source": [
    "freq_datafile=\"DiskActions\"+str(snapshot)+\"_B3N.npy\""
   ],
   "outputs": [],
   "metadata": {}
  },
  {
   "cell_type": "code",
   "execution_count": 6,
   "source": [
    "freqs= np.load(freq_datapath+freq_datafile)"
   ],
   "outputs": [],
   "metadata": {}
  },
  {
   "cell_type": "markdown",
   "source": [
    "# Reading the values from the frequency data"
   ],
   "metadata": {}
  },
  {
   "cell_type": "code",
   "execution_count": 7,
   "source": [
    "#Jrdisk=freqs[0]\n",
    "#Jphidisk=freqs[1]\n",
    "#Jzdisk=freqs[2]\n",
    "#Trdisk=freqs[3]\n",
    "#Tphidisk=freqs[4]\n",
    "#Tzdisk=freqs[5]\n",
    "Ordisk=freqs[6]\n",
    "Ophidisk=freqs[7]\n",
    "#Ozdisk=freqs[8]\n",
    "idd_from_freqs=freqs[9]\n",
    "del freqs"
   ],
   "outputs": [],
   "metadata": {}
  },
  {
   "cell_type": "markdown",
   "source": [
    "# Reading the snapshot data"
   ],
   "metadata": {}
  },
  {
   "cell_type": "code",
   "execution_count": 8,
   "source": [
    "snaparr = loadwholesnap(path,snapshot)\n",
    "print(\"These are the data we have\",snaparr[0].dtype)\n",
    "idd=snaparr['idd']\n",
    "x=snaparr['x']\n",
    "y=snaparr['y']\n",
    "z=snaparr['z']\n",
    "vx=snaparr['vx']\n",
    "vy=snaparr['vy']\n",
    "#vz=snaparr['vz']  \n",
    "mass=snaparr['mass']  #mass is in solar mass (change old mass calculations to take account of the factor 2.324876e9)\n",
    "\n",
    "vr=snaparr['vr']\n",
    "vphi=snaparr['vphi']\n",
    "#vzz=snaparr['vzz']\n",
    "r=snaparr['r']\n",
    "phi=snaparr['phi'] #phi is in radians\n",
    "#zz=snaparr['zz']\n",
    "\n",
    "#converting phi to degrees\n",
    "phi_degrees=np.rad2deg(phi)\n",
    "del snaparr"
   ],
   "outputs": [
    {
     "output_type": "stream",
     "name": "stdout",
     "text": [
      "These are the data we have [('t', '<f8'), ('x', '<f4'), ('y', '<f4'), ('z', '<f4'), ('vx', '<f4'), ('vy', '<f4'), ('vz', '<f4'), ('vr', '<f4'), ('vphi', '<f4'), ('vzz', '<f4'), ('r', '<f4'), ('phi', '<f4'), ('zz', '<f4'), ('mass', '<f4'), ('idd', '<u8')]\n"
     ]
    }
   ],
   "metadata": {}
  },
  {
   "cell_type": "markdown",
   "source": [
    "# Making the cut"
   ],
   "metadata": {}
  },
  {
   "cell_type": "code",
   "execution_count": 9,
   "source": [
    "discindx=(mass<1e-7*2.324876e9)\n",
    "idd_snapshots=idd[discindx]\n",
    "x_select=x[discindx]\n",
    "y_select=y[discindx]\n",
    "z_select=z[discindx]\n",
    "\n",
    "vx_select=vx[discindx]\n",
    "vy_select=vy[discindx]\n",
    "#vz_select=vz[discindx]\n",
    "\n",
    "\n",
    "vr_select=vr[discindx]\n",
    "vphi_select=vphi[discindx]\n",
    "#vzz_select=vzz[discindx]\n",
    "\n",
    "\n",
    "r_select=r[discindx]\n",
    "phi_select=phi_degrees[discindx]"
   ],
   "outputs": [],
   "metadata": {}
  },
  {
   "cell_type": "code",
   "execution_count": 10,
   "source": [
    "del discindx\n",
    "del mass\n",
    "print(\"These are the ids obtained from the frequency data\",len(idd_from_freqs))\n",
    "print(\"These are the ids obtained from the snapshot  data\",len(idd_snapshots))"
   ],
   "outputs": [
    {
     "output_type": "stream",
     "name": "stdout",
     "text": [
      "These are the ids obtained from the frequency data 250980160\n",
      "These are the ids obtained from the snapshot  data 250980160\n"
     ]
    }
   ],
   "metadata": {}
  },
  {
   "cell_type": "markdown",
   "source": [
    "# Loading all saved barangles"
   ],
   "metadata": {}
  },
  {
   "cell_type": "code",
   "execution_count": 11,
   "source": [
    "angle_datapath=\"/mnt/home/bbhattarai/resonance_sweeping//New_Sims_Analysis/\"\n",
    "datafilename=\"0_to_1048_B3-N_fft_barangles_combined_degrees.ang\"\n",
    "ang_stored = open(angle_datapath+datafilename,'rb')\n",
    "all_bangles=pickle.load(ang_stored)\n",
    "print(len(all_bangles))"
   ],
   "outputs": [
    {
     "output_type": "stream",
     "name": "stdout",
     "text": [
      "1048\n"
     ]
    }
   ],
   "metadata": {}
  },
  {
   "cell_type": "markdown",
   "source": [
    "# Checking resonance Conditions"
   ],
   "metadata": {}
  },
  {
   "cell_type": "code",
   "execution_count": 12,
   "source": [
    "#datafilename=\"saved_bar_pattern_speed_km_per_s_kpc.ang\"\n",
    "datafilename=\"B3-N_saved_bar_pattern_speed_km_per_s_kpc.ang\"\n",
    "save_datapath=\"/mnt/home/bbhattarai/resonance_sweeping//New_Sims_Analysis/\"\n",
    "ps_stored = open(save_datapath+datafilename,'rb')\n",
    "ps=pickle.load(ps_stored)\n",
    "#print(ps)\n",
    "ps_located=ps[snapshot]\n",
    "print(ps_located)"
   ],
   "outputs": [
    {
     "output_type": "stream",
     "name": "stdout",
     "text": [
      "28.200655632396572\n"
     ]
    }
   ],
   "metadata": {}
  },
  {
   "cell_type": "markdown",
   "source": [
    "# Adjusting pattern_speed_value"
   ],
   "metadata": {}
  },
  {
   "cell_type": "code",
   "execution_count": 13,
   "source": [
    "start=snapshot-3\n",
    "end=snapshot+3\n",
    "s=0\n",
    "c=0\n",
    "for i in range(start,end):\n",
    "    c+=1\n",
    "    s=s+ps[i]\n",
    "print(c)\n",
    "ps_adjusted=s/c\n",
    "\n",
    "print(ps_adjusted)\n",
    "\n",
    "#factor=3.08567758/3.15576\n",
    "#ps_adjusted=ps_adjusted/factor\n",
    "print(ps_adjusted)"
   ],
   "outputs": [
    {
     "output_type": "stream",
     "name": "stdout",
     "text": [
      "6\n",
      "28.211506540051342\n",
      "28.211506540051342\n"
     ]
    }
   ],
   "metadata": {}
  },
  {
   "cell_type": "markdown",
   "source": [
    "# Calculating the Resonance Conditions"
   ],
   "metadata": {}
  },
  {
   "cell_type": "code",
   "execution_count": 14,
   "source": [
    "#OLR resonance\n",
    "#olr_resonance=Ophidisk-Ordisk/2 # inner Linbald resonance\n",
    "\n",
    "olr_resonance=Ophidisk+Ordisk/2 # outer Linbald resonance\n",
    "omega_diff_olr=olr_resonance-ps_adjusted\n",
    "keep_olr=(omega_diff_olr<0.1)*(omega_diff_olr>-0.1)\n",
    "\n",
    "\n",
    "#CR resonance\n",
    "omega_diff=Ophidisk-ps_adjusted\n",
    "keep_cr=(omega_diff<0.1)*(omega_diff>-0.1)"
   ],
   "outputs": [],
   "metadata": {}
  },
  {
   "cell_type": "markdown",
   "source": [
    "# Entire Galactic Regions with Co-Rotating (CR) Resonance"
   ],
   "metadata": {}
  },
  {
   "cell_type": "markdown",
   "source": [],
   "metadata": {}
  },
  {
   "cell_type": "code",
   "execution_count": 15,
   "source": [
    "x_resonance_cr=(x_select[keep_cr])\n",
    "y_resonance_cr=(y_select[keep_cr])\n",
    "z_resonance_cr=(z_select[keep_cr])\n",
    "vr_resonance_cr=(vr_select[keep_cr])\n",
    "vphi_resonance_cr=(vphi_select[keep_cr])\n",
    "#vzz_resonance_cr=(vzz_select[keep_cr])\n",
    "\n",
    "print(len(x_resonance_cr))\n",
    "\n",
    "r_resonance_cr=r_select[keep_cr]\n",
    "phi_resonance_cr=phi_select[keep_cr]"
   ],
   "outputs": [
    {
     "output_type": "stream",
     "name": "stdout",
     "text": [
      "521125\n"
     ]
    }
   ],
   "metadata": {}
  },
  {
   "cell_type": "markdown",
   "source": [
    "# checking for resonance stars from snapshot 700"
   ],
   "metadata": {}
  },
  {
   "cell_type": "code",
   "execution_count": 16,
   "source": [
    "idd_resonance_cr=idd_snapshots[keep_cr]\n",
    "\n",
    "datafilename=\"700idd_resonance_cr.pkl\"\n",
    "\n",
    "idd_stored = open(save_datapath+datafilename,'rb')\n",
    "idd_resonance_cr_700=pickle.load(idd_stored)"
   ],
   "outputs": [],
   "metadata": {}
  },
  {
   "cell_type": "code",
   "execution_count": 17,
   "source": [
    "commons=list()\n",
    "for i in range(len(idd_resonance_cr_700)):\n",
    "    c=np.where(idd_resonance_cr==idd_resonance_cr_700[i])\n",
    "    commons.extend(list(idd_resonance_cr[c]))\n",
    "print(len(commons))\n",
    "\n"
   ],
   "outputs": [
    {
     "output_type": "stream",
     "name": "stdout",
     "text": [
      "5059\n"
     ]
    }
   ],
   "metadata": {}
  },
  {
   "cell_type": "markdown",
   "source": [],
   "metadata": {}
  },
  {
   "cell_type": "markdown",
   "source": [
    "# Calculating the percentage of stars that are in resonance with the bar:"
   ],
   "metadata": {}
  },
  {
   "cell_type": "code",
   "execution_count": 18,
   "source": [
    "n_star=len(x_select)\n",
    "n_star_cr=len(x_resonance_cr)\n",
    "\n",
    "print(n_star)\n",
    "print(n_star_cr)\n",
    "percentage_cr=(n_star_cr/n_star)*100\n",
    "print(\"The percentage of stars that are in Corotation Resonance is\",percentage_cr)"
   ],
   "outputs": [
    {
     "output_type": "stream",
     "name": "stdout",
     "text": [
      "250980160\n",
      "521125\n",
      "The percentage of stars that are in Corotation Resonance is 0.20763593425073917\n"
     ]
    }
   ],
   "metadata": {}
  },
  {
   "cell_type": "markdown",
   "source": [
    "# Entire Galactic Regions with OLR (Outer Linbald Resonance) Resonance"
   ],
   "metadata": {}
  },
  {
   "cell_type": "markdown",
   "source": [],
   "metadata": {}
  },
  {
   "cell_type": "code",
   "execution_count": 19,
   "source": [
    "x_resonance_olr=(x_select[keep_olr])\n",
    "y_resonance_olr=(y_select[keep_olr])\n",
    "z_resonance_olr=(z_select[keep_olr])\n",
    "vr_resonance_olr=(vr_select[keep_olr])\n",
    "vphi_resonance_olr=(vphi_select[keep_olr])\n",
    "#vzz_resonance_olr=(vzz_select[keep_olr])\n",
    "\n",
    "r_resonance_olr=r_select[keep_olr]\n",
    "phi_resonance_olr=phi_select[keep_olr]\n",
    "\n",
    "n_star_olr=len(x_resonance_olr)\n",
    "print(n_star_olr)\n",
    "percentage_olr=(n_star_olr/n_star)*100\n",
    "print(\"The percentage of stars that are in OLR are: \",percentage_olr)\n"
   ],
   "outputs": [
    {
     "output_type": "stream",
     "name": "stdout",
     "text": [
      "1458415\n",
      "The percentage of stars that are in OLR are:  0.5810877640686818\n"
     ]
    }
   ],
   "metadata": {}
  },
  {
   "cell_type": "markdown",
   "source": [
    "# looking for common stars_from snapshot 700"
   ],
   "metadata": {}
  },
  {
   "cell_type": "code",
   "execution_count": 20,
   "source": [
    "idd_resonance_olr=idd_snapshots[keep_olr]\n",
    "\n",
    "datafilename=\"700idd_resonance_olr.pkl\"\n",
    "\n",
    "idd_stored_olr = open(save_datapath+datafilename,'rb')\n",
    "idd_resonance_olr_700=pickle.load(idd_stored_olr)\n",
    "\n",
    "commons_olr=list()\n",
    "for i in range(len(idd_resonance_olr_700)):\n",
    "    c=np.where(idd_resonance_olr==idd_resonance_olr_700[i])\n",
    "    commons_olr.extend(list(idd_resonance_olr[c]))\n",
    "print(len(commons_olr))\n"
   ],
   "outputs": [
    {
     "output_type": "stream",
     "name": "stdout",
     "text": [
      "22181\n"
     ]
    }
   ],
   "metadata": {}
  },
  {
   "cell_type": "markdown",
   "source": [
    "# Selecting the slice -5<phi<5"
   ],
   "metadata": {}
  },
  {
   "cell_type": "code",
   "execution_count": 21,
   "source": [
    "keep_phi_slice_cr=(phi_resonance_cr<5)*(phi_resonance_cr>-5)\n",
    "keep_phi_slice_olr=(phi_resonance_olr<5)*(phi_resonance_olr>-5)\n",
    "\n",
    "phi_slice_cr=phi_resonance_cr[keep_phi_slice_cr]\n",
    "print(len(phi_slice_cr))\n",
    "\n",
    "phi_slice_olr=phi_resonance_olr[keep_phi_slice_olr]\n",
    "print(len(phi_slice_olr))"
   ],
   "outputs": [
    {
     "output_type": "stream",
     "name": "stdout",
     "text": [
      "16873\n",
      "37028\n"
     ]
    }
   ],
   "metadata": {}
  },
  {
   "cell_type": "markdown",
   "source": [
    "# Keeping record of values for the slice -5<phi<5"
   ],
   "metadata": {}
  },
  {
   "cell_type": "code",
   "execution_count": 22,
   "source": [
    "keep_phi_slice=(phi_select<5)*(phi_select>-5)\n",
    "x_select_phi_slice=x_select[keep_phi_slice]\n",
    "y_select_phi_slice=y_select[keep_phi_slice]\n",
    "z_select_phi_slice=z_select[keep_phi_slice]\n",
    "\n",
    "vr_phi_slice=vr_select[keep_phi_slice]\n",
    "vphi_phi_slice=vphi_select[keep_phi_slice]\n",
    "#vzz_phi_slice=vzz_select[keep_phi_slice]\n",
    "r_phi_slice=r_select[keep_phi_slice]\n",
    "\n"
   ],
   "outputs": [],
   "metadata": {}
  },
  {
   "cell_type": "markdown",
   "source": [
    "# Keeping record of values in the Solar Neighborhood"
   ],
   "metadata": {}
  },
  {
   "cell_type": "code",
   "execution_count": 23,
   "source": [
    "keep_sn=(x_select<8.5)*(x_select>7.5)*(y_select<0.5)*(y_select>-0.5)*(z_select<0.5)*(z_select>-0.5)\n",
    "x_select_sn=x_select[keep_sn]\n",
    "y_select_sn=y_select[keep_sn]\n",
    "z_select_sn=z_select[keep_sn]\n",
    "\n",
    "vr_sn=vr_select[keep_sn]\n",
    "vphi_sn=vphi_select[keep_sn]\n",
    "#vzz_sn=vzz_select[keep_sn]\n",
    "r_sn=r_select[keep_sn]"
   ],
   "outputs": [],
   "metadata": {}
  },
  {
   "cell_type": "markdown",
   "source": [
    "# Corotating Resonance (CR) in the slice"
   ],
   "metadata": {}
  },
  {
   "cell_type": "code",
   "execution_count": 24,
   "source": [
    "x_resonance_cr_phi_slice=x_resonance_cr[keep_phi_slice_cr]\n",
    "y_resonance_cr_phi_slice=(y_resonance_cr[keep_phi_slice_cr])\n",
    "z_resonance_cr_phi_slice=(z_resonance_cr[keep_phi_slice_cr])\n",
    "vr_resonance_cr_phi_slice=(vr_resonance_cr[keep_phi_slice_cr])\n",
    "vphi_resonance_cr_phi_slice=(vphi_resonance_cr[keep_phi_slice_cr])\n",
    "#vzz_resonance_cr_phi_slice=(vzz_resonance_cr[keep_phi_slice_cr])\n",
    "\n",
    "r_resonance_cr_phi_slice=r_resonance_cr[keep_phi_slice_cr]\n",
    "\n",
    "phi_resonance_cr_phi_slice=phi_resonance_cr[keep_phi_slice_cr]\n",
    "\n",
    "print(x_resonance_cr_phi_slice)"
   ],
   "outputs": [
    {
     "output_type": "stream",
     "name": "stdout",
     "text": [
      "[6.7817755 6.422396  5.9007683 ... 4.8968434 4.942743  4.7641735]\n"
     ]
    }
   ],
   "metadata": {}
  },
  {
   "cell_type": "markdown",
   "source": [
    "# checking the matching stars with CR in the slice from snapshot 700"
   ],
   "metadata": {}
  },
  {
   "cell_type": "code",
   "execution_count": 25,
   "source": [
    "idd_resonance_cr_phi_slice_1000=idd_resonance_cr[keep_phi_slice_cr]\n",
    "\n",
    "datafilename=\"700idd_resonance_cr_phi_slice.pkl\"\n",
    "\n",
    "idd_stored_phi_slice_cr = open(save_datapath+datafilename,'rb')\n",
    "idd_resonance_phi_slice_cr_700=pickle.load(idd_stored_phi_slice_cr)\n",
    "\n",
    "commons_phi_slice_cr=list()\n",
    "for i in range(len(idd_resonance_phi_slice_cr_700)):\n",
    "    c=np.where(idd_resonance_cr_phi_slice_1000==idd_resonance_phi_slice_cr_700[i])\n",
    "    commons_phi_slice_cr.extend(list(idd_resonance_cr_phi_slice_1000[c]))\n",
    "print(len(commons_phi_slice_cr))"
   ],
   "outputs": [
    {
     "output_type": "stream",
     "name": "stdout",
     "text": [
      "1\n"
     ]
    }
   ],
   "metadata": {}
  },
  {
   "cell_type": "markdown",
   "source": [
    "# OLR in the slice"
   ],
   "metadata": {}
  },
  {
   "cell_type": "code",
   "execution_count": 26,
   "source": [
    "x_resonance_olr_phi_slice=x_resonance_olr[keep_phi_slice_olr]\n",
    "y_resonance_olr_phi_slice=(y_resonance_olr[keep_phi_slice_olr])\n",
    "z_resonance_olr_phi_slice=(z_resonance_olr[keep_phi_slice_olr])\n",
    "vr_resonance_olr_phi_slice=(vr_resonance_olr[keep_phi_slice_olr])\n",
    "vphi_resonance_olr_phi_slice=(vphi_resonance_olr[keep_phi_slice_olr])\n",
    "#vzz_resonance_olr_phi_slice=(vzz_resonance_olr[keep_phi_slice_olr])\n",
    "\n",
    "r_resonance_olr_phi_slice=r_resonance_olr[keep_phi_slice_olr]\n",
    "\n",
    "phi_resonance_olr_phi_slice=phi_resonance_olr[keep_phi_slice_olr]\n",
    "\n",
    "print(x_resonance_olr_phi_slice)"
   ],
   "outputs": [
    {
     "output_type": "stream",
     "name": "stdout",
     "text": [
      "[ 6.7296634  9.383589   9.80849   ... 12.914726  12.88175   13.898467 ]\n"
     ]
    }
   ],
   "metadata": {}
  },
  {
   "cell_type": "code",
   "execution_count": 27,
   "source": [
    "#checking for matching idds\n",
    "\n",
    "idd_resonance_olr_phi_slice=idd_resonance_olr[keep_phi_slice_olr]\n",
    "\n",
    "datafilename=\"700idd_resonance_olr_phi_slice.pkl\"\n",
    "\n",
    "idd_stored_phi_slice_olr = open(save_datapath+datafilename,'rb')\n",
    "idd_resonance_phi_slice_olr_700=pickle.load(idd_stored_phi_slice_olr)\n",
    "\n",
    "commons_phi_slice_olr=list()\n",
    "for i in range(len(idd_resonance_phi_slice_olr_700)):\n",
    "    c=np.where(idd_resonance_olr_phi_slice==idd_resonance_phi_slice_olr_700[i])\n",
    "    commons_phi_slice_olr.extend(list(idd_resonance_olr_phi_slice[c]))\n",
    "print(len(commons_phi_slice_olr))"
   ],
   "outputs": [
    {
     "output_type": "stream",
     "name": "stdout",
     "text": [
      "0\n"
     ]
    }
   ],
   "metadata": {}
  },
  {
   "cell_type": "markdown",
   "source": [
    "# Selecting the solar neighboorhood"
   ],
   "metadata": {}
  },
  {
   "cell_type": "code",
   "execution_count": 28,
   "source": [
    "keep_cr_sn=(x_resonance_cr<8.5)*(x_resonance_cr>7.5)*(y_resonance_cr<0.5)*(y_resonance_cr>-0.5)*(z_resonance_cr<0.5)*(z_resonance_cr>-0.5)\n",
    "keep_olr_sn=(x_resonance_olr<8.5)*(x_resonance_olr>7.5)*(y_resonance_olr<0.5)*(y_resonance_olr>-0.5)*(z_resonance_olr<0.5)*(z_resonance_olr>-0.5)\n",
    "\n",
    "#keep_cr_sn=(x_resonance_cr<8.5)*(x_resonance_cr>7.5)\n",
    "#keep_olr_sn=(x_resonance_olr<8.5)*(x_resonance_olr>7.5)"
   ],
   "outputs": [],
   "metadata": {}
  },
  {
   "cell_type": "markdown",
   "source": [
    "# CR in the Solar Neighborhood"
   ],
   "metadata": {}
  },
  {
   "cell_type": "code",
   "execution_count": 29,
   "source": [
    "x_resonance_cr_sr=x_resonance_cr[keep_cr_sn]\n",
    "y_resonance_cr_sr=(y_resonance_cr[keep_cr_sn])\n",
    "z_resonance_cr_sr=(z_resonance_cr[keep_cr_sn])\n",
    "vr_resonance_cr_sr=(vr_resonance_cr[keep_cr_sn])\n",
    "vphi_resonance_cr_sr=(vphi_resonance_cr[keep_cr_sn])\n",
    "#vzz_resonance_cr_sr=(vzz_resonance_cr[keep_cr_sn])\n",
    "\n",
    "r_resonance_cr_sr=r_resonance_cr[keep_cr_sn]\n",
    "\n",
    "phi_resonance_cr_sr=phi_resonance_cr[keep_cr_sn]"
   ],
   "outputs": [],
   "metadata": {}
  },
  {
   "cell_type": "code",
   "execution_count": 30,
   "source": [
    "#checking for matching idds\n",
    "\n",
    "idd_resonance_cr_sr=idd_resonance_cr[keep_cr_sn]\n",
    "\n",
    "datafilename=\"700idd_resonance_cr_sr.pkl\"\n",
    "\n",
    "idd_stored_cr_sr = open(save_datapath+datafilename,'rb')\n",
    "idd_resonance_cr_sr_700=pickle.load(idd_stored_cr_sr)\n",
    "\n",
    "commons_cr_sr=list()\n",
    "for i in range(len(idd_resonance_cr_sr_700)):\n",
    "    c=np.where(idd_resonance_cr_sr==idd_resonance_cr_sr_700[i])\n",
    "    commons_cr_sr.extend(list(idd_resonance_cr_sr[c]))\n",
    "print(len(commons_cr_sr))"
   ],
   "outputs": [
    {
     "output_type": "stream",
     "name": "stdout",
     "text": [
      "0\n"
     ]
    }
   ],
   "metadata": {}
  },
  {
   "cell_type": "markdown",
   "source": [
    "# OLR in the Solar Neighborhood"
   ],
   "metadata": {}
  },
  {
   "cell_type": "code",
   "execution_count": 31,
   "source": [
    "x_resonance_olr_sr=(x_resonance_olr[keep_olr_sn])\n",
    "y_resonance_olr_sr=(y_resonance_olr[keep_olr_sn])\n",
    "z_resonance_olr_sr=(z_resonance_olr[keep_olr_sn])\n",
    "vr_resonance_olr_sr=(vr_resonance_olr[keep_olr_sn])\n",
    "vphi_resonance_olr_sr=(vphi_resonance_olr[keep_olr_sn])\n",
    "#vzz_resonance_olr_sr=(vzz_resonance_olr[keep_olr_sn])\n",
    "\n",
    "r_resonance_olr_sr=r_resonance_olr[keep_olr_sn]\n",
    "phi_resonance_olr_sr=phi_resonance_olr[keep_olr_sn]"
   ],
   "outputs": [],
   "metadata": {}
  },
  {
   "cell_type": "code",
   "execution_count": 32,
   "source": [
    "#checking for matching idds\n",
    "\n",
    "idd_resonance_olr_sr=idd_resonance_olr[keep_olr_sn]\n",
    "\n",
    "datafilename=\"700idd_resonance_olr_sr.pkl\"\n",
    "\n",
    "idd_stored_olr_sr = open(save_datapath+datafilename,'rb')\n",
    "idd_resonance_olr_sr_700=pickle.load(idd_stored_olr_sr)\n",
    "\n",
    "commons_olr_sr=list()\n",
    "for i in range(len(idd_resonance_olr_sr_700)):\n",
    "    c=np.where(idd_resonance_olr_sr==idd_resonance_olr_sr_700[i])\n",
    "    commons_olr_sr.extend(list(idd_resonance_olr_sr[c]))\n",
    "print(len(commons_olr_sr))"
   ],
   "outputs": [
    {
     "output_type": "stream",
     "name": "stdout",
     "text": [
      "0\n"
     ]
    }
   ],
   "metadata": {}
  },
  {
   "cell_type": "markdown",
   "source": [
    "# Printing resonance data"
   ],
   "metadata": {}
  },
  {
   "cell_type": "code",
   "execution_count": 33,
   "source": [
    "print(\"Ones with OLR resonance in the solar neighborhood: \",y_resonance_olr_sr)\n",
    "print(\"Ones with CR resonance in the solar neighborhood: \",y_resonance_cr_sr)"
   ],
   "outputs": [
    {
     "output_type": "stream",
     "name": "stdout",
     "text": [
      "Ones with OLR resonance in the solar neighborhood:  [-3.54829788e-01 -3.16368133e-01 -3.55375230e-01 -3.05705726e-01\n",
      " -4.61908162e-01 -3.27712923e-01 -3.83644044e-01 -4.52847838e-01\n",
      " -3.22569311e-01 -3.32449824e-01 -4.64853108e-01 -4.83078927e-01\n",
      " -4.96748388e-01 -4.31921393e-01 -4.17936414e-01 -4.67849821e-01\n",
      " -4.14627224e-01 -3.10735136e-01 -3.31328720e-01 -3.36771935e-01\n",
      " -3.82841200e-01 -2.98611462e-01 -3.45926523e-01 -3.85561466e-01\n",
      " -3.17052424e-01 -4.12442088e-01 -3.96778822e-01 -4.07568932e-01\n",
      " -4.58209872e-01 -3.99901062e-01 -4.19413924e-01 -4.18011785e-01\n",
      " -3.98752958e-01 -3.57227236e-01 -3.52203995e-01 -3.32951993e-01\n",
      " -3.14066380e-01 -3.27784270e-01 -3.71187210e-01 -3.81280959e-01\n",
      " -3.29096258e-01 -3.75169605e-01 -3.77589196e-01 -4.70846981e-01\n",
      " -4.59388673e-01 -4.21427131e-01 -4.06731576e-01 -3.61161202e-01\n",
      " -3.50896686e-01 -2.96052068e-01 -3.15391451e-01 -3.22286218e-01\n",
      " -3.04525763e-01 -3.42874169e-01 -3.49751800e-01 -3.28612685e-01\n",
      " -3.06273818e-01 -4.38212156e-01 -4.08618063e-01 -4.41197753e-01\n",
      " -4.99969661e-01 -3.61964554e-01 -3.43580484e-01 -3.99808854e-01\n",
      " -4.75683004e-01 -4.92219061e-01 -3.33552629e-01 -2.52730638e-01\n",
      " -2.80543715e-01  5.55526875e-02 -9.23221484e-02 -6.77048415e-02\n",
      "  1.17327105e-02  7.96899199e-03 -2.01632790e-02 -8.43801424e-02\n",
      "  3.52437189e-03  3.74585725e-02  1.56285311e-03  7.40820318e-02\n",
      "  7.36443652e-03  1.79742165e-02  2.91360524e-02 -6.93335459e-02\n",
      " -6.42866567e-02 -5.23138866e-02 -1.65854990e-01 -1.74396694e-01\n",
      " -1.74332812e-01 -1.36252150e-01 -2.19342664e-01 -2.11191103e-01\n",
      " -2.31238127e-01 -2.02310935e-01 -2.21161902e-01 -2.90929735e-01\n",
      " -1.79537311e-01 -1.31650046e-01 -1.25940338e-01 -1.53702512e-01\n",
      " -1.90400451e-01 -2.81214833e-01 -2.82948703e-01 -2.29040921e-01\n",
      " -2.89366752e-01 -2.90497482e-01 -2.17640772e-01 -1.92035869e-01\n",
      " -1.85508892e-01 -2.04748780e-01 -2.58945912e-01 -2.14641407e-01\n",
      " -1.39675751e-01 -1.13696203e-01 -1.16095871e-01 -1.83333978e-01\n",
      " -1.48424536e-01 -1.72439858e-01 -1.23251483e-01 -2.25398615e-02\n",
      " -2.27034874e-02 -5.73021062e-02 -6.18486069e-02 -4.87104617e-03\n",
      "  6.20642416e-02  7.43031502e-02  2.53427830e-02 -7.45156109e-02\n",
      " -7.22212568e-02  5.82147576e-02  3.50054465e-02  7.05352202e-02\n",
      "  1.72023606e-02 -8.55177417e-02 -7.70565420e-02 -4.22222763e-02\n",
      " -1.56449229e-01 -1.97307512e-01 -1.28111184e-01 -2.89340913e-01\n",
      " -1.89856485e-01 -2.19571069e-01 -2.70087332e-01 -2.35771224e-01\n",
      " -1.96993679e-01 -9.95190293e-02 -5.77128567e-02  3.00418343e-02\n",
      "  4.40180637e-02  4.97562662e-02  1.79451302e-01  2.60575473e-01\n",
      "  1.82943165e-01  9.23096016e-02  2.34936476e-01  2.86413789e-01\n",
      "  4.33802515e-01  3.20518821e-01  2.71691829e-01  2.65958935e-01\n",
      "  3.13791186e-01  3.79483700e-01  2.74429351e-01  3.52756828e-01\n",
      "  2.98636526e-01  2.89272606e-01  2.43973315e-01  1.62784874e-01\n",
      "  1.50598422e-01  1.54426858e-01  1.92177236e-01  1.72905654e-01\n",
      "  1.60811171e-01  9.92544815e-02  1.32517591e-01  1.54497549e-01\n",
      "  1.83546066e-01  1.91505507e-01  3.13442081e-01  3.46607119e-01\n",
      "  2.96123266e-01  3.05437833e-01  4.40591544e-01  3.99281770e-01\n",
      "  3.88675749e-01  4.20944929e-01  4.26020384e-01  2.83088565e-01\n",
      "  3.21458966e-01  2.68887103e-01  3.28422904e-01  3.57938915e-01\n",
      "  3.86322767e-01  3.81001145e-01  4.29607987e-01  4.04422283e-01\n",
      "  3.63813877e-01  3.81949276e-01  3.58314425e-01  3.27043563e-01\n",
      "  3.43916863e-01  4.49865013e-01  3.94682735e-01  3.98643970e-01\n",
      "  4.26424414e-01  4.17157352e-01  4.46058095e-01  3.06637496e-01\n",
      "  3.08842510e-01  2.82112092e-01  2.70093441e-01  2.76083320e-01\n",
      "  2.69943893e-01  2.21876487e-01  1.89520314e-01  1.45306274e-01\n",
      "  1.38870716e-01  1.08449630e-01  1.08938523e-01  1.69412762e-01\n",
      "  2.17420653e-01  2.06581786e-01  1.72987625e-01  2.59497613e-01\n",
      "  2.06933200e-01  1.69614092e-01  1.26477093e-01  1.71020791e-01\n",
      "  1.11047365e-01  8.62370804e-02  2.68611848e-01  3.09578031e-01\n",
      "  4.69293207e-01  4.78472918e-01  4.92160052e-01  4.62181389e-01\n",
      "  4.70310152e-01  4.74807411e-01  4.93277371e-01 -6.30086521e-04\n",
      " -1.05721936e-01  7.59378746e-02 -1.61338389e-01 -1.18875369e-01\n",
      " -2.39023983e-01 -1.85959771e-01 -2.07874313e-01 -3.06177169e-01\n",
      " -4.19461697e-01 -3.76334965e-01 -3.09971780e-01 -3.63950759e-01\n",
      " -4.97019798e-01 -4.57357168e-01 -4.50358361e-01 -3.61565769e-01\n",
      " -3.20510775e-01 -2.00933859e-01 -1.32814586e-01 -2.65680104e-02\n",
      "  1.74027253e-02  6.12334209e-03  5.99138774e-02 -3.56583335e-02\n",
      " -8.40351060e-02 -2.45093837e-01 -2.22123161e-01 -1.25948533e-01\n",
      " -2.54993558e-01 -2.23686635e-01 -1.39972419e-01 -1.31610394e-01\n",
      " -8.41457546e-02 -6.57175258e-02 -3.76278087e-02  5.16662225e-02\n",
      "  2.79003307e-02 -4.77767348e-01 -3.67193431e-01 -3.80436778e-01\n",
      " -3.36422771e-01 -2.99221665e-01 -2.99908012e-01 -4.47859794e-01\n",
      " -4.93915677e-01 -4.38638210e-01 -4.60245192e-01 -4.59097683e-01\n",
      " -3.78193855e-01 -3.73772472e-01 -3.59125704e-01 -3.21627617e-01\n",
      " -3.54927808e-01 -3.22625369e-01 -3.26767713e-01 -3.53112280e-01\n",
      " -3.63535315e-01 -3.68971229e-01 -3.57929528e-01 -3.23205739e-01\n",
      " -2.98539430e-01 -3.51187050e-01 -3.96867841e-01 -4.06355500e-01\n",
      " -4.41216707e-01 -3.82263809e-01 -3.73372614e-01 -3.76891524e-01\n",
      " -3.28737974e-01 -2.99896866e-01 -4.11808461e-01 -3.43596429e-01\n",
      " -3.80070269e-01 -4.33571666e-01 -4.01957929e-01 -4.12645876e-01\n",
      " -3.20802689e-01 -3.16781610e-01 -4.13606852e-01 -3.14377159e-01\n",
      " -3.79777491e-01 -3.20077926e-01 -3.39264214e-01 -3.69165182e-01\n",
      " -3.91407490e-01 -4.81383890e-01 -4.93954927e-01 -3.97167176e-01\n",
      " -4.59234923e-01 -4.65875864e-01 -4.29771632e-01 -3.98680419e-01\n",
      " -3.72459054e-01 -3.86964828e-01 -3.44615310e-01 -1.39707670e-01\n",
      " -1.81504771e-01 -1.51564971e-01 -2.06377387e-01 -2.21756741e-01\n",
      " -2.41603836e-01 -2.15497583e-01 -2.30131313e-01 -2.05796272e-01\n",
      " -2.18445629e-01 -1.19026251e-01 -1.44211665e-01 -1.11877680e-01\n",
      " -1.93386480e-01 -1.20272174e-01 -1.42628357e-01 -1.60475358e-01\n",
      " -2.75548577e-01 -2.38953799e-01 -2.42270887e-01 -2.54506677e-01\n",
      " -1.93674207e-01 -1.92392111e-01 -1.56181216e-01 -2.08546311e-01\n",
      " -2.86432087e-01 -2.50431865e-01 -2.28856415e-01 -2.54636317e-01\n",
      " -2.38487005e-01 -2.12191403e-01 -2.13077962e-01 -2.39494860e-01\n",
      " -2.21595004e-01 -2.05980614e-01 -1.49583325e-01 -1.18695155e-01\n",
      " -1.69893056e-01 -1.61115125e-01 -1.13060862e-01 -3.64750028e-02\n",
      " -8.29125196e-02 -9.57539380e-02 -6.89758360e-02 -6.99289143e-02\n",
      " -5.19946180e-02 -1.22023746e-02 -2.51825713e-03  6.37563094e-02\n",
      "  5.68794273e-03  7.13803396e-02  6.83007911e-02 -3.94996954e-04\n",
      "  5.35279848e-02  3.97158228e-02  6.89505339e-02  3.33103910e-02\n",
      "  2.60325763e-02  6.08764663e-02  2.21931227e-02 -4.88265269e-02\n",
      " -5.02119139e-02 -2.83662379e-02  3.03263795e-02  4.31617256e-04\n",
      "  7.02024028e-02 -7.22858757e-02 -9.13145691e-02 -8.79761577e-02\n",
      " -7.80215710e-02 -1.63494088e-02  5.21839149e-02  3.76466401e-02\n",
      " -1.03920162e-01 -8.40389132e-02  5.69041222e-02  1.33413519e-03\n",
      "  5.26250415e-02  1.47306137e-02 -8.69196206e-02 -4.54462394e-02\n",
      "  5.35439476e-02  9.17838067e-02  1.60143197e-01  1.44646704e-01\n",
      "  1.66332707e-01  1.76572502e-01  2.16370940e-01  2.39967108e-01\n",
      "  2.96070278e-01  2.80819297e-01  4.48845893e-01  2.98013568e-01\n",
      "  4.51087505e-01  4.00699764e-01  2.25209981e-01  1.56171858e-01\n",
      "  1.10989101e-01  2.61533737e-01  1.75960630e-01  1.88363045e-01\n",
      "  1.87826246e-01  8.82816017e-02  1.50964588e-01  1.80279106e-01\n",
      "  1.97319090e-01  1.10200360e-01  9.36920717e-02  1.08871505e-01\n",
      "  2.22752050e-01  1.85771614e-01  2.40573421e-01  2.05045819e-01\n",
      "  9.38961804e-02  1.12375475e-01  1.03783555e-01  1.56447619e-01\n",
      "  1.11668482e-01  1.36431545e-01  8.34355354e-02  2.43565902e-01\n",
      "  3.09983164e-01  3.69611353e-01  4.41908717e-01  3.16477448e-01\n",
      "  3.18360031e-01  3.42746258e-01  4.16171312e-01  3.31806809e-01\n",
      "  4.21830118e-01  3.01513880e-01  2.95625538e-01  4.27118093e-01\n",
      "  4.50711757e-01  4.04222578e-01  4.45308924e-01  3.26671988e-01\n",
      "  2.26622805e-01  2.33569548e-01  2.44802892e-01  2.38670751e-01\n",
      "  2.65200317e-01  2.03418612e-01  1.54378071e-01  1.39954180e-01\n",
      "  1.25952154e-01  1.43951774e-01  1.46435738e-01  1.65109143e-01\n",
      "  9.76045653e-02  1.02790937e-01  1.00511409e-01  2.08307385e-01\n",
      "  2.21119329e-01  1.89238116e-01  1.19354360e-01  3.23867649e-01\n",
      "  2.92624831e-01  3.39028925e-01  3.99156213e-01  3.22726846e-01\n",
      "  2.96938092e-01  3.48357648e-01  3.96455288e-01  1.87107503e-01\n",
      "  2.34382972e-01  2.15828195e-01  2.50167012e-01  2.08421081e-01\n",
      "  1.57248333e-01  1.81440845e-01  4.17668581e-01  3.66673142e-01\n",
      "  4.91886646e-01  4.64268267e-01  4.53090847e-01  4.85971749e-01\n",
      "  4.53171641e-01  4.59674895e-01  4.59084332e-01  4.94935721e-01\n",
      "  4.86185253e-01  4.82600272e-01  4.64537948e-01 -4.08622682e-01\n",
      " -3.60942751e-01 -3.96274358e-01 -3.31696898e-01 -3.94365460e-01\n",
      " -3.00339609e-01 -3.26274753e-01 -3.77211869e-01 -4.92759883e-01\n",
      " -3.54590565e-01 -4.57851112e-01 -4.53913778e-01 -4.76053894e-01\n",
      " -4.47334588e-01 -2.97744304e-01 -3.81070554e-01 -4.10003453e-01\n",
      " -2.97803253e-01 -3.55314016e-01 -3.03191245e-01 -3.53331774e-01\n",
      " -3.59588534e-01 -3.15407902e-01 -3.61109585e-01 -4.33863580e-01\n",
      " -4.64288890e-01 -4.41408217e-01 -4.15855706e-01 -3.89741093e-01\n",
      " -4.27943319e-01 -4.80343163e-01 -4.19515789e-01 -4.85066742e-01\n",
      " -4.91082847e-01 -4.01039809e-01 -3.18957180e-01 -3.74853134e-01\n",
      " -3.69006038e-01 -3.86295944e-01 -4.42437261e-01 -4.05698061e-01\n",
      " -3.46488506e-01 -2.69643426e-01 -2.29541436e-01 -6.60785958e-02\n",
      "  6.47554696e-02 -1.33948982e-01 -1.41630724e-01 -2.45816231e-01\n",
      " -1.14621237e-01 -1.90038532e-01 -6.24008924e-02 -8.31701010e-02\n",
      "  5.22417808e-03 -6.41242713e-02 -6.83422312e-02 -3.63212451e-02\n",
      "  4.87335660e-02  2.25233454e-02  4.95720841e-02  1.99367832e-02\n",
      "  3.45991962e-02 -2.05005668e-02 -9.66401771e-02 -1.83193699e-01\n",
      " -1.63880587e-01 -1.80310220e-01 -2.71539956e-01 -2.21821606e-01\n",
      " -2.07989722e-01 -1.20584488e-01 -1.47967800e-01 -2.30029300e-01\n",
      " -1.75905451e-01 -1.76400170e-01 -1.75638735e-01 -1.81151792e-01\n",
      " -2.66687453e-01 -2.88930148e-01 -2.39947423e-01 -2.92510450e-01\n",
      " -1.95697159e-01 -1.81280121e-01 -1.28630981e-01 -1.23058930e-01\n",
      " -1.39878258e-01 -1.26205057e-01 -2.49949899e-02 -8.21478218e-02\n",
      " -3.74118015e-02 -7.40694627e-02 -3.75135280e-02  5.08300662e-02\n",
      "  4.94249426e-02  3.63814123e-02  4.39129025e-02  5.20431399e-02\n",
      " -9.55657735e-02 -1.02626808e-01 -1.05472468e-01  9.21516772e-03\n",
      " -1.95800573e-01 -2.22808555e-01 -2.72685438e-01 -1.34484723e-01\n",
      " -1.06035687e-01  5.53390458e-02 -8.96847993e-02  4.24026102e-01\n",
      "  9.71003026e-02  4.26861465e-01  4.49195713e-01  4.30453271e-01\n",
      "  4.25094604e-01  4.20235455e-01  3.54808629e-01  3.34067136e-01\n",
      "  2.35102162e-01  2.60307401e-01  8.92401859e-02  2.52287239e-01\n",
      "  2.49198839e-01  2.49244422e-01  1.36372194e-01  1.29627898e-01\n",
      "  1.40368655e-01  8.01116377e-02  1.46683976e-01  1.69285923e-01\n",
      "  1.56998217e-01  1.30926400e-01  1.79856345e-01  2.13023514e-01\n",
      "  3.31647873e-01  3.14119816e-01  3.58744413e-01  4.52818155e-01\n",
      "  4.21594709e-01  3.86297107e-01  4.40137178e-01  3.73591572e-01\n",
      "  3.63275766e-01  3.99537414e-01  4.45147902e-01  3.99416298e-01\n",
      "  3.63836914e-01  3.45411777e-01  3.94967645e-01  4.39129859e-01\n",
      "  4.46933091e-01  4.35247898e-01  4.27130729e-01  3.70379955e-01\n",
      "  1.80325821e-01  1.84223518e-01  2.20222697e-01  2.03768611e-01\n",
      "  9.07473117e-02  9.81108844e-02  1.03184335e-01  1.25839785e-01\n",
      "  1.14028923e-01  8.86533409e-02  1.57863989e-01  2.12160349e-01\n",
      "  1.25267178e-01  2.53162533e-01  2.33460844e-01  1.46431476e-01\n",
      "  1.53951913e-01  1.46510497e-01  1.53698444e-01  2.21647829e-01\n",
      "  4.33267236e-01  4.03623134e-01  4.30982322e-01  4.16755527e-01\n",
      "  4.91718292e-01  4.69833374e-01  4.97332186e-01  4.77378726e-01\n",
      "  4.78663206e-01  4.57408845e-01  4.72688645e-01  4.56749320e-01\n",
      "  4.62691247e-01 -4.96052414e-01 -4.41876113e-01 -4.21044737e-01\n",
      " -3.84133220e-01 -3.31872612e-01 -4.42082167e-01 -4.29096162e-01\n",
      " -3.80705506e-01 -3.60313624e-01 -4.47054625e-01 -3.68806273e-01\n",
      " -3.00352067e-01 -3.89634311e-01 -4.73420322e-01 -3.91299278e-01\n",
      " -4.00752723e-01 -3.79306108e-01 -3.18474114e-01 -4.53568250e-01\n",
      " -4.95206147e-01 -4.98030663e-01 -4.89066631e-01 -3.56232613e-01\n",
      " -4.05055404e-01 -3.53202790e-01 -3.48709196e-01 -4.88716274e-01\n",
      " -3.83756965e-01 -2.98286229e-01 -4.90004629e-01 -3.91552746e-01\n",
      " -4.23393309e-01 -3.48575920e-01 -3.33518624e-01 -3.33945692e-01\n",
      " -3.27940166e-01 -3.61389577e-01 -4.55718875e-01 -4.51816171e-01\n",
      " -4.04375404e-01 -3.43335032e-01 -2.43832558e-01 -1.66892856e-01\n",
      " -2.03644022e-01 -2.21972570e-01 -1.72812372e-01 -4.99064028e-02\n",
      "  5.12808450e-02 -1.01538431e-02  4.23755907e-02 -7.73098171e-02\n",
      " -7.69460201e-02 -2.91133523e-01 -2.62627661e-01 -6.65844306e-02\n",
      " -3.10798129e-03  4.97857574e-04 -7.54766539e-02 -2.43379816e-01\n",
      " -2.31417626e-01 -2.56437838e-01 -1.47570550e-01 -1.68484062e-01\n",
      " -1.25611588e-01 -1.70362502e-01 -2.59513855e-01 -1.20676337e-02\n",
      " -1.04060896e-01 -6.88902959e-02  1.85206998e-02 -9.23839584e-03\n",
      " -6.07906841e-05  6.08800277e-02 -9.33317319e-02 -1.81158841e-01\n",
      " -1.48958325e-01 -1.92405432e-01 -1.42535597e-01 -1.16912648e-01\n",
      " -2.70490825e-01 -1.93300232e-01 -2.86256164e-01 -2.57849455e-01\n",
      " -1.14140518e-01 -2.85225451e-01 -1.91605017e-02 -2.25109961e-02\n",
      "  3.36804055e-02 -1.97478216e-02 -1.06946938e-01 -1.54143861e-02\n",
      "  1.97179690e-02 -1.83138892e-01 -1.70000404e-01 -1.91161960e-01\n",
      " -1.89776883e-01 -2.89496541e-01 -1.49746165e-01 -1.21053025e-01\n",
      " -2.40339503e-01 -2.88240880e-01 -2.19618589e-01 -1.73672482e-01\n",
      " -1.51463345e-01 -1.04431622e-01 -2.23059803e-02 -4.42259833e-02\n",
      " -6.41946793e-02 -2.53730062e-02 -1.57510731e-02 -6.16511405e-02\n",
      " -1.44931097e-02  6.91576675e-02 -1.81994308e-03  4.73462492e-02\n",
      "  2.93883141e-02  6.96122497e-02  1.77830786e-01  1.86838731e-01\n",
      "  1.36852533e-01  1.48138806e-01  1.17273256e-01  1.04890324e-01\n",
      "  1.69354901e-01  1.96334302e-01  2.48883232e-01  3.22094232e-01\n",
      "  3.93359154e-01  4.19739813e-01  4.43011612e-01  4.50362355e-01\n",
      "  3.47278237e-01  3.27028275e-01  3.91468555e-01  4.36445147e-01\n",
      "  4.33681220e-01  2.79042184e-01  3.56532335e-01  3.00785691e-01\n",
      "  2.81150341e-01  3.87767762e-01  3.43538910e-01  4.97965425e-01\n",
      "  4.73319471e-01  8.70896652e-02  1.02527387e-01  1.60993412e-01\n",
      "  3.05991143e-01  4.15587634e-01  3.27973247e-01  1.88756227e-01\n",
      "  2.96784490e-01  4.10417646e-01  4.86883759e-01  2.86109626e-01\n",
      "  3.09357524e-01  3.04710329e-01  2.68179595e-01  1.57431439e-01\n",
      "  2.49908045e-01  1.71695411e-01]\n",
      "Ones with CR resonance in the solar neighborhood:  [-0.30207917 -0.42901734 -0.3678513  ...  0.1353483   0.12544978\n",
      "  0.13506556]\n"
     ]
    }
   ],
   "metadata": {}
  },
  {
   "cell_type": "code",
   "execution_count": 34,
   "source": [
    "# for CR\n",
    "\n",
    "x_700=list()\n",
    "y_700=list()\n",
    "for i in range(len(commons)):\n",
    "    test = loadonesource(path,commons[i],start=700,finish=701)\n",
    "    x_test=test['x']\n",
    "    y_test=test['y']\n",
    "    x_700.extend(x_test)\n",
    "    y_700.extend(y_test)\n",
    "\n",
    "print(len(x_700))\n",
    "\n",
    "\n",
    "x_1000=list()\n",
    "y_1000=list()\n",
    "for i in range(len(commons)):\n",
    "    test = loadonesource(path,commons[i],start=snapshot,finish=snapshot+1)\n",
    "    x_test=test['x']\n",
    "    y_test=test['y']\n",
    "    x_1000.extend(x_test)\n",
    "    y_1000.extend(y_test)\n"
   ],
   "outputs": [
    {
     "output_type": "stream",
     "name": "stdout",
     "text": [
      "5059\n"
     ]
    }
   ],
   "metadata": {}
  },
  {
   "cell_type": "code",
   "execution_count": 35,
   "source": [
    "# for OLR\n",
    "\n",
    "x_700_olr=list()\n",
    "y_700_olr=list()\n",
    "for i in range(len(commons_olr)):\n",
    "    test = loadonesource(path,commons_olr[i],start=700,finish=701)\n",
    "    x_test=test['x']\n",
    "    y_test=test['y']\n",
    "    x_700_olr.extend(x_test)\n",
    "    y_700_olr.extend(y_test)\n",
    "\n",
    "print(len(x_700))\n",
    "\n",
    "\n",
    "\n",
    "x_1000_olr=list()\n",
    "y_1000_olr=list()\n",
    "for i in range(len(commons_olr)):\n",
    "    test = loadonesource(path,commons_olr[i],start=snapshot,finish=snapshot+1)\n",
    "    x_test=test['x']\n",
    "    y_test=test['y']\n",
    "    x_1000_olr.extend(x_test)\n",
    "    y_1000_olr.extend(y_test)\n"
   ],
   "outputs": [
    {
     "output_type": "stream",
     "name": "stdout",
     "text": [
      "5059\n"
     ]
    }
   ],
   "metadata": {}
  },
  {
   "cell_type": "code",
   "execution_count": 36,
   "source": [
    "print(len(x_1000_olr))\n",
    "print(len(x_700_olr))"
   ],
   "outputs": [
    {
     "output_type": "stream",
     "name": "stdout",
     "text": [
      "22181\n",
      "22181\n"
     ]
    }
   ],
   "metadata": {}
  },
  {
   "cell_type": "markdown",
   "source": [
    "# Plotting resonance stars before and after"
   ],
   "metadata": {}
  },
  {
   "cell_type": "code",
   "execution_count": 38,
   "source": [
    "fig2=plt.figure()\n",
    "ax=fig2.add_subplot(111)\n",
    "#ax.text(8,300,r\"Snapshot %s, Slice: -5<$\\phi$<5\"%(str(snapshot)))\n",
    "#cb1=ax.hexbin(x_select,y_select,extent=((-35,35,-35,35)),gridsize=500,mincnt=1,C=Ordisk,vmin=1,vmax=40)\n",
    "cb1=ax.hexbin(x_select,y_select,extent=((-35,35,-35,35)),gridsize=500,mincnt=1,bins='log')\n",
    "#ax.scatter(x_700_olr,y_700_olr,c=\"red\",marker=\".\",s=0.01,label=\"OLR at 700\")\n",
    "#ax.scatter(x_1000_olr,y_1000_olr,c=\"yellow\",marker=\".\",s=0.01,label=\"OLR at \"+str(snapshot))\n",
    "ax.scatter(x_700,y_700,c=\"orange\",marker=\".\",s=0.1,label=\"CR at 700\")\n",
    "#ax.scatter(x_1000,y_1000,c=\"black\",marker=\".\",s=0.1,label=\"CR at \"+str(snapshot))\n",
    "ax.set_xlabel(\"x\")\n",
    "ax.set_ylabel(\"y\")\n",
    "ax.legend(bbox_to_anchor=(1.13,0.93), loc='center left',markerscale=15)\n",
    "ax.text(11,30,r\"Snapshot \"+str(snapshot)+\" (B3-N)\")\n",
    "#ax.set_xlim(7.5,8.5)\n",
    "#ax.set_ylim(-0.5,0.5)\n",
    "cbar_ax = fig2.add_axes([0.91, 0.12, 0.03, 0.76]) # position of the colorbar (left, bottom, width, height)\n",
    "fig2.colorbar(cb1, cax=cbar_ax)\n",
    "cbar_ax.set_ylabel(r'n$_{star}$')\n",
    "cbar_ax.yaxis.label.set_size(10)\n",
    "plotname=str(snapshot)+\"B3-N_y_vs_x_with_CR_resonance_regions_before.jpg\"\n",
    "fig2.savefig(plotpath+plotname,bbox_inches=\"tight\",dpi=250)\n",
    "print(\"Plot generated and saved to file: \",plotname)\n",
    "plt.close()"
   ],
   "outputs": [],
   "metadata": {}
  },
  {
   "cell_type": "code",
   "execution_count": null,
   "source": [
    "fig2_1=plt.figure()\n",
    "ax=fig2_1.add_subplot(111)\n",
    "#ax.text(8,300,r\"Snapshot %s, Slice: -5<$\\phi$<5\"%(str(snapshot)))\n",
    "#cb1=ax.hexbin(x_select,y_select,extent=((-35,35,-35,35)),gridsize=500,mincnt=1,C=Ordisk,vmin=1,vmax=40)\n",
    "cb1=ax.hexbin(x_select,y_select,extent=((-35,35,-35,35)),gridsize=500,mincnt=1,bins='log')\n",
    "ax.scatter(x_700_olr,y_700_olr,c=\"red\",marker=\".\",s=0.01,label=\"OLR at 700\")\n",
    "ax.scatter(x_1000_olr,y_1000_olr,c=\"yellow\",marker=\".\",s=0.01,label=\"OLR at \"+str(snapshot))\n",
    "#ax.scatter(x_700,y_700,c=\"orange\",marker=\".\",s=0.1,label=\"CR at 700\")\n",
    "#ax.scatter(x_1000,y_1000,c=\"black\",marker=\".\",s=0.1,label=\"CR at \"+str(snapshot))\n",
    "ax.set_xlabel(\"x\")\n",
    "ax.set_ylabel(\"y\")\n",
    "ax.legend(bbox_to_anchor=(1.13,0.93), loc='center left',markerscale=15)\n",
    "ax.text(11,30,r\"Snapshot \"+str(snapshot)+\" (B3-N)\")\n",
    "#ax.set_xlim(7.5,8.5)\n",
    "#ax.set_ylim(-0.5,0.5)\n",
    "cbar_ax = fig2_1.add_axes([0.91, 0.12, 0.03, 0.76]) # position of the colorbar (left, bottom, width, height)\n",
    "fig2_1.colorbar(cb1, cax=cbar_ax)\n",
    "cbar_ax.set_ylabel(r'n$_{star}$')\n",
    "cbar_ax.yaxis.label.set_size(10)\n",
    "plotname=str(snapshot)+\"B3-N_y_vs_x_with_OLR_resonance_regions_before_after.jpg\"\n",
    "fig2_1.savefig(plotpath+plotname,bbox_inches=\"tight\",dpi=250)\n",
    "print(\"Plot generated and saved to file: \",plotname)\n",
    "plt.close()"
   ],
   "outputs": [],
   "metadata": {}
  },
  {
   "cell_type": "code",
   "execution_count": null,
   "source": [
    "fig2_1=plt.figure()\n",
    "ax=fig2_1.add_subplot(111)\n",
    "#ax.text(8,300,r\"Snapshot %s, Slice: -5<$\\phi$<5\"%(str(snapshot)))\n",
    "#cb1=ax.hexbin(x_select,y_select,extent=((-35,35,-35,35)),gridsize=500,mincnt=1,C=Ordisk,vmin=1,vmax=40)\n",
    "cb1=ax.hexbin(x_select,y_select,extent=((-35,35,-35,35)),gridsize=500,mincnt=1,bins='log')\n",
    "ax.scatter(x_700_olr,y_700_olr,c=\"red\",marker=\".\",s=0.01,label=\"OLR at 700\")\n",
    "#ax.scatter(x_1000_olr,y_1000_olr,c=\"yellow\",marker=\".\",s=0.01,label=\"OLR at \"+str(snapshot))\n",
    "#ax.scatter(x_700,y_700,c=\"orange\",marker=\".\",s=0.1,label=\"CR at 700\")\n",
    "#ax.scatter(x_1000,y_1000,c=\"black\",marker=\".\",s=0.1,label=\"CR at \"+str(snapshot))\n",
    "ax.set_xlabel(\"x\")\n",
    "ax.set_ylabel(\"y\")\n",
    "ax.legend(bbox_to_anchor=(1.13,0.93), loc='center left',markerscale=15)\n",
    "ax.text(11,30,r\"Snapshot \"+str(snapshot)+\" (B3-N)\")\n",
    "#ax.set_xlim(7.5,8.5)\n",
    "#ax.set_ylim(-0.5,0.5)\n",
    "cbar_ax = fig2_1.add_axes([0.91, 0.12, 0.03, 0.76]) # position of the colorbar (left, bottom, width, height)\n",
    "fig2_1.colorbar(cb1, cax=cbar_ax)\n",
    "cbar_ax.set_ylabel(r'n$_{star}$')\n",
    "cbar_ax.yaxis.label.set_size(10)\n",
    "plotname=str(snapshot)+\"B3-N_y_vs_x_with_OLR_resonance_before.jpg\"\n",
    "fig2_1.savefig(plotpath+plotname,bbox_inches=\"tight\",dpi=250)\n",
    "print(\"Plot generated and saved to file: \",plotname)\n",
    "plt.close()"
   ],
   "outputs": [],
   "metadata": {}
  },
  {
   "cell_type": "code",
   "execution_count": 36,
   "source": [
    "fig3=plt.figure()\n",
    "ax=fig3.add_subplot(111)\n",
    "#ax.text(8,300,r\"Snapshot %s, Slice: -5<$\\phi$<5\"%(str(snapshot)))\n",
    "#cb1=ax.hexbin(x_select,y_select,extent=((-35,35,-35,35)),gridsize=500,mincnt=1,C=Ordisk,vmin=1,vmax=40)\n",
    "cb1=ax.hexbin(x_select,y_select,extent=((-35,35,-35,35)),gridsize=500,mincnt=1,bins='log')\n",
    "ax.scatter(x_700_olr,y_700_olr,c=\"red\",marker=\".\",s=0.01,label=\"OLR at 700\")\n",
    "ax.scatter(x_1000_olr,y_1000_olr,c=\"yellow\",marker=\".\",s=0.01,label=\"OLR at \"+str(snapshot))\n",
    "ax.scatter(x_700,y_700,c=\"orange\",marker=\".\",s=0.1,label=\"CR at 700\")\n",
    "ax.scatter(x_1000,y_1000,c=\"black\",marker=\".\",s=0.1,label=\"CR at \"+str(snapshot))\n",
    "ax.set_xlabel(\"x\")\n",
    "ax.set_ylabel(\"y\")\n",
    "ax.legend(bbox_to_anchor=(1.13,0.93), loc='center left',markerscale=11)\n",
    "ax.text(11,30,r\"Snapshot \"+str(snapshot)+\" (B3-N)\")\n",
    "#ax.set_xlim(7.5,8.5)\n",
    "#ax.set_ylim(-0.5,0.5)\n",
    "cbar_ax = fig3.add_axes([0.91, 0.12, 0.03, 0.76]) # position of the colorbar (left, bottom, width, height)\n",
    "fig3.colorbar(cb1, cax=cbar_ax)\n",
    "cbar_ax.set_ylabel(r'n$_{star}$')\n",
    "cbar_ax.yaxis.label.set_size(10)\n",
    "plotname=str(snapshot)+\"B3-N_y_vs_x_with_resonance_regions_whole_galaxy_before_after.jpg\"\n",
    "fig3.savefig(plotpath+plotname,bbox_inches=\"tight\",dpi=250)\n",
    "print(\"Plot generated and saved to file: \",plotname)\n",
    "plt.close()"
   ],
   "outputs": [
    {
     "output_type": "stream",
     "name": "stdout",
     "text": [
      "Plot generated and saved to file:  1000B3-N_y_vs_x_with_resonance_regions_whole_galaxy_before_after.jpg\n"
     ]
    }
   ],
   "metadata": {}
  },
  {
   "cell_type": "markdown",
   "source": [
    "# Plotting x and y of resonance regions in the entire galaxy"
   ],
   "metadata": {}
  },
  {
   "cell_type": "code",
   "execution_count": 38,
   "source": [
    "fig4=plt.figure()\n",
    "ax=fig4.add_subplot(111)\n",
    "#ax.text(8,300,r\"Snapshot %s, Slice: -5<$\\phi$<5\"%(str(snapshot)))\n",
    "#cb1=ax.hexbin(x_select,y_select,extent=((-35,35,-35,35)),gridsize=500,mincnt=1,C=Ordisk,vmin=1,vmax=40)\n",
    "cb1=ax.hexbin(x_select,y_select,extent=((-35,35,-35,35)),gridsize=500,mincnt=1,bins='log')\n",
    "ax.scatter(x_resonance_cr,y_resonance_cr,c=\"black\",marker=\".\",s=0.01,label=\"CR\")\n",
    "ax.scatter(x_resonance_olr,y_resonance_olr,c=\"red\",marker=\".\",s=0.01,label=\"OLR\")\n",
    "ax.scatter(x_resonance_cr_sr,y_resonance_cr_sr,c=\"yellow\",marker=\".\",s=0.1,label=\"CR-SN\")\n",
    "ax.scatter(x_resonance_olr_sr,y_resonance_olr_sr,c=\"orange\",marker=\".\",s=0.1,label=\"OLR-SN\")\n",
    "ax.set_xlabel(\"x\")\n",
    "ax.set_ylabel(\"y\")\n",
    "ax.legend(bbox_to_anchor=(1.13,0.93), loc='center left',markerscale=9)\n",
    "ax.text(11,30,r\"Snapshot \"+str(snapshot)+\" (B3-N)\")\n",
    "#ax.set_xlim(7.5,8.5)\n",
    "#ax.set_ylim(-0.5,0.5)\n",
    "cbar_ax = fig4.add_axes([0.91, 0.12, 0.03, 0.76]) # position of the colorbar (left, bottom, width, height)\n",
    "fig4.colorbar(cb1, cax=cbar_ax)\n",
    "cbar_ax.set_ylabel(r'n$_{star}$')\n",
    "cbar_ax.yaxis.label.set_size(10)\n",
    "plotname=str(snapshot)+\"B3-N_y_vs_x_with_resonance_regions_whole_galaxy.jpg\"\n",
    "fig4.savefig(plotpath+plotname,bbox_inches=\"tight\",dpi=250)\n",
    "print(\"Plot generated and saved to file: \",plotname)\n",
    "plt.close()"
   ],
   "outputs": [
    {
     "output_type": "stream",
     "name": "stdout",
     "text": [
      "Plot generated and saved to file:  1000B3-N_y_vs_x_with_resonance_regions_whole_galaxy.jpg\n"
     ]
    }
   ],
   "metadata": {}
  },
  {
   "cell_type": "code",
   "execution_count": null,
   "source": [
    "print(np.max(vr_select))"
   ],
   "outputs": [],
   "metadata": {}
  },
  {
   "cell_type": "code",
   "execution_count": 39,
   "source": [
    "fig5=plt.figure()\n",
    "ax=fig5.add_subplot(111)\n",
    "#ax.text(8,300,r\"Snapshot %s, Slice: -5<$\\phi$<5\"%(str(snapshot)))\n",
    "#cb1=ax.hexbin(x_select,y_select,extent=((-35,35,-35,35)),gridsize=500,mincnt=1,C=Ordisk,vmin=1,vmax=40)\n",
    "cb1=ax.hexbin(vr,vphi,extent=((-650,650,-650,650)),gridsize=500,mincnt=1,bins='log')\n",
    "ax.set_xlabel(\"vR\")\n",
    "ax.set_ylabel(r\"v$\\phi$\")\n",
    "ax.scatter(vr_resonance_cr,vphi_resonance_cr,c=\"black\",marker=\".\",s=0.01,label=\"CR\")\n",
    "ax.scatter(vr_resonance_olr,vphi_resonance_olr,c=\"red\",marker=\".\",s=0.01,label=\"OLR\")\n",
    "ax.scatter(vr_resonance_cr_sr,vphi_resonance_cr_sr,c=\"yellow\",marker=\".\",s=0.1,label=\"CR-SN\")\n",
    "ax.scatter(vr_resonance_olr_sr,vphi_resonance_olr_sr,c=\"orange\",marker=\".\",s=0.1,label=\"OLR-SN\")\n",
    "ax.legend(bbox_to_anchor=(1.13,0.93), loc='center left',markerscale=9)\n",
    "ax.text(248,550,r\"Snapshot \"+str(snapshot)+\" (B3-N)\")\n",
    "\n",
    "cbar_ax = fig5.add_axes([0.91, 0.12, 0.03, 0.76]) # position of the colorbar (left, bottom, width, height)\n",
    "fig5.colorbar(cb1, cax=cbar_ax)\n",
    "cbar_ax.set_ylabel(r'n$_{star}$')\n",
    "cbar_ax.yaxis.label.set_size(10)\n",
    "plotname=str(snapshot)+\"B3-N_v_phi_vs_vr_with_resonance_regions.jpg\"\n",
    "fig5.savefig(plotpath+plotname,bbox_inches=\"tight\",dpi=200)\n",
    "print(\"Plot generated and saved to file: \",plotname)\n",
    "plt.close()"
   ],
   "outputs": [
    {
     "output_type": "stream",
     "name": "stdout",
     "text": [
      "Plot generated and saved to file:  1000B3-N_v_phi_vs_vr_with_resonance_regions.jpg\n"
     ]
    }
   ],
   "metadata": {}
  },
  {
   "cell_type": "code",
   "execution_count": 40,
   "source": [
    "fig5_1=plt.figure()\n",
    "ax=fig5_1.add_subplot(111)\n",
    "#ax.text(8,300,r\"Snapshot %s, Slice: -5<$\\phi$<5\"%(str(snapshot)))\n",
    "#cb1=ax.hexbin(x_select,y_select,extent=((-35,35,-35,35)),gridsize=500,mincnt=1,C=Ordisk,vmin=1,vmax=40)\n",
    "cb1=ax.hexbin(vr_sn,vphi_sn,extent=((-200,200,50,300)),gridsize=500,mincnt=1,vmin=1,vmax=30)\n",
    "ax.set_xlabel(\"vR\")\n",
    "ax.set_ylabel(r\"v$\\phi$\")\n",
    "#ax.scatter(vr_resonance_cr,vphi_resonance_cr,c=\"black\",marker=\".\",s=0.01,label=\"CR\")\n",
    "#ax.scatter(vr_resonance_olr,vphi_resonance_olr,c=\"red\",marker=\".\",s=0.01,label=\"OLR\")\n",
    "ax.scatter(vr_resonance_cr_sr,vphi_resonance_cr_sr,c=\"yellow\",marker=\"*\",s=0.3,label=\"CR-SN\")\n",
    "ax.scatter(vr_resonance_olr_sr,vphi_resonance_olr_sr,c=\"orange\",marker=\"*\",s=0.3,label=\"OLR-SN\")\n",
    "ax.legend(bbox_to_anchor=(1.13,0.93), loc='center left',markerscale=9)\n",
    "ax.text(70,285,r\"Snapshot \"+str(snapshot)+\" (B3-N)\")\n",
    "ax.text(-180,285,r\"7.5<x<8.5, -0.5<y<0.5, -0.5<z<0.5\")\n",
    "\n",
    "cbar_ax = fig5_1.add_axes([0.91, 0.12, 0.03, 0.76]) # position of the colorbar (left, bottom, width, height)\n",
    "fig5_1.colorbar(cb1, cax=cbar_ax)\n",
    "cbar_ax.set_ylabel(r'n$_{star}$')\n",
    "cbar_ax.yaxis.label.set_size(10)\n",
    "plotname=str(snapshot)+\"B3-N_v_phi_vs_vr_with_resonance_region_in_sn_slice.jpg\"\n",
    "fig5_1.savefig(plotpath+plotname,bbox_inches=\"tight\",dpi=300)\n",
    "print(\"Plot generated and saved to file: \",plotname)\n",
    "plt.close()"
   ],
   "outputs": [
    {
     "output_type": "stream",
     "name": "stdout",
     "text": [
      "Plot generated and saved to file:  1000B3-N_v_phi_vs_vr_with_resonance_region_in_sn_slice.jpg\n"
     ]
    }
   ],
   "metadata": {}
  },
  {
   "cell_type": "markdown",
   "source": [
    "# Selecting a small angular region for analysis"
   ],
   "metadata": {}
  },
  {
   "cell_type": "code",
   "execution_count": 41,
   "source": [
    "keep_phi=(phi_select<5)*(phi_select>-5)\n",
    "vphi_slice=vphi_select[keep_phi]\n",
    "\n",
    "r_slice=r_select[keep_phi]\n",
    "\n",
    "fig6=plt.figure()\n",
    "ax=fig6.add_subplot(212)\n",
    "ax1=fig6.add_subplot(211)\n",
    "#ax.text(8,300,r\"Snapshot %s, Slice: -5<$\\phi$<5\"%(str(snapshot)))\n",
    "#cb1=ax.hexbin(x_select,y_select,extent=((-35,35,-35,35)),gridsize=500,mincnt=1,C=Ordisk,vmin=1,vmax=40)\n",
    "cb1=ax.hexbin(r_slice,vphi_slice,extent=((5,15,50,300)),gridsize=500,mincnt=1,vmin=1,vmax=80)\n",
    "ax.set_xlabel(\"R\")\n",
    "ax.set_ylabel(r\"v$\\phi$\")\n",
    "ax_cr=ax.scatter(r_resonance_cr_phi_slice,vphi_resonance_cr_phi_slice,c=\"black\",marker=\".\",s=0.1,label=\"CR\")\n",
    "print(len(r_resonance_cr))\n",
    "ax_olr=ax.scatter(r_resonance_olr_phi_slice,vphi_resonance_olr_phi_slice,c=\"red\",marker=\".\",s=0.1,label=\"OLR\")\n",
    "ax.scatter(r_resonance_cr_sr,vphi_resonance_cr_sr,c=\"yellow\",marker=\"*\",s=0.1,label=\"CR-SN\")\n",
    "ax.scatter(r_resonance_olr_sr,vphi_resonance_olr_sr,c=\"orange\",marker=\"*\",s=0.1,label=\"OLR-SN\")\n",
    "\n",
    "cbar_ax = fig6.add_axes([0.91, 0.12, 0.03, 0.76]) # position of the colorbar (left, bottom, width, height)\n",
    "fig6.colorbar(cb1, cax=cbar_ax)\n",
    "cbar_ax.set_ylabel(r'n$_{star}$')\n",
    "cbar_ax.yaxis.label.set_size(10)\n",
    "ax.set_xlim(5,15)\n",
    "ax.set_ylim(50,300)\n",
    "#ax.legend(bbox_to_anchor=(0.77,0.93), loc='center left',markerscale=9)\n",
    "ax.legend(bbox_to_anchor=(1.13,1.6), loc='center left',markerscale=9)\n",
    "\n",
    "ax1.hexbin(r_slice,vphi_slice,extent=((5,15,50,300)),gridsize=500,mincnt=1,vmin=1,vmax=80)\n",
    "ax1.set_xlim(5,15)\n",
    "ax1.set_ylim(50,300)\n",
    "ax1.text(12,270,r\"Slice -5<$\\phi$<5\")\n",
    "#ax.legend(markerscale=6)\n",
    "plotname=str(snapshot)+\"B3-N_v_phi_vs_r_with_resonance_regions.jpg\"\n",
    "fig6.suptitle(\"B3-N, Snapshot \"+str(snapshot))\n",
    "fig6.savefig(plotpath+plotname,bbox_inches=\"tight\",dpi=300)\n",
    "print(\"Plot generated and saved to file: \",plotname)\n",
    "plt.close()"
   ],
   "outputs": [
    {
     "output_type": "stream",
     "name": "stdout",
     "text": [
      "521125\n",
      "Plot generated and saved to file:  1000B3-N_v_phi_vs_r_with_resonance_regions.jpg\n"
     ]
    }
   ],
   "metadata": {}
  },
  {
   "cell_type": "code",
   "execution_count": null,
   "source": [
    "print(r_resonance_cr_sr)"
   ],
   "outputs": [],
   "metadata": {}
  },
  {
   "cell_type": "code",
   "execution_count": null,
   "source": [],
   "outputs": [],
   "metadata": {}
  },
  {
   "cell_type": "markdown",
   "source": [
    "# Loading new sims demo !!!!"
   ],
   "metadata": {}
  },
  {
   "cell_type": "code",
   "execution_count": null,
   "source": [
    "from procedure import *"
   ],
   "outputs": [],
   "metadata": {}
  },
  {
   "cell_type": "code",
   "execution_count": null,
   "source": [
    "path"
   ],
   "outputs": [],
   "metadata": {}
  },
  {
   "cell_type": "code",
   "execution_count": null,
   "source": [
    "snaparr = loadwholesnap(path,90)"
   ],
   "outputs": [],
   "metadata": {}
  },
  {
   "cell_type": "code",
   "execution_count": null,
   "source": [
    "print(snaparr[0].dtype)"
   ],
   "outputs": [],
   "metadata": {}
  },
  {
   "cell_type": "code",
   "execution_count": null,
   "source": [
    "snaparr[(snaparr['x']>3)&(snaparr['y']<2)]['z']"
   ],
   "outputs": [],
   "metadata": {}
  },
  {
   "cell_type": "code",
   "execution_count": null,
   "source": [
    "np.where(snaparr['idd']==241071075)[0]"
   ],
   "outputs": [],
   "metadata": {}
  },
  {
   "cell_type": "code",
   "execution_count": null,
   "source": [],
   "outputs": [],
   "metadata": {}
  }
 ],
 "metadata": {
  "orig_nbformat": 4,
  "kernelspec": {
   "name": "python3",
   "display_name": "Python 3",
   "language": "python"
  },
  "interpreter": {
   "hash": "6f49258605f7cf164064b7cdb9c998ca72afab938262f6585b3280eb87db805c"
  },
  "language_info": {
   "name": "python",
   "version": "3.7.3",
   "mimetype": "text/x-python",
   "codemirror_mode": {
    "name": "ipython",
    "version": 3
   },
   "pygments_lexer": "ipython3",
   "nbconvert_exporter": "python",
   "file_extension": ".py"
  }
 },
 "nbformat": 4,
 "nbformat_minor": 2
}