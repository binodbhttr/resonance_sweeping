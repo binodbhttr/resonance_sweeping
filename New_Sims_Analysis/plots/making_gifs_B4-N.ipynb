{
 "metadata": {
  "orig_nbformat": 4,
  "kernelspec": {
   "name": "python3",
   "display_name": "Python 3",
   "language": "python"
  },
  "language_info": {
   "name": "python",
   "version": "3.7.3",
   "mimetype": "text/x-python",
   "codemirror_mode": {
    "name": "ipython",
    "version": 3
   },
   "pygments_lexer": "ipython3",
   "nbconvert_exporter": "python",
   "file_extension": ".py"
  }
 },
 "nbformat": 4,
 "nbformat_minor": 2,
 "cells": [
  {
   "cell_type": "code",
   "execution_count": 1,
   "source": [
    "!hostname\n",
    "!pwd"
   ],
   "outputs": [
    {
     "output_type": "stream",
     "name": "stdout",
     "text": [
      "pcn-4-05\n",
      "/mnt/home/bbhattarai\n"
     ]
    }
   ],
   "metadata": {}
  },
  {
   "cell_type": "markdown",
   "source": [
    "# Making gifs of all snapshots analysis"
   ],
   "metadata": {}
  },
  {
   "cell_type": "code",
   "execution_count": 3,
   "source": [
    "from PIL import Image\n",
    "#import glob  #use it if you want to read all certain file type\n",
    "gif_path=\"/mnt/home/bbhattarai/resonance_sweeping/New_Sims_Analysis/plots/\"    \n",
    "\n",
    "img_path=\"/mnt/home/bbhattarai/resonance_sweeping/New_Sims_Analysis/plots/v_phi_vs_r/\"    \n",
    "imgs=[]\n",
    "for i in range(0,720,5): #starting and ending value+1 of the index that identifies different file names or imgs = glob.glob(\"*.png\") can do done as well\n",
    "    filename=str(i)+\"_v_phi_vs_r_hexbin_rotated.jpg\"\n",
    "    imgs.append(img_path+filename)\n",
    "    print(\"Scanned image from the File: \",filename,end=\"\\r\",flush=True)  \n",
    "\n",
    "frames = []\n",
    "for i in imgs:\n",
    "    new_frame = Image.open(i)\n",
    "    frames.append(new_frame)\n",
    "# Save into a GIF file that loops forever\n",
    "gifname=\"v_phi_vs_r_hexbin_rotated_all_snaps.gif\"\n",
    "frames[0].save(gif_path+gifname, format='GIF',\n",
    "               append_images=frames[1:],\n",
    "               save_all=True,\n",
    "               duration=200, loop=0)    #duration =200 looked good\n",
    "print(\"\\nSaved the GIF into the File: \",gifname)\n",
    "\n"
   ],
   "outputs": [
    {
     "output_type": "stream",
     "name": "stdout",
     "text": [
      "\n",
      "Saved the GIF into the File:  v_phi_vs_r_hexbin_rotated_all_snaps.gif\n"
     ]
    }
   ],
   "metadata": {}
  },
  {
   "cell_type": "code",
   "execution_count": 5,
   "source": [
    "from PIL import Image\n",
    "#import glob  #use it if you want to read all certain file type\n",
    "gif_path=\"/mnt/home/bbhattarai/resonance_sweeping/New_Sims_Analysis/plots/\"  \n",
    "img_path=\"/mnt/home/bbhattarai/resonance_sweeping/New_Sims_Analysis/plots/y_vs_x_rotated/\"  \n",
    "imgs=[]\n",
    "for i in range(0,720,5): #starting and ending value+1 of the index that identifies different file names or imgs = glob.glob(\"*.png\") can do done as well\n",
    "    filename=str(i)+\"x_rot_vs_y_rot_all.jpg\"\n",
    "    imgs.append(img_path+filename)\n",
    "    print(\"Scanned image from the File: \",filename,end=\"\\r\",flush=True)  \n",
    "\n",
    "frames = []\n",
    "for i in imgs:\n",
    "    new_frame = Image.open(i)\n",
    "    frames.append(new_frame)\n",
    "# Save into a GIF file that loops forever\n",
    "gifname=\"x_rot_vs_y_rot_all.gif\"\n",
    "frames[0].save(gif_path+gifname, format='GIF',\n",
    "               append_images=frames[1:],\n",
    "               save_all=True,\n",
    "               duration=200, loop=0)    #duration =200 looked good\n",
    "print(\"\\nSaved the GIF into the File: \",gifname)"
   ],
   "outputs": [
    {
     "output_type": "stream",
     "name": "stdout",
     "text": [
      "\n",
      "Saved the GIF into the File:  x_rot_vs_y_rot_all.gif\n"
     ]
    }
   ],
   "metadata": {}
  },
  {
   "cell_type": "code",
   "execution_count": null,
   "source": [
    "from PIL import Image\n",
    "#import glob  #use it if you want to read all certain file type\n",
    "gif_path=\"/mnt/home/bbhattarai/resonance_sweeping/New_Sims_Analysis/plots/\"  \n",
    "img_path=\"/mnt/home/bbhattarai/resonance_sweeping/New_Sims_Analysis/plots/v_phi_vs_vr/\"  \n",
    "\n",
    "imgs=[]\n",
    "for i in range(0,720,5): #starting and ending value+1 of the index that identifies different file names or imgs = glob.glob(\"*.png\") can do done as well\n",
    "    filename=str(i)+\"_v_phi_vs_vr_hexbin_rotated.jpg\"\n",
    "    imgs.append(img_path+filename)\n",
    "    print(\"Scanned image from the File: \",filename,end=\"\\r\",flush=True)  \n",
    "\n",
    "frames = []\n",
    "for i in imgs:\n",
    "    new_frame = Image.open(i)\n",
    "    frames.append(new_frame)\n",
    "# Save into a GIF file that loops forever\n",
    "gifname=\"v_phi_vs_vr_hexbin_rotated.gif\"\n",
    "frames[0].save(gif_path+gifname, format='GIF',\n",
    "               append_images=frames[1:],\n",
    "               save_all=True,\n",
    "               duration=200, loop=0)    #duration =200 looked good\n",
    "print(\"\\nSaved the GIF into the File: \",gifname)"
   ],
   "outputs": [],
   "metadata": {}
  }
 ]
}