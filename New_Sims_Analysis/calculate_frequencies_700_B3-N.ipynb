{
 "cells": [
  {
   "cell_type": "code",
   "execution_count": 1,
   "source": [
    "#!cp ../rmcclure/procedure.py ."
   ],
   "outputs": [],
   "metadata": {}
  },
  {
   "cell_type": "code",
   "execution_count": 2,
   "source": [
    "import numpy as np \n",
    "import pickle\n",
    "from superfreq import SuperFreq\n",
    "from matplotlib import pyplot as plt\n",
    "from galpy.util import bovy_coords as coords\n",
    "import gala.dynamics as gd\n",
    "import astropy.units as u\n",
    "import gala.coordinates as gc\n",
    "import os\n",
    "import sys\n",
    "from procedure import *\n",
    "import pandas as pd"
   ],
   "outputs": [
    {
     "output_type": "stream",
     "name": "stdout",
     "text": [
      "/mnt/home/bbhattarai/.local/lib/python3.7/site-packages/galpy/util/bovy_coords.py:6: FutureWarning: galpy.util.bovy_coords is being deprecated in favor of galpy.util.coords; all functions in there are the same; please switch to the new import, because the old import will be removed in v1.9\n",
      "  warnings.warn('galpy.util.bovy_coords is being deprecated in favor of galpy.util.coords; all functions in there are the same; please switch to the new import, because the old import will be removed in v1.9',FutureWarning)\n",
      "\n",
      "start at: 2021-08-04 06:56:17.569536\n",
      "end at: 2021-08-04 06:56:17.570514\n"
     ]
    }
   ],
   "metadata": {}
  },
  {
   "cell_type": "code",
   "execution_count": 3,
   "source": [
    "!pwd"
   ],
   "outputs": [
    {
     "output_type": "stream",
     "name": "stdout",
     "text": [
      "/mnt/home/bbhattarai\n"
     ]
    }
   ],
   "metadata": {}
  },
  {
   "cell_type": "code",
   "execution_count": 4,
   "source": [
    "times=np.genfromtxt(path+'times.txt',dtype='str')\n",
    "print(\"Total snapshots present is\",len(times))\n",
    "snapshot_start=0\n",
    "snapshot_end=len(times)"
   ],
   "outputs": [
    {
     "output_type": "stream",
     "name": "stdout",
     "text": [
      "Total snapshots present is 1049\n"
     ]
    }
   ],
   "metadata": {}
  },
  {
   "cell_type": "code",
   "execution_count": 5,
   "source": [
    "!hostname"
   ],
   "outputs": [
    {
     "output_type": "stream",
     "name": "stdout",
     "text": [
      "pcn-9-38\n"
     ]
    }
   ],
   "metadata": {}
  },
  {
   "cell_type": "code",
   "execution_count": 6,
   "source": [
    "plotpath=\"/mnt/home/bbhattarai/resonance_sweeping/New_Sims_Analysis/plots/\""
   ],
   "outputs": [],
   "metadata": {}
  },
  {
   "cell_type": "code",
   "execution_count": 7,
   "source": [
    "snapshot=1000\n",
    "snaparr = loadwholesnap(path,snapshot)\n",
    "print(\"These are the data we have\",snaparr[0].dtype)\n",
    "idd=snaparr['idd']\n",
    "x=snaparr['x']\n",
    "y=snaparr['y']\n",
    "z=snaparr['z']\n",
    "vx=snaparr['vx']\n",
    "vy=snaparr['vy']\n",
    "vz=snaparr['vz']  \n",
    "mass=snaparr['mass']  #mass is in solar mass (change old mass calculations to take account of the factor 2.324876e9)\n",
    "\n",
    "vr=snaparr['vr']\n",
    "vphi=snaparr['vphi']\n",
    "vzz=snaparr['vzz']\n",
    "r=snaparr['r']\n",
    "phi=snaparr['phi'] #phi is in radians\n",
    "zz=snaparr['zz']\n",
    "\n",
    "#converting phi to degrees\n",
    "phi_degrees=np.rad2deg(phi)"
   ],
   "outputs": [
    {
     "output_type": "stream",
     "name": "stdout",
     "text": [
      "These are the data we have [('t', '<f8'), ('x', '<f4'), ('y', '<f4'), ('z', '<f4'), ('vx', '<f4'), ('vy', '<f4'), ('vz', '<f4'), ('vr', '<f4'), ('vphi', '<f4'), ('vzz', '<f4'), ('r', '<f4'), ('phi', '<f4'), ('zz', '<f4'), ('mass', '<f4'), ('idd', '<u8')]\n"
     ]
    }
   ],
   "metadata": {}
  },
  {
   "cell_type": "code",
   "execution_count": null,
   "source": [],
   "outputs": [],
   "metadata": {}
  },
  {
   "cell_type": "markdown",
   "source": [
    "# Selecting the solar neighborhood"
   ],
   "metadata": {}
  },
  {
   "cell_type": "code",
   "execution_count": 8,
   "source": [
    "keep_sn=(x<8.2)*(x>7.8)*(y<0.5)*(y>-0.5)*(z<0.5)*(z>-0.5)\n"
   ],
   "outputs": [],
   "metadata": {}
  },
  {
   "cell_type": "code",
   "execution_count": 9,
   "source": [
    "np.sum(keep_sn)"
   ],
   "outputs": [
    {
     "output_type": "execute_result",
     "data": {
      "text/plain": [
       "69260"
      ]
     },
     "metadata": {},
     "execution_count": 9
    }
   ],
   "metadata": {}
  },
  {
   "cell_type": "code",
   "execution_count": 14,
   "source": [
    "freq_path=\"/mnt/home/bbhattarai/resonance_sweeping/New_Sims_Analysis/freq_data/\"\n",
    "\n",
    "column=[\"t\", \"omega_r\",\"omega_phi\",\"omega_z\"]\n",
    "\n",
    "idd_keep=idd[keep_sn]\n",
    "ndim=6\n",
    "keep_small=idd_keep[1000:1001]\n",
    "\n",
    "for i in range(len(keep_small)):\n",
    "    \n",
    "    test_particle=keep_small[i]\n",
    "    df = pd.DataFrame(columns=column)\n",
    "    for j in range(0,1000,100):\n",
    "        #print(\"looking orbits of particle:\",i)\n",
    "        \n",
    "        test = loadonesource(path,test_particle,start=j,finish=j+100) # do it for 200 Myr\n",
    "        \n",
    "        #calculate frequencies every 200 Myrs (0-200, 200-400, 400-600, 600-800 in time (Myrs)) (0-40. 40-80..... in snapshots)\n",
    "        x_test=test['x'].astype(np.float64)\n",
    "        y_test=test['y'].astype(np.float64)\n",
    "        z_test=test['z'].astype(np.float64)\n",
    "        vx_test=test['vx'].astype(np.float64)\n",
    "        vy_test=test['vy'].astype(np.float64)\n",
    "        vz_test=test['vz'].astype(np.float64)\n",
    "        mass_test=test['mass'].astype(np.float64)\n",
    "        r_test=test['r'].astype(np.float64)\n",
    "        t=test['t'].astype(np.float64)\n",
    "\n",
    "        w1 = gd.Orbit(\n",
    "            pos=[x_test,y_test,z_test] * u.kpc,\n",
    "            vel=[vx_test,vy_test,vz_test] * u.km/u.s,\n",
    "            t=t*u.Gyr\n",
    "        )\n",
    "\n",
    "        w=w1.w([u.kpc,u.Gyr,u.Msun])\n",
    "        ntimes= w1.shape\n",
    "        pp = gc.cartesian_to_poincare_polar(w1.w([u.kpc,u.Gyr,u.Msun]).T).T # use it if we have loop orbits i.e if Lz doesn't change sign\n",
    "        sf = SuperFreq(t)\n",
    "        fs = [(pp[i] * 1j*pp[i+ndim//2]) for i in range(ndim//2)]\n",
    "\n",
    "        result = sf.find_fundamental_frequencies(fs)\n",
    "        freqs = result.fund_freqs\n",
    "        row=[float(times[j+40][11:-2])/1000*9.778145,freqs[0],freqs[1],freqs[2]]\n",
    "        row_data = pd.Series(row, index = df.columns)\n",
    "        df = df.append(row_data, ignore_index=True)\n",
    "        #print(\"Done: \",freqs)\n",
    "    file_name=\"particle_\"+str(i)+\"_freqs_larger_range.csv\"\n",
    "    df.to_csv(freq_path+file_name, encoding='utf-8', index=False)\n",
    "    del df\n"
   ],
   "outputs": [],
   "metadata": {}
  },
  {
   "cell_type": "markdown",
   "source": [
    "# Plotting frequencies"
   ],
   "metadata": {}
  },
  {
   "cell_type": "code",
   "execution_count": 15,
   "source": [
    "filenames=[\"particle_\"+str(f)+\"_freqs_larger_range.csv\" for f in range(0,15)]\n",
    "df_r=pd.read_csv(freq_path+filenames[0])\n"
   ],
   "outputs": [],
   "metadata": {}
  },
  {
   "cell_type": "code",
   "execution_count": 16,
   "source": [
    "df_r.head()"
   ],
   "outputs": [
    {
     "output_type": "execute_result",
     "data": {
      "text/plain": [
       "          t    omega_r  omega_phi     omega_z\n",
       "0  0.200006  46.378085  66.560920  161.549893\n",
       "1  0.700011  78.446096  99.253085  207.376216\n",
       "2  1.200015 -33.543813 -57.763203 -133.979546\n",
       "3  1.700006  16.594181  66.958085 -144.000779\n",
       "4  2.199997 -27.220802  56.235687 -115.617232"
      ],
      "text/html": [
       "<div>\n",
       "<style scoped>\n",
       "    .dataframe tbody tr th:only-of-type {\n",
       "        vertical-align: middle;\n",
       "    }\n",
       "\n",
       "    .dataframe tbody tr th {\n",
       "        vertical-align: top;\n",
       "    }\n",
       "\n",
       "    .dataframe thead th {\n",
       "        text-align: right;\n",
       "    }\n",
       "</style>\n",
       "<table border=\"1\" class=\"dataframe\">\n",
       "  <thead>\n",
       "    <tr style=\"text-align: right;\">\n",
       "      <th></th>\n",
       "      <th>t</th>\n",
       "      <th>omega_r</th>\n",
       "      <th>omega_phi</th>\n",
       "      <th>omega_z</th>\n",
       "    </tr>\n",
       "  </thead>\n",
       "  <tbody>\n",
       "    <tr>\n",
       "      <th>0</th>\n",
       "      <td>0.200006</td>\n",
       "      <td>46.378085</td>\n",
       "      <td>66.560920</td>\n",
       "      <td>161.549893</td>\n",
       "    </tr>\n",
       "    <tr>\n",
       "      <th>1</th>\n",
       "      <td>0.700011</td>\n",
       "      <td>78.446096</td>\n",
       "      <td>99.253085</td>\n",
       "      <td>207.376216</td>\n",
       "    </tr>\n",
       "    <tr>\n",
       "      <th>2</th>\n",
       "      <td>1.200015</td>\n",
       "      <td>-33.543813</td>\n",
       "      <td>-57.763203</td>\n",
       "      <td>-133.979546</td>\n",
       "    </tr>\n",
       "    <tr>\n",
       "      <th>3</th>\n",
       "      <td>1.700006</td>\n",
       "      <td>16.594181</td>\n",
       "      <td>66.958085</td>\n",
       "      <td>-144.000779</td>\n",
       "    </tr>\n",
       "    <tr>\n",
       "      <th>4</th>\n",
       "      <td>2.199997</td>\n",
       "      <td>-27.220802</td>\n",
       "      <td>56.235687</td>\n",
       "      <td>-115.617232</td>\n",
       "    </tr>\n",
       "  </tbody>\n",
       "</table>\n",
       "</div>"
      ]
     },
     "metadata": {},
     "execution_count": 16
    }
   ],
   "metadata": {}
  },
  {
   "cell_type": "code",
   "execution_count": 18,
   "source": [
    "for i in range(1):\n",
    "    df_r=pd.read_csv(freq_path+filenames[i])\n",
    "    fig1=plt.figure(figsize=(8,3))\n",
    "    ax=fig1.add_subplot(111)\n",
    "    #ax.plot(df_r.t,df_r.omega_r,c='red',label=\"$\\omega$$_R$\")\n",
    "    #ax.plot(df_r.t,df_r.omega_phi,c='purple',label=\"$\\omega$$_$\\phi$$\")\n",
    "    #ax.plot(df_r.t,df_r.omega_z,c=\"black\",label=\"v$\\omega$R\")\n",
    "    #ax.text(4,200,\"Particle: \"+str(i))\n",
    "    ax.set_title(\"Particle: \"+str(i))\n",
    "    ax.plot(df_r.t,df_r.omega_r,c='red',label=\"$\\Omega$$_R$\")\n",
    "    ax.plot(df_r.t,df_r.omega_phi,c='purple',label=\"$\\Omega$$_\\phi$\")\n",
    "    ax.plot(df_r.t,df_r.omega_z,c=\"black\",label=\"$\\Omega$$_z$\")\n",
    "    ax.legend(bbox_to_anchor=(1.00,0.82), loc='center left',markerscale=9)\n",
    "    ax.set_xlabel(\"Time (Gyr)\")\n",
    "    ax.set_ylabel(r\"Frequency\")\n",
    "    plotname=\"particle_\"+str(i)+\"_freqs_over_time_larger_range.jpg\"\n",
    "    fig1.savefig(plotpath+plotname,bbox_inches=\"tight\",dpi=300)\n",
    "    print(\"Plot generated and saved to file: \",plotname)\n",
    "    #plt.show()"
   ],
   "outputs": [
    {
     "output_type": "stream",
     "name": "stdout",
     "text": [
      "Plot generated and saved to file:  particle_0_freqs_over_time_larger_range.jpg\n"
     ]
    },
    {
     "output_type": "display_data",
     "data": {
      "text/plain": [
       "<Figure size 576x216 with 1 Axes>"
      ],
      "image/png": "[encoded data removed]"
     },
     "metadata": {
      "needs_background": "light"
     }
    }
   ],
   "metadata": {}
  },
  {
   "cell_type": "code",
   "execution_count": null,
   "source": [],
   "outputs": [],
   "metadata": {}
  }
 ],
 "metadata": {
  "orig_nbformat": 4,
  "kernelspec": {
   "name": "python3",
   "display_name": "Python 3",
   "language": "python"
  },
  "language_info": {
   "name": "python",
   "version": "3.7.3",
   "mimetype": "text/x-python",
   "codemirror_mode": {
    "name": "ipython",
    "version": 3
   },
   "pygments_lexer": "ipython3",
   "nbconvert_exporter": "python",
   "file_extension": ".py"
  }
 },
 "nbformat": 4,
 "nbformat_minor": 2
}