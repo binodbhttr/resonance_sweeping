{
 "cells": [
  {
   "cell_type": "code",
   "execution_count": 1,
   "source": [
    "import numpy as np \n",
    "import pickle\n",
    "from matplotlib import pyplot as plt\n",
    "from galpy.util import bovy_coords as coords\n",
    "import os\n",
    "import sys\n",
    "!hostname"
   ],
   "outputs": [
    {
     "output_type": "stream",
     "name": "stdout",
     "text": [
      "/mnt/home/bbhattarai/.local/lib/python3.7/site-packages/galpy/util/bovy_coords.py:6: FutureWarning: galpy.util.bovy_coords is being deprecated in favor of galpy.util.coords; all functions in there are the same; please switch to the new import, because the old import will be removed in v1.9\n",
      "  warnings.warn('galpy.util.bovy_coords is being deprecated in favor of galpy.util.coords; all functions in there are the same; please switch to the new import, because the old import will be removed in v1.9',FutureWarning)\n",
      "\n",
      "pcn-9-05\n"
     ]
    }
   ],
   "metadata": {}
  },
  {
   "cell_type": "code",
   "execution_count": 2,
   "source": [
    "datapath=\"/mnt/home/bbhattarai/resonance_sweeping/New_Sims_Analysis/\"\n",
    "\n",
    "\n"
   ],
   "outputs": [],
   "metadata": {}
  },
  {
   "cell_type": "code",
   "execution_count": 4,
   "source": [
    "angles=list()\n",
    "for i in range(1,8+1,1):\n",
    "    start  = int(i*131)-131\n",
    "    finish = int(i*131)\n",
    "    datafilename=str(start)+\"_to_\"+str(finish)+\"_fft_barangles_sim_B3-N.ang\"\n",
    "    ang_stored = open(datapath+datafilename,'rb')\n",
    "    all_bangles=pickle.load(ang_stored)\n",
    "    angles.extend(all_bangles)\n",
    "    print(\"Reading form the file...\",datafilename)\n",
    "    #print((all_bangles))\n",
    "\n",
    "#print(angles)\n",
    "angles=np.array(angles)\n",
    "\n",
    "print(angles)\n",
    "\n",
    "print(len(angles))\n",
    "\n",
    "\n",
    "datafilename=\"0_to_1048_B3-N_fft_barangles_combined_degrees.ang\"\n",
    "\n",
    "#with open(datapath+datafilename, 'wb') as output:\n",
    "#    pickle.dump(angles, output)"
   ],
   "outputs": [
    {
     "output_type": "stream",
     "name": "stdout",
     "text": [
      "Reading form the file... 0_to_131_fft_barangles_sim_B3-N.ang\n",
      "Reading form the file... 131_to_262_fft_barangles_sim_B3-N.ang\n",
      "Reading form the file... 262_to_393_fft_barangles_sim_B3-N.ang\n",
      "Reading form the file... 393_to_524_fft_barangles_sim_B3-N.ang\n",
      "Reading form the file... 524_to_655_fft_barangles_sim_B3-N.ang\n",
      "Reading form the file... 655_to_786_fft_barangles_sim_B3-N.ang\n",
      "Reading form the file... 786_to_917_fft_barangles_sim_B3-N.ang\n",
      "Reading form the file... 917_to_1048_fft_barangles_sim_B3-N.ang\n",
      "[-20.23611481  20.67285062   1.58616052 ...  32.3058355   40.34403405\n",
      "  48.34510631]\n",
      "1048\n"
     ]
    }
   ],
   "metadata": {}
  }
 ],
 "metadata": {
  "orig_nbformat": 4,
  "kernelspec": {
   "name": "python3",
   "display_name": "Python 3",
   "language": "python"
  },
  "language_info": {
   "name": "python",
   "version": "3.7.3",
   "mimetype": "text/x-python",
   "codemirror_mode": {
    "name": "ipython",
    "version": 3
   },
   "pygments_lexer": "ipython3",
   "nbconvert_exporter": "python",
   "file_extension": ".py"
  }
 },
 "nbformat": 4,
 "nbformat_minor": 2
}