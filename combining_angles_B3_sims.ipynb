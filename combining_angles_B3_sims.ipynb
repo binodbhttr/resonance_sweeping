{
 "cells": [
  {
   "cell_type": "code",
   "execution_count": 1,
   "source": [
    "import numpy as np \n",
    "import pickle\n",
    "from matplotlib import pyplot as plt\n",
    "from galpy.util import bovy_coords as coords\n",
    "import os\n",
    "import sys\n",
    "!hostname"
   ],
   "outputs": [
    {
     "output_type": "stream",
     "name": "stdout",
     "text": [
      "/mnt/home/bbhattarai/.local/lib/python3.7/site-packages/galpy/util/bovy_coords.py:6: FutureWarning: galpy.util.bovy_coords is being deprecated in favor of galpy.util.coords; all functions in there are the same; please switch to the new import, because the old import will be removed in v1.9\n",
      "  warnings.warn('galpy.util.bovy_coords is being deprecated in favor of galpy.util.coords; all functions in there are the same; please switch to the new import, because the old import will be removed in v1.9',FutureWarning)\n",
      "\n",
      "pcn-1-38\n"
     ]
    }
   ],
   "metadata": {}
  },
  {
   "cell_type": "code",
   "execution_count": 2,
   "source": [
    "datapath=\"/mnt/home/bbhattarai/resonance_sweeping/\"\n",
    "\n",
    "\n"
   ],
   "outputs": [],
   "metadata": {}
  },
  {
   "cell_type": "code",
   "execution_count": 3,
   "source": [
    "angles=list()\n",
    "for i in range(1,8+1,1):\n",
    "    start  = int(i*42)-42\n",
    "    finish = int(i*42)\n",
    "    datafilename=str(start)+\"_to_\"+str(finish)+\"_fft_barangles_sim_B3.ang\"\n",
    "    ang_stored = open(datapath+datafilename,'rb')\n",
    "    all_bangles=pickle.load(ang_stored)\n",
    "    angles.extend(all_bangles)\n",
    "    print(\"Reading form the file...\",datafilename)\n",
    "    #print((all_bangles))\n",
    "\n",
    "#print(angles)\n",
    "angles=np.array(angles)\n",
    "\n",
    "print(angles)\n",
    "\n",
    "print(len(angles))\n",
    "\n",
    "\n",
    "datafilename=\"0_to_336_B3_fft_barangles_combined.ang\"\n",
    "\n",
    "#with open(datapath+datafilename, 'wb') as output:\n",
    "#    pickle.dump(angles, output)"
   ],
   "outputs": [
    {
     "output_type": "stream",
     "name": "stdout",
     "text": [
      "Reading form the file... 0_to_42_fft_barangles_sim_B3.ang\n",
      "Reading form the file... 42_to_84_fft_barangles_sim_B3.ang\n",
      "Reading form the file... 84_to_126_fft_barangles_sim_B3.ang\n",
      "Reading form the file... 126_to_168_fft_barangles_sim_B3.ang\n",
      "Reading form the file... 168_to_210_fft_barangles_sim_B3.ang\n",
      "Reading form the file... 210_to_252_fft_barangles_sim_B3.ang\n",
      "Reading form the file... 252_to_294_fft_barangles_sim_B3.ang\n",
      "Reading form the file... 294_to_336_fft_barangles_sim_B3.ang\n",
      "[-53.46078642  66.0167189  -39.38619139 -28.55665052  24.80376568\n",
      "  33.98864023 -58.21242611   5.06828755   8.49451696  21.55153057\n",
      "  70.6844322   63.17907    -21.46203466  -5.92279994  -1.17102884\n",
      "  48.43689184  56.20439186  54.3029865   55.73503823  54.85909857\n",
      "  48.35388832  36.76590418  25.03162224  15.8154956   -6.94521055\n",
      " -37.6991847  -62.25053527 -87.47341714  61.68738362  27.51284298\n",
      "  -4.97872405 -35.65963236 -70.87622297  68.24084394  26.82731591\n",
      "  -9.78026833 -48.61981413  88.56069622  44.75467381   0.80829431\n",
      " -41.77781484 -87.17321978  43.95379756  -4.74553031 -50.83031769\n",
      "  82.14127031  29.94374233 -23.96763246 -75.0313691   56.27463067\n",
      "   5.00305736 -50.14501859  75.17154236  22.70325459 -32.60180026\n",
      " -88.06749209  33.84438932 -23.99660409 -79.46353089  43.29363374\n",
      " -16.87841553 -76.9516464   42.92984002 -16.43735384 -76.48343671\n",
      "  40.71057216 -22.74091336 -86.2360796   31.24750008 -31.42837068\n",
      "  84.32392206  18.80066827 -46.53945006  68.48896487   2.81913508\n",
      " -63.4649517   49.1979871  -17.85494813 -85.15405115  26.70397555\n",
      " -42.78368829  68.29933694  -2.12697733 -73.58605345  35.49834891\n",
      " -35.13607664  72.06130304  88.86019487 -74.35727812 -57.28741031\n",
      " -39.95548298 -22.68502102  -5.22218073  12.13346995  29.21524078\n",
      "  46.26672249  63.3172557   80.47949247 -82.42825427 -65.34366208\n",
      " -48.38056015 -31.48419656 -14.49594911   2.5198263   19.43182815\n",
      "  36.25034454  52.99140358  69.77251547  86.51245716 -76.73034908\n",
      " -60.07689867 -43.46481374 -26.79010699 -10.00219548   6.7958345\n",
      "  23.5573135   40.29153746  57.05638302  73.86669967 -89.35121812\n",
      " -72.58192933 -55.89341399 -39.22766519 -22.48905845  -5.74374361\n",
      "  10.96773302  27.6476467   44.31945194  61.01871403  77.78231046\n",
      " -85.51521719 -68.84555098 -52.24309051 -35.56925746 -18.93338769\n",
      "  -2.33715767  14.21945643  30.70038195  47.1655958   63.7016124\n",
      "  80.24429533 -83.33621348 -66.89893984 -50.4627717  -33.91523595\n",
      " -17.45298244  -0.99921805  15.32382428  31.69195196  48.04316136\n",
      "  64.4542598   80.79308506 -82.90431749 -66.65361857 -50.25993351\n",
      " -33.88400562 -17.52805333  -1.28684592  15.02230946  31.33868781\n",
      "  47.71588345  64.06237348  80.26245997 -83.49574573 -67.20227176\n",
      " -50.8777014  -34.62558278 -18.38649219  -2.27324818  13.96493187\n",
      "  30.15045696  46.40342226  62.55290692  78.65657657 -85.1930886\n",
      " -68.98229523 -52.86066049 -36.76304024 -20.76350912  -4.74548437\n",
      "  11.33629272  27.46350834  43.46128727  59.39657091  75.38272948\n",
      " -88.57935182 -72.54289873 -56.63885362 -40.77597604 -24.83441292\n",
      "  -8.92472936   6.99513672  22.87263996  38.68129928  54.54030722\n",
      "  70.39720029  86.28371129 -77.8787698  -62.14205738 -46.36468867\n",
      " -30.49327542 -14.63621905   1.20651628  16.95727085  32.71269757\n",
      "  48.50342637  64.30681895  80.03977327 -84.31562861 -68.68427856\n",
      " -53.03673353 -37.31906578 -21.70321112  -6.14733523   9.41720488\n",
      "  24.96075822  40.58871382  56.139908    71.61178793  87.05211165\n",
      " -77.44233481 -61.97107461 -46.50460414 -31.15485277 -15.79899331\n",
      "  -0.37849246  15.06725891  30.43551671  45.73687389  61.03541678\n",
      "  76.33945417 -88.27229965 -72.95044518 -57.69181319 -42.4332041\n",
      " -27.1359586  -11.77993448   3.55787826  18.83806137  34.05744905\n",
      "  49.33719774  64.65676487  79.9331382  -84.89508612 -69.77147012\n",
      " -54.58080735 -39.35534839 -24.16552366  -9.06249801   6.01834456\n",
      "  21.13718366  36.33633416  51.5235285   66.5349166   81.61633354\n",
      " -83.30175347 -68.15839289 -53.10938423 -38.10972216 -23.15373495\n",
      "  -8.11034309   6.93566354  21.94804546  36.88951615  51.80573137\n",
      "  66.74209593  81.73334858 -83.33764079 -68.50646963 -53.67563246\n",
      " -38.77089913 -23.85159169  -8.99956176   5.77782843  20.55743568\n",
      "  35.39845818  50.23456499  64.98801326  79.71220272 -85.54422505\n",
      " -70.78632549 -55.97541706 -41.23110698 -26.58857479 -11.93292475\n",
      "   2.82086727  17.5755421   32.21828068  46.81907614  61.40291289\n",
      "  75.96088045 -89.42666158 -74.88170324 -60.36613728 -45.86313823\n",
      " -31.27228572 -16.6671733   -2.21204737  12.21571043  26.73288773\n",
      "  41.25649768  55.80265462  70.27472486  84.68077548 -80.86444864\n",
      " -66.30853848 -51.88312557 -37.47089146 -23.13777786  -8.77276379\n",
      "   5.652096    20.07231425  34.39162328  48.71349089  63.03150093\n",
      "  77.42606754 -88.2367668  -73.97893823 -59.74238474 -45.4666758\n",
      " -31.13951442 -16.88888973  -2.73072193  11.42968135  25.62238189\n",
      "  39.90647075  54.11105536  68.18596267  82.29597344 -83.44451299\n",
      " -69.24250506 -55.13266991 -41.06951519 -26.96602085 -12.80959119\n",
      "   1.36221518]\n",
      "336\n"
     ]
    }
   ],
   "metadata": {}
  },
  {
   "cell_type": "code",
   "execution_count": 5,
   "source": [
    "datapath=\"/mnt/home/bbhattarai/B3/\"\n",
    "save_datapath=\"/mnt/home/bbhattarai/resonance_sweeping/\"\n",
    "plotpath=\"/mnt/home/bbhattarai/resonance_sweeping/plots/\"\n",
    "\n",
    "i=336\n",
    "\n",
    "snapshot=i\n",
    "pfile = open(datapath+'step'+str(snapshot)+'.p', 'rb')\n",
    "idd,x,y,z,vx,vy,vz,mass=pickle.load(pfile)\n",
    "#Converting to cylindrical\n",
    "vr,vphi,vzz=coords.rect_to_cyl_vec(vx,vy,vz,x,y,z)\n",
    "r,phi,zz=coords.rect_to_cyl(x,y,z)\n",
    "#converting phi to degrees\n",
    "#phi=np.rad2deg(phi)"
   ],
   "outputs": [],
   "metadata": {}
  },
  {
   "cell_type": "code",
   "execution_count": null,
   "source": [
    "plt.hexbin(x,y,bins='log')"
   ],
   "outputs": [],
   "metadata": {}
  },
  {
   "cell_type": "code",
   "execution_count": 6,
   "source": [
    "#calculating bar_angle\n",
    "discindx=(mass<1e-7)\n",
    "barsample=(r>1)*(r<3)*discindx\n",
    "#counts, bins, patches=plt.hist(phi[barsample],bins=360,histtype='step')\n",
    "#bin_centres=bins[:-1]+(bins[1]-bins[0])/2\n",
    "#max_indx=np.argmax(counts)\n",
    "#barangle_degrees=bin_centres[max_indx]\n",
    "#a.append(barangle_degrees)\n",
    "counts, bins, patches=plt.hist(phi[barsample],bins=360,range=[-np.pi,np.pi])\n",
    "ff=np.fft.fft(counts-np.mean(counts))\n",
    "barangle=-np.angle(ff[2])/2.\n",
    "barangle_degrees=np.rad2deg(barangle)\n",
    "\n",
    "print(barangle_degrees)   "
   ],
   "outputs": [
    {
     "output_type": "stream",
     "name": "stdout",
     "text": [
      "15.405832894915301\n"
     ]
    },
    {
     "output_type": "display_data",
     "data": {
      "text/plain": [
       "<Figure size 432x288 with 1 Axes>"
      ],
      "image/png": "[encoded data removed]"
     },
     "metadata": {
      "needs_background": "light"
     }
    }
   ],
   "metadata": {}
  },
  {
   "cell_type": "code",
   "execution_count": 7,
   "source": [
    "print(type(angles))\n",
    "print(type(barangle_degrees))\n",
    "bd=np.array([barangle_degrees])\n",
    "\n",
    "print(bd)"
   ],
   "outputs": [
    {
     "output_type": "stream",
     "name": "stdout",
     "text": [
      "<class 'numpy.ndarray'>\n",
      "<class 'numpy.float64'>\n",
      "[15.40583289]\n"
     ]
    }
   ],
   "metadata": {}
  },
  {
   "cell_type": "code",
   "execution_count": 8,
   "source": [
    "c=np.concatenate((angles,bd))\n",
    "print(len(c))"
   ],
   "outputs": [
    {
     "output_type": "stream",
     "name": "stdout",
     "text": [
      "337\n"
     ]
    }
   ],
   "metadata": {}
  },
  {
   "cell_type": "code",
   "execution_count": 9,
   "source": [
    "savedatapath=\"/mnt/home/bbhattarai/resonance_sweeping/\"\n",
    "\n",
    "datafilename=\"0_to_336_B3_fft_barangles_combined.ang\"\n",
    "\n",
    "#with open(savedatapath+datafilename, 'wb') as output:\n",
    "#    pickle.dump(c, output)"
   ],
   "outputs": [],
   "metadata": {}
  }
 ],
 "metadata": {
  "orig_nbformat": 4,
  "kernelspec": {
   "name": "python3",
   "display_name": "Python 3",
   "language": "python"
  },
  "language_info": {
   "name": "python",
   "version": "3.7.3",
   "mimetype": "text/x-python",
   "codemirror_mode": {
    "name": "ipython",
    "version": 3
   },
   "pygments_lexer": "ipython3",
   "nbconvert_exporter": "python",
   "file_extension": ".py"
  }
 },
 "nbformat": 4,
 "nbformat_minor": 2
}