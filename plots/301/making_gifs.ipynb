{
 "metadata": {
  "orig_nbformat": 4,
  "kernelspec": {
   "name": "python3",
   "display_name": "Python 3",
   "language": "python"
  },
  "language_info": {
   "name": "python",
   "version": "3.7.3",
   "mimetype": "text/x-python",
   "codemirror_mode": {
    "name": "ipython",
    "version": 3
   },
   "pygments_lexer": "ipython3",
   "nbconvert_exporter": "python",
   "file_extension": ".py"
  }
 },
 "nbformat": 4,
 "nbformat_minor": 2,
 "cells": [
  {
   "cell_type": "code",
   "execution_count": 1,
   "source": [
    "from PIL import Image\n",
    "#import glob  #use it if you want to read all certain file type"
   ],
   "outputs": [],
   "metadata": {}
  },
  {
   "cell_type": "code",
   "execution_count": 3,
   "source": [
    "from PIL import Image\n",
    "#import glob  #use it if you want to read all certain file type\n",
    "gif_path=\"./plots/301/\"    \n",
    "imgs=[]\n",
    "for i in range(0,25): #starting and ending value+1 of the index that identifies different file names or imgs = glob.glob(\"*.png\") can do done as well\n",
    "    filename=\"v_phi_vs_v_r_selected_region_\"+str(i)+\"_to_\"+str(i+1)+\".jpg\"\n",
    "    imgs.append(gif_path+filename)\n",
    "    print(\"Scanned image from the File: \",filename,end=\"\\r\",flush=True)  \n",
    "\n",
    "frames = []\n",
    "for i in imgs:\n",
    "    new_frame = Image.open(i)\n",
    "    frames.append(new_frame)\n",
    "# Save into a GIF file that loops forever\n",
    "gifname=\"v_phi_vs_v_r.gif\"\n",
    "frames[0].save(gif_path+gifname, format='GIF',\n",
    "               append_images=frames[1:],\n",
    "               save_all=True,\n",
    "               duration=300, loop=0)    #duration =200 looked good\n",
    "print(\"\\nSaved the GIF into the File: \",gifname)"
   ],
   "outputs": [
    {
     "output_type": "stream",
     "name": "stdout",
     "text": [
      "\n",
      "Saved the GIF into the File:  v_phi_vs_v_r.gif\n"
     ]
    }
   ],
   "metadata": {}
  },
  {
   "cell_type": "code",
   "execution_count": null,
   "source": [],
   "outputs": [],
   "metadata": {}
  },
  {
   "cell_type": "markdown",
   "source": [
    "# Making gif of v_phi_vs_r"
   ],
   "metadata": {}
  },
  {
   "cell_type": "code",
   "execution_count": 4,
   "source": [
    "gif_path=\"./resonance_sweeping/plots/301/\"    \n",
    "snapshot=301\n",
    "imgs=[]\n",
    "for i in range(-180,180,5): #starting and ending value+1 of the index that identifies different file names or imgs = glob.glob(\"*.png\") can do done as well\n",
    "    filename=str(snapshot)+\"_v_phi_vs_r_hexbin_\"+str(i)+\"_to_\"+str(i+5)+\".jpg\"\n",
    "    imgs.append(gif_path+filename)\n",
    "    print(\"Scanned image from the File: \",filename,end=\"\\r\",flush=True)  \n",
    "\n",
    "frames = []\n",
    "for i in imgs:\n",
    "    new_frame = Image.open(i)\n",
    "    frames.append(new_frame)\n",
    "# Save into a GIF file that loops forever\n",
    "gifname=\"v_phi_vs_r_at_all_angles.gif\"\n",
    "frames[0].save(gif_path+gifname, format='GIF',\n",
    "               append_images=frames[1:],\n",
    "               save_all=True,\n",
    "               duration=300, loop=0)    #duration =200 looked good\n",
    "print(\"\\nSaved the GIF into the File: \",gifname)"
   ],
   "outputs": [
    {
     "output_type": "stream",
     "name": "stdout",
     "text": []
    },
    {
     "output_type": "error",
     "ename": "FileNotFoundError",
     "evalue": "[Errno 2] No such file or directory: './resonance_sweeping/plots/301/301_v_phi_vs_r_hexbin_-180_to_-175.jpg'",
     "traceback": [
      "\u001b[0;31m---------------------------------------------------------------------------\u001b[0m",
      "\u001b[0;31mFileNotFoundError\u001b[0m                         Traceback (most recent call last)",
      "\u001b[0;32m<ipython-input-4-d11b534cddd4>\u001b[0m in \u001b[0;36m<module>\u001b[0;34m\u001b[0m\n\u001b[1;32m      9\u001b[0m \u001b[0mframes\u001b[0m \u001b[0;34m=\u001b[0m \u001b[0;34m[\u001b[0m\u001b[0;34m]\u001b[0m\u001b[0;34m\u001b[0m\u001b[0;34m\u001b[0m\u001b[0m\n\u001b[1;32m     10\u001b[0m \u001b[0;32mfor\u001b[0m \u001b[0mi\u001b[0m \u001b[0;32min\u001b[0m \u001b[0mimgs\u001b[0m\u001b[0;34m:\u001b[0m\u001b[0;34m\u001b[0m\u001b[0;34m\u001b[0m\u001b[0m\n\u001b[0;32m---> 11\u001b[0;31m     \u001b[0mnew_frame\u001b[0m \u001b[0;34m=\u001b[0m \u001b[0mImage\u001b[0m\u001b[0;34m.\u001b[0m\u001b[0mopen\u001b[0m\u001b[0;34m(\u001b[0m\u001b[0mi\u001b[0m\u001b[0;34m)\u001b[0m\u001b[0;34m\u001b[0m\u001b[0;34m\u001b[0m\u001b[0m\n\u001b[0m\u001b[1;32m     12\u001b[0m     \u001b[0mframes\u001b[0m\u001b[0;34m.\u001b[0m\u001b[0mappend\u001b[0m\u001b[0;34m(\u001b[0m\u001b[0mnew_frame\u001b[0m\u001b[0;34m)\u001b[0m\u001b[0;34m\u001b[0m\u001b[0;34m\u001b[0m\u001b[0m\n\u001b[1;32m     13\u001b[0m \u001b[0;31m# Save into a GIF file that loops forever\u001b[0m\u001b[0;34m\u001b[0m\u001b[0;34m\u001b[0m\u001b[0;34m\u001b[0m\u001b[0m\n",
      "\u001b[0;32m/cm/shared/sw/pkg/devel/python3/3.7.3/lib/python3.7/site-packages/PIL/Image.py\u001b[0m in \u001b[0;36mopen\u001b[0;34m(fp, mode)\u001b[0m\n\u001b[1;32m   2650\u001b[0m \u001b[0;34m\u001b[0m\u001b[0m\n\u001b[1;32m   2651\u001b[0m     \u001b[0;32mif\u001b[0m \u001b[0mfilename\u001b[0m\u001b[0;34m:\u001b[0m\u001b[0;34m\u001b[0m\u001b[0;34m\u001b[0m\u001b[0m\n\u001b[0;32m-> 2652\u001b[0;31m         \u001b[0mfp\u001b[0m \u001b[0;34m=\u001b[0m \u001b[0mbuiltins\u001b[0m\u001b[0;34m.\u001b[0m\u001b[0mopen\u001b[0m\u001b[0;34m(\u001b[0m\u001b[0mfilename\u001b[0m\u001b[0;34m,\u001b[0m \u001b[0;34m\"rb\"\u001b[0m\u001b[0;34m)\u001b[0m\u001b[0;34m\u001b[0m\u001b[0;34m\u001b[0m\u001b[0m\n\u001b[0m\u001b[1;32m   2653\u001b[0m         \u001b[0mexclusive_fp\u001b[0m \u001b[0;34m=\u001b[0m \u001b[0;32mTrue\u001b[0m\u001b[0;34m\u001b[0m\u001b[0;34m\u001b[0m\u001b[0m\n\u001b[1;32m   2654\u001b[0m \u001b[0;34m\u001b[0m\u001b[0m\n",
      "\u001b[0;31mFileNotFoundError\u001b[0m: [Errno 2] No such file or directory: './resonance_sweeping/plots/301/301_v_phi_vs_r_hexbin_-180_to_-175.jpg'"
     ]
    }
   ],
   "metadata": {}
  },
  {
   "cell_type": "code",
   "execution_count": null,
   "source": [
    "a=2\n",
    "b=3\n",
    "print(\"this is %d test and another %d test\"%(a,b))"
   ],
   "outputs": [
    {
     "output_type": "stream",
     "name": "stdout",
     "text": [
      "this is 2 test and another 3 test\n"
     ]
    }
   ],
   "metadata": {}
  },
  {
   "cell_type": "code",
   "execution_count": 2,
   "source": [
    "!pwd"
   ],
   "outputs": [
    {
     "output_type": "stream",
     "name": "stdout",
     "text": [
      "/mnt/home/bbhattarai\n"
     ]
    }
   ],
   "metadata": {}
  },
  {
   "cell_type": "code",
   "execution_count": 3,
   "source": [
    "!hostname"
   ],
   "outputs": [
    {
     "output_type": "stream",
     "name": "stdout",
     "text": [
      "pcn-6-57\n"
     ]
    }
   ],
   "metadata": {}
  },
  {
   "cell_type": "markdown",
   "source": [
    "# Making gifs of all snapshots analysis"
   ],
   "metadata": {}
  },
  {
   "cell_type": "code",
   "execution_count": null,
   "source": [
    "from PIL import Image\n",
    "#import glob  #use it if you want to read all certain file type\n",
    "gif_path=\"/mnt/home/bbhattarai/resonance_sweeping/plots/\"    \n",
    "imgs=[]\n",
    "for i in range(0,336+1): #starting and ending value+1 of the index that identifies different file names or imgs = glob.glob(\"*.png\") can do done as well\n",
    "    filename=str(i)+\"_v_phi_vs_r_hexbin_rotated.jpg\"\n",
    "    imgs.append(gif_path+filename)\n",
    "    print(\"Scanned image from the File: \",filename,end=\"\\r\",flush=True)  \n",
    "\n",
    "frames = []\n",
    "for i in imgs:\n",
    "    new_frame = Image.open(i)\n",
    "    frames.append(new_frame)\n",
    "# Save into a GIF file that loops forever\n",
    "gifname=\"v_phi_vs_r_hexbin_rotated_all_snaps.gif\"\n",
    "frames[0].save(gif_path+gifname, format='GIF',\n",
    "               append_images=frames[1:],\n",
    "               save_all=True,\n",
    "               duration=200, loop=0)    #duration =200 looked good\n",
    "print(\"\\nSaved the GIF into the File: \",gifname)"
   ],
   "outputs": [
    {
     "output_type": "stream",
     "name": "stdout",
     "text": [
      "\n",
      "Saved the GIF into the File:  v_phi_vs_r_hexbin_rotated_all_snaps.gif\n"
     ]
    }
   ],
   "metadata": {}
  },
  {
   "cell_type": "code",
   "execution_count": 6,
   "source": [
    "from PIL import Image\n",
    "#import glob  #use it if you want to read all certain file type\n",
    "gif_path=\"/mnt/home/bbhattarai/resonance_sweeping/plots/\"    \n",
    "imgs=[]\n",
    "for i in range(0,336): #starting and ending value+1 of the index that identifies different file names or imgs = glob.glob(\"*.png\") can do done as well\n",
    "    filename=str(i)+\"x_rot_vs_y_rot_all.jpg\"\n",
    "    imgs.append(gif_path+filename)\n",
    "    print(\"Scanned image from the File: \",filename,end=\"\\r\",flush=True)  \n",
    "\n",
    "frames = []\n",
    "for i in imgs:\n",
    "    new_frame = Image.open(i)\n",
    "    frames.append(new_frame)\n",
    "# Save into a GIF file that loops forever\n",
    "gifname=\"x_rot_vs_y_rot_all.gif\"\n",
    "frames[0].save(gif_path+gifname, format='GIF',\n",
    "               append_images=frames[1:],\n",
    "               save_all=True,\n",
    "               duration=200, loop=0)    #duration =200 looked good\n",
    "print(\"\\nSaved the GIF into the File: \",gifname)"
   ],
   "outputs": [
    {
     "output_type": "stream",
     "name": "stdout",
     "text": [
      "\n",
      "Saved the GIF into the File:  x_rot_vs_y_rot_all.gif\n"
     ]
    }
   ],
   "metadata": {}
  },
  {
   "cell_type": "code",
   "execution_count": null,
   "source": [
    "from PIL import Image\n",
    "#import glob  #use it if you want to read all certain file type\n",
    "gif_path=\"/mnt/home/bbhattarai/resonance_sweeping/plots/\"    \n",
    "imgs=[]\n",
    "for i in range(0,336): #starting and ending value+1 of the index that identifies different file names or imgs = glob.glob(\"*.png\") can do done as well\n",
    "    filename=str(i)+\"_v_phi_vs_vr_hexbin_rotated.jpg\"\n",
    "    imgs.append(gif_path+filename)\n",
    "    print(\"Scanned image from the File: \",filename,end=\"\\r\",flush=True)  \n",
    "\n",
    "frames = []\n",
    "for i in imgs:\n",
    "    new_frame = Image.open(i)\n",
    "    frames.append(new_frame)\n",
    "# Save into a GIF file that loops forever\n",
    "gifname=\"v_phi_vs_vr_hexbin_rotated.gif\"\n",
    "frames[0].save(gif_path+gifname, format='GIF',\n",
    "               append_images=frames[1:],\n",
    "               save_all=True,\n",
    "               duration=200, loop=0)    #duration =200 looked good\n",
    "print(\"\\nSaved the GIF into the File: \",gifname)"
   ],
   "outputs": [],
   "metadata": {}
  }
 ]
}