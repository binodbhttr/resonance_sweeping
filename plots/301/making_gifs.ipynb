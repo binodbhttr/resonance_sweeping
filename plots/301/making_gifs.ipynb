{
 "metadata": {
  "orig_nbformat": 4,
  "kernelspec": {
   "name": "python3",
   "display_name": "Python 3",
   "language": "python"
  }
 },
 "nbformat": 4,
 "nbformat_minor": 2,
 "cells": [
  {
   "cell_type": "code",
   "execution_count": 2,
   "metadata": {},
   "outputs": [],
   "source": [
    "from PIL import Image\n",
    "#import glob  #use it if you want to read all certain file type"
   ]
  },
  {
   "cell_type": "code",
   "execution_count": 2,
   "metadata": {},
   "outputs": [
    {
     "output_type": "stream",
     "name": "stdout",
     "text": [
      "\n",
      "Saved the GIF into the File:  v_phi_vs_v_r.gif\n"
     ]
    }
   ],
   "source": [
    "from PIL import Image\n",
    "#import glob  #use it if you want to read all certain file type\n",
    "gif_path=\"./plots/301/\"    \n",
    "imgs=[]\n",
    "for i in range(0,25): #starting and ending value+1 of the index that identifies different file names or imgs = glob.glob(\"*.png\") can do done as well\n",
    "    filename=\"v_phi_vs_v_r_selected_region_\"+str(i)+\"_to_\"+str(i+1)+\".jpg\"\n",
    "    imgs.append(gif_path+filename)\n",
    "    print(\"Scanned image from the File: \",filename,end=\"\\r\",flush=True)  \n",
    "\n",
    "frames = []\n",
    "for i in imgs:\n",
    "    new_frame = Image.open(i)\n",
    "    frames.append(new_frame)\n",
    "# Save into a GIF file that loops forever\n",
    "gifname=\"v_phi_vs_v_r.gif\"\n",
    "frames[0].save(gif_path+gifname, format='GIF',\n",
    "               append_images=frames[1:],\n",
    "               save_all=True,\n",
    "               duration=300, loop=0)    #duration =200 looked good\n",
    "print(\"\\nSaved the GIF into the File: \",gifname)"
   ]
  },
  {
   "cell_type": "code",
   "execution_count": 5,
   "metadata": {},
   "outputs": [
    {
     "output_type": "stream",
     "name": "stdout",
     "text": [
      "270_v_phi_vs_v_r_selected_region.jpg  snapshot_301.ipynb\n290_v_phi_vs_v_r_selected_region.jpg  test_331.jpg\n301_v_phi_vs_v_r_selected_region.jpg  test.ipynb\nB3\t\t\t\t      test.jpg\nceph\t\t\t\t      test.py\nplots\t\t\t\t      test_snapshot_321.ipynb\nrandom_codes.py\t\t\t      v_phi_vs_r_hexbin_old.jpg\nsnapshot_270.ipynb\t\t      v_phi_vs_r.jpg\nsnapshot_290.ipynb\t\t      v_phi_vs_v_r_selected_region.jpg\n"
     ]
    }
   ],
   "source": []
  },
  {
   "source": [
    "# Making gif of v_phi_vs_r"
   ],
   "cell_type": "markdown",
   "metadata": {}
  },
  {
   "cell_type": "code",
   "execution_count": 5,
   "metadata": {},
   "outputs": [
    {
     "output_type": "stream",
     "name": "stdout",
     "text": [
      "\n",
      "Saved the GIF into the File:  v_phi_vs_r_at_all_angles.gif\n"
     ]
    }
   ],
   "source": [
    "gif_path=\"./resonance_sweeping/plots/301/\"    \n",
    "snapshot=301\n",
    "imgs=[]\n",
    "for i in range(-180,180,5): #starting and ending value+1 of the index that identifies different file names or imgs = glob.glob(\"*.png\") can do done as well\n",
    "    filename=str(snapshot)+\"_v_phi_vs_r_hexbin_\"+str(i)+\"_to_\"+str(i+5)+\".jpg\"\n",
    "    imgs.append(gif_path+filename)\n",
    "    print(\"Scanned image from the File: \",filename,end=\"\\r\",flush=True)  \n",
    "\n",
    "frames = []\n",
    "for i in imgs:\n",
    "    new_frame = Image.open(i)\n",
    "    frames.append(new_frame)\n",
    "# Save into a GIF file that loops forever\n",
    "gifname=\"v_phi_vs_r_at_all_angles.gif\"\n",
    "frames[0].save(gif_path+gifname, format='GIF',\n",
    "               append_images=frames[1:],\n",
    "               save_all=True,\n",
    "               duration=300, loop=0)    #duration =200 looked good\n",
    "print(\"\\nSaved the GIF into the File: \",gifname)"
   ]
  },
  {
   "cell_type": "code",
   "execution_count": 16,
   "metadata": {},
   "outputs": [
    {
     "output_type": "stream",
     "name": "stdout",
     "text": [
      "this is 2 test and another 3 test\n"
     ]
    }
   ],
   "source": [
    "a=2\n",
    "b=3\n",
    "print(\"this is %d test and another %d test\"%(a,b))"
   ]
  },
  {
   "cell_type": "code",
   "execution_count": 4,
   "metadata": {},
   "outputs": [
    {
     "output_type": "stream",
     "name": "stdout",
     "text": [
      "/mnt/home/bbhattarai\n"
     ]
    }
   ],
   "source": [
    "!pwd"
   ]
  },
  {
   "cell_type": "code",
   "execution_count": null,
   "metadata": {},
   "outputs": [],
   "source": []
  }
 ]
}