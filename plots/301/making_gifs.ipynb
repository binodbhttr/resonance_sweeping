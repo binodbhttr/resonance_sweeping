{
 "metadata": {
  "orig_nbformat": 4,
  "kernelspec": {
   "name": "python3",
   "display_name": "Python 3",
   "language": "python"
  },
  "language_info": {
   "name": "python",
   "version": "3.7.3",
   "mimetype": "text/x-python",
   "codemirror_mode": {
    "name": "ipython",
    "version": 3
   },
   "pygments_lexer": "ipython3",
   "nbconvert_exporter": "python",
   "file_extension": ".py"
  }
 },
 "nbformat": 4,
 "nbformat_minor": 2,
 "cells": [
  {
   "cell_type": "code",
   "execution_count": null,
   "source": [
    "from PIL import Image\n",
    "#import glob  #use it if you want to read all certain file type\n",
    "gif_path=\"./plots/301/\"    \n",
    "imgs=[]\n",
    "for i in range(0,25): #starting and ending value+1 of the index that identifies different file names or imgs = glob.glob(\"*.png\") can do done as well\n",
    "    filename=\"v_phi_vs_v_r_selected_region_\"+str(i)+\"_to_\"+str(i+1)+\".jpg\"\n",
    "    imgs.append(gif_path+filename)\n",
    "    print(\"Scanned image from the File: \",filename,end=\"\\r\",flush=True)  \n",
    "\n",
    "frames = []\n",
    "for i in imgs:\n",
    "    new_frame = Image.open(i)\n",
    "    frames.append(new_frame)\n",
    "# Save into a GIF file that loops forever\n",
    "gifname=\"v_phi_vs_v_r.gif\"\n",
    "frames[0].save(gif_path+gifname, format='GIF',\n",
    "               append_images=frames[1:],\n",
    "               save_all=True,\n",
    "               duration=300, loop=0)    #duration =200 looked good\n",
    "print(\"\\nSaved the GIF into the File: \",gifname)"
   ],
   "outputs": [],
   "metadata": {}
  },
  {
   "cell_type": "code",
   "execution_count": 2,
   "source": [
    "!hostname"
   ],
   "outputs": [
    {
     "output_type": "stream",
     "name": "stdout",
     "text": [
      "pcn-6-43\n"
     ]
    }
   ],
   "metadata": {}
  },
  {
   "cell_type": "markdown",
   "source": [
    "# Making gif of v_phi_vs_r"
   ],
   "metadata": {}
  },
  {
   "cell_type": "code",
   "execution_count": null,
   "source": [
    "gif_path=\"./resonance_sweeping/plots/301/\"    \n",
    "snapshot=301\n",
    "imgs=[]\n",
    "for i in range(-180,180,5): #starting and ending value+1 of the index that identifies different file names or imgs = glob.glob(\"*.png\") can do done as well\n",
    "    filename=str(snapshot)+\"_v_phi_vs_r_hexbin_\"+str(i)+\"_to_\"+str(i+5)+\".jpg\"\n",
    "    imgs.append(gif_path+filename)\n",
    "    print(\"Scanned image from the File: \",filename,end=\"\\r\",flush=True)  \n",
    "\n",
    "frames = []\n",
    "for i in imgs:\n",
    "    new_frame = Image.open(i)\n",
    "    frames.append(new_frame)\n",
    "# Save into a GIF file that loops forever\n",
    "gifname=\"v_phi_vs_r_at_all_angles.gif\"\n",
    "frames[0].save(gif_path+gifname, format='GIF',\n",
    "               append_images=frames[1:],\n",
    "               save_all=True,\n",
    "               duration=300, loop=0)    #duration =200 looked good\n",
    "print(\"\\nSaved the GIF into the File: \",gifname)"
   ],
   "outputs": [],
   "metadata": {}
  },
  {
   "cell_type": "code",
   "execution_count": null,
   "source": [
    "!hostname"
   ],
   "outputs": [],
   "metadata": {}
  },
  {
   "cell_type": "markdown",
   "source": [
    "# Making gifs of all snapshots analysis"
   ],
   "metadata": {}
  },
  {
   "cell_type": "code",
   "execution_count": null,
   "source": [
    "from PIL import Image\n",
    "#import glob  #use it if you want to read all certain file type\n",
    "gif_path=\"/mnt/home/bbhattarai/resonance_sweeping/plots/v_phi_vs_r_hexbin_rotated_all_snaps/\"    \n",
    "imgs=[]\n",
    "for i in range(0,336+1): #starting and ending value+1 of the index that identifies different file names or imgs = glob.glob(\"*.png\") can do done as well\n",
    "    filename=str(i)+\"_v_phi_vs_r_hexbin_rotated.jpg\"\n",
    "    imgs.append(gif_path+filename)\n",
    "    print(\"Scanned image from the File: \",filename,end=\"\\r\",flush=True)  \n",
    "\n",
    "frames = []\n",
    "for i in imgs:\n",
    "    new_frame = Image.open(i)\n",
    "    frames.append(new_frame)\n",
    "# Save into a GIF file that loops forever\n",
    "gifname=\"v_phi_vs_r_hexbin_rotated_all_snaps.gif\"\n",
    "frames[0].save(gif_path+gifname, format='GIF',\n",
    "               append_images=frames[1:],\n",
    "               save_all=True,\n",
    "               duration=200, loop=0)    #duration =200 looked good\n",
    "print(\"\\nSaved the GIF into the File: \",gifname)"
   ],
   "outputs": [],
   "metadata": {}
  },
  {
   "cell_type": "code",
   "execution_count": null,
   "source": [
    "from PIL import Image\n",
    "#import glob  #use it if you want to read all certain file type\n",
    "gif_path=\"/mnt/home/bbhattarai/resonance_sweeping/plots/x_rot_vs_y_rot_all/\"    \n",
    "imgs=[]\n",
    "for i in range(0,336): #starting and ending value+1 of the index that identifies different file names or imgs = glob.glob(\"*.png\") can do done as well\n",
    "    filename=str(i)+\"x_rot_vs_y_rot_all.jpg\"\n",
    "    imgs.append(gif_path+filename)\n",
    "    print(\"Scanned image from the File: \",filename,end=\"\\r\",flush=True)  \n",
    "\n",
    "frames = []\n",
    "for i in imgs:\n",
    "    new_frame = Image.open(i)\n",
    "    frames.append(new_frame)\n",
    "# Save into a GIF file that loops forever\n",
    "gifname=\"x_rot_vs_y_rot_all.gif\"\n",
    "frames[0].save(gif_path+gifname, format='GIF',\n",
    "               append_images=frames[1:],\n",
    "               save_all=True,\n",
    "               duration=200, loop=0)    #duration =200 looked good\n",
    "print(\"\\nSaved the GIF into the File: \",gifname)"
   ],
   "outputs": [],
   "metadata": {}
  },
  {
   "cell_type": "code",
   "execution_count": null,
   "source": [
    "from PIL import Image\n",
    "#import glob  #use it if you want to read all certain file type\n",
    "gif_path=\"/mnt/home/bbhattarai/resonance_sweeping/plots/v_phi_vs_vr_hexbin_rotated/\"    \n",
    "imgs=[]\n",
    "for i in range(0,336): #starting and ending value+1 of the index that identifies different file names or imgs = glob.glob(\"*.png\") can do done as well\n",
    "    filename=str(i)+\"_v_phi_vs_vr_hexbin_rotated.jpg\"\n",
    "    imgs.append(gif_path+filename)\n",
    "    print(\"Scanned image from the File: \",filename,end=\"\\r\",flush=True)  \n",
    "\n",
    "frames = []\n",
    "for i in imgs:\n",
    "    new_frame = Image.open(i)\n",
    "    frames.append(new_frame)\n",
    "# Save into a GIF file that loops forever\n",
    "gifname=\"v_phi_vs_vr_hexbin_rotated.gif\"\n",
    "frames[0].save(gif_path+gifname, format='GIF',\n",
    "               append_images=frames[1:],\n",
    "               save_all=True,\n",
    "               duration=200, loop=0)    #duration =200 looked good\n",
    "print(\"\\nSaved the GIF into the File: \",gifname)"
   ],
   "outputs": [],
   "metadata": {}
  }
 ]
}