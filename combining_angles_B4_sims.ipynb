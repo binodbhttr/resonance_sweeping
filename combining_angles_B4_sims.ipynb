{
 "cells": [
  {
   "cell_type": "code",
   "execution_count": 1,
   "source": [
    "import numpy as np \n",
    "import pickle\n",
    "from matplotlib import pyplot as plt\n",
    "from galpy.util import bovy_coords as coords\n",
    "import os\n",
    "import sys\n",
    "!hostname"
   ],
   "outputs": [
    {
     "output_type": "stream",
     "name": "stdout",
     "text": [
      "/mnt/home/bbhattarai/.local/lib/python3.7/site-packages/galpy/util/bovy_coords.py:6: FutureWarning: galpy.util.bovy_coords is being deprecated in favor of galpy.util.coords; all functions in there are the same; please switch to the new import, because the old import will be removed in v1.9\n",
      "  warnings.warn('galpy.util.bovy_coords is being deprecated in favor of galpy.util.coords; all functions in there are the same; please switch to the new import, because the old import will be removed in v1.9',FutureWarning)\n",
      "\n",
      "pcn-13-51\n"
     ]
    }
   ],
   "metadata": {}
  },
  {
   "cell_type": "code",
   "execution_count": 4,
   "source": [
    "datapath=\"/mnt/home/bbhattarai/resonance_sweeping/\"\n",
    "\n",
    "\n"
   ],
   "outputs": [],
   "metadata": {}
  },
  {
   "cell_type": "code",
   "execution_count": 7,
   "source": [
    "angles=list()\n",
    "for i in range(1,8+1,1):\n",
    "    start  = int(i*42)-42\n",
    "    finish = int(i*42)\n",
    "    datafilename=str(start)+\"_to_\"+str(finish)+\"saved_barangles_sim_B4.ang\"\n",
    "    ang_stored = open(datapath+datafilename,'rb')\n",
    "    all_bangles=pickle.load(ang_stored)\n",
    "    angles.extend(all_bangles)\n",
    "    print(\"Reading form the file...\",datafilename)\n",
    "    #print((all_bangles))\n",
    "\n",
    "#print(angles)\n",
    "angles=np.array(angles)\n",
    "\n",
    "print(angles)\n",
    "\n",
    "print(len(angles))\n",
    "\n",
    "\n",
    "datafilename=\"0_to_336_B3_saved_barangles_combined.ang\"\n",
    "\n",
    "#with open(datapath+datafilename, 'wb') as output:\n",
    "#        pickle.dump(angles, output)"
   ],
   "outputs": [
    {
     "output_type": "stream",
     "name": "stdout",
     "text": [
      "Reading form the file... 0_to_42saved_barangles_sim_B4.ang\n",
      "Reading form the file... 42_to_84saved_barangles_sim_B4.ang\n",
      "Reading form the file... 84_to_126saved_barangles_sim_B4.ang\n",
      "Reading form the file... 126_to_168saved_barangles_sim_B4.ang\n",
      "Reading form the file... 168_to_210saved_barangles_sim_B4.ang\n",
      "Reading form the file... 210_to_252saved_barangles_sim_B4.ang\n",
      "Reading form the file... 252_to_294saved_barangles_sim_B4.ang\n",
      "Reading form the file... 294_to_336saved_barangles_sim_B4.ang\n",
      "[ 123.49999772 -150.49998799  -21.50001754  142.49999681 -136.49997939\n",
      "   10.49998918  166.49999915  -35.49999038    2.50001943   22.49997247\n",
      " -118.50000139 -112.49994117  159.49999828  159.4999842   165.49995279\n",
      " -113.50000207   31.49999613   58.50002424 -128.49998225 -119.49996638\n",
      "   47.49999907   29.4999603    29.50000322 -165.49999515  177.49999868\n",
      "  -42.5000028   -60.50000297  -88.49998361 -117.49995316 -148.50000417\n",
      "   -2.49999964  140.49999069  119.49997734 -108.49999924   23.50002508\n",
      "   -6.5000103   130.50000086  -95.4999425  -130.49997766   -0.49999957\n",
      "  136.50001098   94.49995598 -135.49994886   -8.50000281  -48.49999219\n",
      "   85.49994936 -150.49998576  160.49998257  -73.49989063   59.49999983\n",
      " -175.49999955  -53.50000155   71.49995749   28.49996183  145.49999653\n",
      "   99.49996076 -144.49999359  -25.5000014   -73.49995115   44.49999325\n",
      "  160.49999766  106.50000356 -135.49990158  -18.49999709  -72.50003317\n",
      "   40.50000118  159.49999886  -86.49996325   29.49999322  -29.49994494\n",
      "   88.49999311 -162.49996955  -46.50000091 -109.49997073    5.50000184\n",
      "  116.49998392 -133.4999815   166.49999759  -81.50001293   28.49995729\n",
      "  134.5000009    73.5000006   179.49999504  -74.49995502   31.49997181\n",
      "  -31.50000808   72.49998674   89.50000929  105.49998616  121.49999937\n",
      "  139.50000089  155.49999224  173.49999774 -169.49998184 -152.49998306\n",
      " -135.4999591  -118.50000809 -102.49997448  -85.49996274  -68.50000263\n",
      "  -51.50001682  152.499993    170.49999994 -174.4999994  -156.49998164\n",
      " -139.49999752 -122.49996949 -107.49998748  -90.5000153   -75.4999861\n",
      "  -59.50000874  -43.49990362  -28.49999395  -10.49998503    5.4999994\n",
      "   23.49998591   39.49999864   56.49998215   72.50003409   88.50003073\n",
      "  106.499984    122.49997969  138.499958    156.49998275  173.49997964\n",
      "   12.50000001   28.49999974   45.49991351   64.49998315   79.49993255\n",
      "   96.49985978  112.49992209  129.50000102  144.49999752  161.49999028\n",
      "  177.49999965 -165.49999127 -149.4999999  -133.49996892 -117.49999242\n",
      " -100.49999567  -85.49997831  -68.49997786  -51.49996024  -35.49999712\n",
      "  164.4999942  -176.49997326 -162.49999697 -146.4999851  -130.49998511\n",
      " -113.49991723  -98.49995231  -83.49999801  -66.49995202  -50.499923\n",
      "  -33.49999584  -18.50000703   -2.49999261   14.49999687   31.49998437\n",
      "   46.49999576   64.49999007   79.50000136   95.49998605  113.50000868\n",
      "  129.49998189  144.49996219  161.4999906   176.49997828 -166.4999654\n",
      " -149.49998258 -135.499978   -119.49996298   81.49998263   96.50000487\n",
      "  112.49999184  129.49999737  145.49999033  159.49998393  175.49999937\n",
      " -170.49998413 -151.49998538 -137.49995477 -121.49998103 -104.49988245\n",
      "   94.49999259  109.50000017  123.49997565  140.49999999  154.49999247\n",
      "   -8.50000352    8.50000611   23.50000317   39.49998966   54.49999893\n",
      "   69.50001709   85.50000079  103.49994875  117.49998121  133.4999794\n",
      "  149.49998987  163.49999312  179.49999552 -162.4999636  -148.4999743\n",
      "   51.49998008   65.49998645   80.49998063   98.49997227  112.49998366\n",
      "  128.49998228  142.49999119  158.50000017  175.49998387 -168.4999994\n",
      " -152.4999851  -139.49998853 -121.49995178 -107.50000056  -92.49999823\n",
      "  -77.49996779  -61.49998129  -44.49999782  -29.49998317  -15.50001284\n",
      "   -1.50001089   14.500016     30.50000904   45.49998537   62.50001013\n",
      "   77.50000113   91.49994425  107.49993842  123.49997378  136.49991804\n",
      "  152.49999087  166.49999811    5.49999792   22.50002861   37.50000178\n",
      "   52.50000125   67.49997661   81.49999244   97.49995981  111.49997909\n",
      "  127.49999938  141.49996359  156.49998918  170.49998427 -173.49999433\n",
      " -159.49997452 -143.49999378 -127.50000943 -114.49993485  -98.4999984\n",
      "  -84.50000218  -67.49994999  -51.49999289  -36.49999121  -23.49999342\n",
      "   -8.50000155    7.49999276   22.49997035   38.49999905   53.49998222\n",
      "   67.49991134   81.50000563   97.49990612  112.49998499  127.50000007\n",
      "  141.49997245  156.49997795  169.49998691 -173.49999198 -159.499997\n",
      " -146.4999949  -129.49999039 -114.49999461 -100.49996918  -85.4999987\n",
      "  -70.49998405  -58.49999483  -43.49999611  -29.49999834  -13.49999988\n",
      "    0.50000364 -160.49999103 -145.49999881 -129.49993576 -118.49997252\n",
      " -103.49999049  -87.49991419  -72.50000623  -59.49999309  -46.49998058\n",
      "  -30.49999691  -13.49997268   -0.50000104   13.49999427   28.50000561\n",
      "   44.49998105   57.50000957   71.5000197    87.49999679  100.49999528\n",
      "  115.49998941  129.49997349  144.49998271  157.50000094  173.49999097\n",
      " -173.50000018 -160.4999747  -145.49999878 -132.49997322 -117.50001409\n",
      " -103.49997779  -90.4999926   -74.4999813   123.49999491  137.49998837\n",
      "  151.4999522   162.49998982  178.49999309 -167.49999774 -154.49999543\n",
      " -138.49998734 -125.49988356 -112.49989991  -97.49995895   98.49999671\n",
      "  109.49998129  126.49998396  139.49991044  153.4999966   166.49997221\n",
      " -179.49998556]\n",
      "336\n"
     ]
    }
   ],
   "metadata": {}
  },
  {
   "cell_type": "code",
   "execution_count": null,
   "source": [],
   "outputs": [],
   "metadata": {}
  },
  {
   "cell_type": "code",
   "execution_count": 34,
   "source": [
    "datapath=\"/mnt/home/bbhattarai/B3/\"\n",
    "save_datapath=\"/mnt/home/bbhattarai/resonance_sweeping/\"\n",
    "plotpath=\"/mnt/home/bbhattarai/resonance_sweeping/plots/\"\n",
    "\n",
    "i=336\n",
    "\n",
    "snapshot=i\n",
    "pfile = open(datapath+'step'+str(snapshot)+'.p', 'rb')\n",
    "idd,x,y,z,vx,vy,vz,mass=pickle.load(pfile)\n",
    "#Converting to cylindrical\n",
    "vr,vphi,vzz=coords.rect_to_cyl_vec(vx,vy,vz,x,y,z)\n",
    "r,phi,zz=coords.rect_to_cyl(x,y,z)\n",
    "#converting phi to degrees\n",
    "phi=np.rad2deg(phi)\n",
    "\n",
    "#calculating bar_angle\n",
    "discindx=(mass<1e-7)\n",
    "barsample=(r>1)*(r<3)*discindx\n",
    "counts, bins, patches=plt.hist(phi[barsample],bins=360,histtype='step')\n",
    "bin_centres=bins[:-1]+(bins[1]-bins[0])/2\n",
    "max_indx=np.argmax(counts)\n",
    "barangle_degrees=bin_centres[max_indx]\n",
    "#a.append(barangle_degrees)\n",
    "print(barangle_degrees)   \n"
   ],
   "outputs": [
    {
     "output_type": "stream",
     "name": "stdout",
     "text": [
      "-163.4999946432331\n"
     ]
    },
    {
     "output_type": "display_data",
     "data": {
      "text/plain": [
       "<Figure size 432x288 with 1 Axes>"
      ],
      "image/png": "[encoded data removed]"
     },
     "metadata": {
      "needs_background": "light"
     }
    }
   ],
   "metadata": {}
  },
  {
   "cell_type": "code",
   "execution_count": 58,
   "source": [
    "print(type(angles))\n",
    "print(type(barangle_degrees))\n",
    "bd=np.array([barangle_degrees])\n",
    "\n",
    "print(bd)"
   ],
   "outputs": [
    {
     "output_type": "stream",
     "name": "stdout",
     "text": [
      "<class 'numpy.ndarray'>\n",
      "<class 'numpy.float64'>\n",
      "[-163.49999464]\n"
     ]
    }
   ],
   "metadata": {}
  },
  {
   "cell_type": "code",
   "execution_count": 64,
   "source": [
    "c=np.concatenate((angles,bd))\n",
    "print(len(c))"
   ],
   "outputs": [
    {
     "output_type": "stream",
     "name": "stdout",
     "text": [
      "337\n"
     ]
    }
   ],
   "metadata": {}
  },
  {
   "cell_type": "code",
   "execution_count": 66,
   "source": [
    "savedatapath=\"/mnt/home/bbhattarai/resonance_sweeping/\"\n",
    "\n",
    "datafilename=\"0_to_336_B3_saved_barangles_combined.ang\"\n",
    "\n",
    "with open(savedatapath+datafilename, 'wb') as output:\n",
    "    pickle.dump(c, output)"
   ],
   "outputs": [],
   "metadata": {}
  },
  {
   "cell_type": "code",
   "execution_count": null,
   "source": [],
   "outputs": [],
   "metadata": {}
  }
 ],
 "metadata": {
  "orig_nbformat": 4,
  "kernelspec": {
   "name": "python3",
   "display_name": "Python 3",
   "language": "python"
  },
  "language_info": {
   "name": "python",
   "version": "3.7.3",
   "mimetype": "text/x-python",
   "codemirror_mode": {
    "name": "ipython",
    "version": 3
   },
   "pygments_lexer": "ipython3",
   "nbconvert_exporter": "python",
   "file_extension": ".py"
  }
 },
 "nbformat": 4,
 "nbformat_minor": 2
}